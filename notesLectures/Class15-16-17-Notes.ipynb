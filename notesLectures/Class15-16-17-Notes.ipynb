{
 "cells": [
  {
   "cell_type": "code",
   "execution_count": 1,
   "metadata": {},
   "outputs": [
    {
     "data": {
      "text/plain": [
       "int"
      ]
     },
     "execution_count": 1,
     "metadata": {},
     "output_type": "execute_result"
    }
   ],
   "source": [
    "x = 42\n",
    "type(x)"
   ]
  },
  {
   "cell_type": "code",
   "execution_count": 2,
   "metadata": {},
   "outputs": [
    {
     "data": {
      "text/plain": [
       "list"
      ]
     },
     "execution_count": 2,
     "metadata": {},
     "output_type": "execute_result"
    }
   ],
   "source": [
    "myList = [1,2.0, \"three\"]\n",
    "type(myList)"
   ]
  },
  {
   "cell_type": "code",
   "execution_count": 3,
   "metadata": {},
   "outputs": [
    {
     "data": {
      "text/plain": [
       "function"
      ]
     },
     "execution_count": 3,
     "metadata": {},
     "output_type": "execute_result"
    }
   ],
   "source": [
    "def add_one(x):\n",
    "    return x+1\n",
    "type(add_one)"
   ]
  },
  {
   "cell_type": "code",
   "execution_count": 4,
   "metadata": {},
   "outputs": [
    {
     "data": {
      "text/plain": [
       "module"
      ]
     },
     "execution_count": 4,
     "metadata": {},
     "output_type": "execute_result"
    }
   ],
   "source": [
    "import requests\n",
    "type(requests)"
   ]
  },
  {
   "cell_type": "code",
   "execution_count": 5,
   "metadata": {},
   "outputs": [
    {
     "data": {
      "text/plain": [
       "type"
      ]
     },
     "execution_count": 5,
     "metadata": {},
     "output_type": "execute_result"
    }
   ],
   "source": [
    "type(type)"
   ]
  },
  {
   "cell_type": "code",
   "execution_count": null,
   "metadata": {},
   "outputs": [],
   "source": [
    "# almost everything in Python is defined as a Class and the type function lets us see what kind\n",
    "# of Class that object is\n",
    "\n",
    "# a Class is a blueprint for a thing and an object is an instance of that thing\n",
    "# a Class defines what a thing from that class \"looks like\", what it can do, what its\n",
    "# properties are, that sort of thing\n",
    "\n",
    "# for example, there's a dictionary class and every time we make a dictionary, it uses\n",
    "# the class definition to make the instance of a dictionary\n",
    "\n",
    "# all things built from the same class will have the same properties available to them as well\n",
    "# as methods\n",
    "\n",
    "# an object is an instantiation of a class and when you create an object, it has certain \n",
    "# properties because it is a member of a particular class\n",
    "\n",
    "# the values of properties can differ across objects"
   ]
  },
  {
   "cell_type": "code",
   "execution_count": 6,
   "metadata": {},
   "outputs": [
    {
     "data": {
      "text/plain": [
       "'MR. MEESEEKS'"
      ]
     },
     "execution_count": 6,
     "metadata": {},
     "output_type": "execute_result"
    }
   ],
   "source": [
    "# in python, pretty much everything is an object\n",
    "# when we create a string\n",
    "myString = \"mr. meeseeks\"\n",
    "\n",
    "# there are certain things we can do with a string because it's a string\n",
    "myString.upper()"
   ]
  },
  {
   "cell_type": "code",
   "execution_count": 7,
   "metadata": {},
   "outputs": [
    {
     "ename": "AttributeError",
     "evalue": "'int' object has no attribute 'upper'",
     "output_type": "error",
     "traceback": [
      "\u001b[0;31m---------------------------------------------------------------------------\u001b[0m",
      "\u001b[0;31mAttributeError\u001b[0m                            Traceback (most recent call last)",
      "\u001b[0;32m<ipython-input-7-bb90ad9a9e51>\u001b[0m in \u001b[0;36m<module>\u001b[0;34m\u001b[0m\n\u001b[1;32m      1\u001b[0m \u001b[0mmyNum\u001b[0m \u001b[0;34m=\u001b[0m \u001b[0;36m7\u001b[0m\u001b[0;34m\u001b[0m\u001b[0;34m\u001b[0m\u001b[0m\n\u001b[0;32m----> 2\u001b[0;31m \u001b[0mmyNum\u001b[0m\u001b[0;34m.\u001b[0m\u001b[0mupper\u001b[0m\u001b[0;34m(\u001b[0m\u001b[0;34m)\u001b[0m\u001b[0;34m\u001b[0m\u001b[0;34m\u001b[0m\u001b[0m\n\u001b[0m",
      "\u001b[0;31mAttributeError\u001b[0m: 'int' object has no attribute 'upper'"
     ]
    }
   ],
   "source": [
    "myNum = 7\n",
    "myNum.upper()"
   ]
  },
  {
   "cell_type": "code",
   "execution_count": null,
   "metadata": {},
   "outputs": [],
   "source": [
    "# we get an error above because integers don't have a method called upper"
   ]
  },
  {
   "cell_type": "code",
   "execution_count": null,
   "metadata": {},
   "outputs": [],
   "source": [
    "# method are functions that can only be called on particular objects\n",
    "# strings have an upper method, ints do not\n",
    "# methods run on the objects that call them"
   ]
  },
  {
   "cell_type": "code",
   "execution_count": 8,
   "metadata": {},
   "outputs": [
    {
     "data": {
      "text/plain": [
       "[1, 2.0, 'three']"
      ]
     },
     "execution_count": 8,
     "metadata": {},
     "output_type": "execute_result"
    }
   ],
   "source": [
    "myList"
   ]
  },
  {
   "cell_type": "code",
   "execution_count": 10,
   "metadata": {},
   "outputs": [
    {
     "data": {
      "text/plain": [
       "[1, 2.0, 'three', 'mr. meeseeks', 'mr. meeseeks']"
      ]
     },
     "execution_count": 10,
     "metadata": {},
     "output_type": "execute_result"
    }
   ],
   "source": [
    "myList.append(myString)\n",
    "myList"
   ]
  },
  {
   "cell_type": "code",
   "execution_count": 11,
   "metadata": {},
   "outputs": [],
   "source": [
    "myList.remove(\"mr. meeseeks\")"
   ]
  },
  {
   "cell_type": "code",
   "execution_count": 12,
   "metadata": {},
   "outputs": [
    {
     "data": {
      "text/plain": [
       "[1, 2.0, 'three', 'mr. meeseeks']"
      ]
     },
     "execution_count": 12,
     "metadata": {},
     "output_type": "execute_result"
    }
   ],
   "source": [
    "myList"
   ]
  },
  {
   "cell_type": "code",
   "execution_count": null,
   "metadata": {},
   "outputs": [],
   "source": [
    "# .append and .remove are list methods.  they do not run on just any object."
   ]
  },
  {
   "cell_type": "code",
   "execution_count": 13,
   "metadata": {},
   "outputs": [
    {
     "ename": "AttributeError",
     "evalue": "'str' object has no attribute 'append'",
     "output_type": "error",
     "traceback": [
      "\u001b[0;31m---------------------------------------------------------------------------\u001b[0m",
      "\u001b[0;31mAttributeError\u001b[0m                            Traceback (most recent call last)",
      "\u001b[0;32m<ipython-input-13-eb5cd0cd835a>\u001b[0m in \u001b[0;36m<module>\u001b[0;34m\u001b[0m\n\u001b[0;32m----> 1\u001b[0;31m \u001b[0mmyString\u001b[0m\u001b[0;34m.\u001b[0m\u001b[0mappend\u001b[0m\u001b[0;34m(\u001b[0m\u001b[0;34m\"!\"\u001b[0m\u001b[0;34m)\u001b[0m\u001b[0;34m\u001b[0m\u001b[0;34m\u001b[0m\u001b[0m\n\u001b[0m",
      "\u001b[0;31mAttributeError\u001b[0m: 'str' object has no attribute 'append'"
     ]
    }
   ],
   "source": [
    "myString.append(\"!\")\n",
    "# again, this causes an error because strings don't have a method called append"
   ]
  },
  {
   "cell_type": "code",
   "execution_count": null,
   "metadata": {},
   "outputs": [],
   "source": [
    "# methods are just functions that run on certain kinds of objects. they can take parameters\n",
    "# just like functions do."
   ]
  },
  {
   "cell_type": "code",
   "execution_count": 21,
   "metadata": {},
   "outputs": [],
   "source": [
    "# create our own classes\n",
    "\n",
    "class Fruit:\n",
    "    def __init__(self,definedName,definedTaste):\n",
    "        # this looks like a regular old function but it is a method of the Fruit class\n",
    "        # the __init__ method is a function that sets values for any parameters when the object\n",
    "        # is first created. you don't directly call __init__, but it runs when you\n",
    "        # create a new instantiation of an object\n",
    "        \n",
    "        # the self variable is treated specially inside a class definition\n",
    "        # it lets you access variables about the class in other methods within the class\n",
    "        self.name = definedName\n",
    "        self.taste = definedTaste\n",
    "        \n",
    "        # properties are variables that describe something about an object\n",
    "        # name and taste are properties of the Fruit class\n",
    "\n",
    "    # notice that the method definition is inline with the __init__ definition\n",
    "    def printDetails(self):\n",
    "        print(\"This fruit is a \"+self.name+\". It tastes \"+self.taste)"
   ]
  },
  {
   "cell_type": "code",
   "execution_count": 15,
   "metadata": {},
   "outputs": [],
   "source": [
    "fruit1 = Fruit(\"strawberry\",\"sweet\")"
   ]
  },
  {
   "cell_type": "code",
   "execution_count": 16,
   "metadata": {},
   "outputs": [
    {
     "data": {
      "text/plain": [
       "__main__.Fruit"
      ]
     },
     "execution_count": 16,
     "metadata": {},
     "output_type": "execute_result"
    }
   ],
   "source": [
    "type(fruit1)"
   ]
  },
  {
   "cell_type": "code",
   "execution_count": 17,
   "metadata": {},
   "outputs": [
    {
     "data": {
      "text/plain": [
       "'strawberry'"
      ]
     },
     "execution_count": 17,
     "metadata": {},
     "output_type": "execute_result"
    }
   ],
   "source": [
    "fruit1.name # calls a property directly"
   ]
  },
  {
   "cell_type": "code",
   "execution_count": 18,
   "metadata": {},
   "outputs": [
    {
     "data": {
      "text/plain": [
       "'sweet'"
      ]
     },
     "execution_count": 18,
     "metadata": {},
     "output_type": "execute_result"
    }
   ],
   "source": [
    "fruit1.taste"
   ]
  },
  {
   "cell_type": "code",
   "execution_count": null,
   "metadata": {},
   "outputs": [],
   "source": [
    "# you can use autocomplete to autocomplete methods and properties using the tab key"
   ]
  },
  {
   "cell_type": "code",
   "execution_count": 19,
   "metadata": {},
   "outputs": [],
   "source": [
    "# create another fruit\n",
    "fruit2 = Fruit(\"lime\",\"tangy\")"
   ]
  },
  {
   "cell_type": "code",
   "execution_count": 20,
   "metadata": {},
   "outputs": [
    {
     "data": {
      "text/plain": [
       "'lime'"
      ]
     },
     "execution_count": 20,
     "metadata": {},
     "output_type": "execute_result"
    }
   ],
   "source": [
    "fruit2.name"
   ]
  },
  {
   "cell_type": "code",
   "execution_count": null,
   "metadata": {},
   "outputs": [],
   "source": [
    "# let's add a method to the Fruit object.  again, a method is just a function that can only\n",
    "# be called for a particular kind of object"
   ]
  },
  {
   "cell_type": "code",
   "execution_count": null,
   "metadata": {},
   "outputs": [],
   "source": [
    "# after you've added anything to a class, you need to redefine any instantiation of that\n",
    "# class to use the new stuff you added."
   ]
  },
  {
   "cell_type": "code",
   "execution_count": 22,
   "metadata": {},
   "outputs": [
    {
     "ename": "AttributeError",
     "evalue": "'Fruit' object has no attribute 'printDetails'",
     "output_type": "error",
     "traceback": [
      "\u001b[0;31m---------------------------------------------------------------------------\u001b[0m",
      "\u001b[0;31mAttributeError\u001b[0m                            Traceback (most recent call last)",
      "\u001b[0;32m<ipython-input-22-2cd654836f47>\u001b[0m in \u001b[0;36m<module>\u001b[0;34m\u001b[0m\n\u001b[0;32m----> 1\u001b[0;31m \u001b[0mfruit1\u001b[0m\u001b[0;34m.\u001b[0m\u001b[0mprintDetails\u001b[0m\u001b[0;34m(\u001b[0m\u001b[0;34m)\u001b[0m\u001b[0;34m\u001b[0m\u001b[0;34m\u001b[0m\u001b[0m\n\u001b[0m",
      "\u001b[0;31mAttributeError\u001b[0m: 'Fruit' object has no attribute 'printDetails'"
     ]
    }
   ],
   "source": [
    "fruit1.printDetails()\n",
    "# this error occurs because fruit1 was instantiated with the old version of the Fruit class"
   ]
  },
  {
   "cell_type": "code",
   "execution_count": 23,
   "metadata": {},
   "outputs": [],
   "source": [
    "fruit3 = Fruit(\"watermelon\",\"very sweet\")"
   ]
  },
  {
   "cell_type": "code",
   "execution_count": 24,
   "metadata": {},
   "outputs": [
    {
     "name": "stdout",
     "output_type": "stream",
     "text": [
      "This fruit is a watermelon. It tastes very sweet\n"
     ]
    }
   ],
   "source": [
    "fruit3.printDetails()"
   ]
  },
  {
   "cell_type": "code",
   "execution_count": 1,
   "metadata": {},
   "outputs": [],
   "source": [
    "# let's create a new class called EdibleFood\n",
    "\n",
    "class EdibleFood():\n",
    "    def __init__(self,definedName=\"not given\",definedTaste=\"not given\",definedEdible=False):\n",
    "        # setting a property equal to something like this sets a default value if that value\n",
    "        # isn't specified when the object is instantiated\n",
    "        self.name = definedName # gives food a name\n",
    "        self.taste = definedTaste # give food a taste\n",
    "        self.edible = definedEdible # declare whether or not it's edible\n",
    "        \n",
    "        self.eaten = 0 # how much (percentage) of the fruit that is eaten (float)\n",
    "    \n",
    "    # print the details of the food\n",
    "    def printDetails(self):\n",
    "        print(\"This is a \"+self.name+\". It tastes \"+self.taste+\".\")\n",
    "        print(\"Is it edible? \"+str(self.edible))\n",
    "        print(\"How much has been eaten? \"+str(100*self.eaten)+\"%\")\n",
    "    \n",
    "    # add a method called bite that modified the \"eaten\" property\n",
    "    def bite(self,percentage):\n",
    "        # before we take a bite, what should we check to make sure we can take a bite?\n",
    "        if (self.edible):\n",
    "            # we can theoretically take a bite\n",
    "            # food is edible so need to check if there's any left\n",
    "            if (self.eaten < 1):\n",
    "                # there is at least some of the fruit left\n",
    "                # now check that there's enough of the food left to bite\n",
    "                # given the percentage specified\n",
    "                if (percentage <= 1-self.eaten):\n",
    "                    # percentage has to be smaller or equal to whatever is left\n",
    "                    # take a bite\n",
    "                    self.eaten += percentage\n",
    "                    print(\"You ate \"+str(100*percentage)+ \"% of the \"+self.name)\n",
    "                    print(\"There is now \"+str(100 - 100*self.eaten)+\"% left.\")\n",
    "                else:\n",
    "                    print(\"You cannot eat more than what is left\")\n",
    "            else:\n",
    "                print(\"There is nothing left to eat of this fruit\")\n",
    "        else:\n",
    "            print(\"Not edible! Do not bite!\")\n",
    "    def getTaste(self):\n",
    "        print(\"Taste is: \"+self.taste)\n",
    "    def setTaste(self,newTaste):\n",
    "        # we can put checks here to make sure newTaste is a string\n",
    "        # check if taste is a string\n",
    "        if (type(newTaste) == str):\n",
    "            self.taste = newTaste\n",
    "        else:\n",
    "            print(\"Edible Food taste must be a string\")\n",
    "    \n",
    "    "
   ]
  },
  {
   "cell_type": "code",
   "execution_count": 8,
   "metadata": {},
   "outputs": [
    {
     "name": "stdout",
     "output_type": "stream",
     "text": [
      "not given\n"
     ]
    }
   ],
   "source": [
    "noNameFood = EdibleFood()\n",
    "print(noNameFood.name)"
   ]
  },
  {
   "cell_type": "code",
   "execution_count": 6,
   "metadata": {},
   "outputs": [
    {
     "data": {
      "text/plain": [
       "NoneType"
      ]
     },
     "execution_count": 6,
     "metadata": {},
     "output_type": "execute_result"
    }
   ],
   "source": [
    "type(None)"
   ]
  },
  {
   "cell_type": "code",
   "execution_count": 9,
   "metadata": {},
   "outputs": [
    {
     "name": "stdout",
     "output_type": "stream",
     "text": [
      "This is a not given. It tastes not given.\n",
      "Is it edible? False\n",
      "How much has been eaten? 0%\n"
     ]
    }
   ],
   "source": [
    "noNameFood.printDetails()"
   ]
  },
  {
   "cell_type": "code",
   "execution_count": 2,
   "metadata": {},
   "outputs": [
    {
     "name": "stdout",
     "output_type": "stream",
     "text": [
      "This is a banana. It tastes sweet.\n",
      "Is it edible? True\n",
      "How much has been eaten? 0%\n"
     ]
    }
   ],
   "source": [
    "banana1 = EdibleFood(\"banana\",\"sweet\",True)\n",
    "banana1.printDetails()"
   ]
  },
  {
   "cell_type": "code",
   "execution_count": 16,
   "metadata": {},
   "outputs": [
    {
     "name": "stdout",
     "output_type": "stream",
     "text": [
      "You ate 10.0% of the banana\n",
      "There is now 90.0% left.\n"
     ]
    }
   ],
   "source": [
    "banana1.bite(.1)"
   ]
  },
  {
   "cell_type": "code",
   "execution_count": 20,
   "metadata": {},
   "outputs": [
    {
     "name": "stdout",
     "output_type": "stream",
     "text": [
      "You ate 10.0% of the banana\n",
      "There is now 50.0% left.\n"
     ]
    }
   ],
   "source": [
    "banana1.bite(.1) # running the block multiple times calls the bite method on this object"
   ]
  },
  {
   "cell_type": "code",
   "execution_count": 22,
   "metadata": {},
   "outputs": [
    {
     "data": {
      "text/plain": [
       "'banana'"
      ]
     },
     "execution_count": 22,
     "metadata": {},
     "output_type": "execute_result"
    }
   ],
   "source": [
    "# in python, you can access properties directly and people don't get too upset about this\n",
    "# a mantra with python programmers is that \"we're all adults\", meaning you can babysit\n",
    "# yourself\n",
    "\n",
    "# why wouldn't you want to access properties directly?\n",
    "banana1.name"
   ]
  },
  {
   "cell_type": "code",
   "execution_count": 23,
   "metadata": {},
   "outputs": [],
   "source": [
    "banana1.name = 123"
   ]
  },
  {
   "cell_type": "code",
   "execution_count": 24,
   "metadata": {},
   "outputs": [
    {
     "ename": "TypeError",
     "evalue": "must be str, not int",
     "output_type": "error",
     "traceback": [
      "\u001b[0;31m---------------------------------------------------------------------------\u001b[0m",
      "\u001b[0;31mTypeError\u001b[0m                                 Traceback (most recent call last)",
      "\u001b[0;32m<ipython-input-24-3fb54f1478f2>\u001b[0m in \u001b[0;36m<module>\u001b[0;34m\u001b[0m\n\u001b[0;32m----> 1\u001b[0;31m \u001b[0mbanana1\u001b[0m\u001b[0;34m.\u001b[0m\u001b[0mprintDetails\u001b[0m\u001b[0;34m(\u001b[0m\u001b[0;34m)\u001b[0m\u001b[0;34m\u001b[0m\u001b[0;34m\u001b[0m\u001b[0m\n\u001b[0m",
      "\u001b[0;32m<ipython-input-14-94aac3f7c898>\u001b[0m in \u001b[0;36mprintDetails\u001b[0;34m(self)\u001b[0m\n\u001b[1;32m     13\u001b[0m     \u001b[0;31m# print the details of the food\u001b[0m\u001b[0;34m\u001b[0m\u001b[0;34m\u001b[0m\u001b[0;34m\u001b[0m\u001b[0m\n\u001b[1;32m     14\u001b[0m     \u001b[0;32mdef\u001b[0m \u001b[0mprintDetails\u001b[0m\u001b[0;34m(\u001b[0m\u001b[0mself\u001b[0m\u001b[0;34m)\u001b[0m\u001b[0;34m:\u001b[0m\u001b[0;34m\u001b[0m\u001b[0;34m\u001b[0m\u001b[0m\n\u001b[0;32m---> 15\u001b[0;31m         \u001b[0mprint\u001b[0m\u001b[0;34m(\u001b[0m\u001b[0;34m\"This is a \"\u001b[0m\u001b[0;34m+\u001b[0m\u001b[0mself\u001b[0m\u001b[0;34m.\u001b[0m\u001b[0mname\u001b[0m\u001b[0;34m+\u001b[0m\u001b[0;34m\". It tastes \"\u001b[0m\u001b[0;34m+\u001b[0m\u001b[0mself\u001b[0m\u001b[0;34m.\u001b[0m\u001b[0mtaste\u001b[0m\u001b[0;34m+\u001b[0m\u001b[0;34m\".\"\u001b[0m\u001b[0;34m)\u001b[0m\u001b[0;34m\u001b[0m\u001b[0;34m\u001b[0m\u001b[0m\n\u001b[0m\u001b[1;32m     16\u001b[0m         \u001b[0mprint\u001b[0m\u001b[0;34m(\u001b[0m\u001b[0;34m\"Is it edible? \"\u001b[0m\u001b[0;34m+\u001b[0m\u001b[0mstr\u001b[0m\u001b[0;34m(\u001b[0m\u001b[0mself\u001b[0m\u001b[0;34m.\u001b[0m\u001b[0medible\u001b[0m\u001b[0;34m)\u001b[0m\u001b[0;34m)\u001b[0m\u001b[0;34m\u001b[0m\u001b[0;34m\u001b[0m\u001b[0m\n\u001b[1;32m     17\u001b[0m         \u001b[0mprint\u001b[0m\u001b[0;34m(\u001b[0m\u001b[0;34m\"How much has been eaten? \"\u001b[0m\u001b[0;34m+\u001b[0m\u001b[0mstr\u001b[0m\u001b[0;34m(\u001b[0m\u001b[0;36m100\u001b[0m\u001b[0;34m*\u001b[0m\u001b[0mself\u001b[0m\u001b[0;34m.\u001b[0m\u001b[0meaten\u001b[0m\u001b[0;34m)\u001b[0m\u001b[0;34m+\u001b[0m\u001b[0;34m\"%\"\u001b[0m\u001b[0;34m)\u001b[0m\u001b[0;34m\u001b[0m\u001b[0;34m\u001b[0m\u001b[0m\n",
      "\u001b[0;31mTypeError\u001b[0m: must be str, not int"
     ]
    }
   ],
   "source": [
    "banana1.printDetails()"
   ]
  },
  {
   "cell_type": "code",
   "execution_count": 9,
   "metadata": {},
   "outputs": [],
   "source": [
    "# i recommend using getters and setters, or accessors and mutators\n",
    "# these are methods that retrieve and change object properties, respectively\n",
    "strawberry = EdibleFood(\"strawberry\",\"sweet\",True)"
   ]
  },
  {
   "cell_type": "code",
   "execution_count": 10,
   "metadata": {},
   "outputs": [
    {
     "name": "stdout",
     "output_type": "stream",
     "text": [
      "This is a strawberry. It tastes sweet.\n",
      "Is it edible? True\n",
      "How much has been eaten? 0%\n"
     ]
    }
   ],
   "source": [
    "strawberry.printDetails()"
   ]
  },
  {
   "cell_type": "code",
   "execution_count": 11,
   "metadata": {},
   "outputs": [
    {
     "name": "stdout",
     "output_type": "stream",
     "text": [
      "You ate 10.0% of the strawberry\n",
      "There is now 90.0% left.\n"
     ]
    }
   ],
   "source": [
    "strawberry.bite(.1)"
   ]
  },
  {
   "cell_type": "code",
   "execution_count": 12,
   "metadata": {},
   "outputs": [
    {
     "name": "stdout",
     "output_type": "stream",
     "text": [
      "Edible Food taste must be a string\n"
     ]
    }
   ],
   "source": [
    "strawberry.setTaste(123)"
   ]
  },
  {
   "cell_type": "code",
   "execution_count": 13,
   "metadata": {},
   "outputs": [],
   "source": [
    "strawberry.setTaste(\"very sweet\")"
   ]
  },
  {
   "cell_type": "code",
   "execution_count": 14,
   "metadata": {},
   "outputs": [
    {
     "name": "stdout",
     "output_type": "stream",
     "text": [
      "This is a strawberry. It tastes very sweet.\n",
      "Is it edible? True\n",
      "How much has been eaten? 10.0%\n"
     ]
    }
   ],
   "source": [
    "strawberry.printDetails()"
   ]
  },
  {
   "cell_type": "code",
   "execution_count": 15,
   "metadata": {},
   "outputs": [
    {
     "name": "stdout",
     "output_type": "stream",
     "text": [
      "This is a kiwi. It tastes not given.\n",
      "Is it edible? False\n",
      "How much has been eaten? 0%\n"
     ]
    }
   ],
   "source": [
    "kiwi = EdibleFood(definedName=\"kiwi\")\n",
    "kiwi.printDetails()"
   ]
  },
  {
   "cell_type": "code",
   "execution_count": 16,
   "metadata": {},
   "outputs": [
    {
     "name": "stdout",
     "output_type": "stream",
     "text": [
      "This is a kiwi. It tastes sweet tart.\n",
      "Is it edible? False\n",
      "How much has been eaten? 0%\n"
     ]
    }
   ],
   "source": [
    "kiwi.setTaste(\"sweet tart\")\n",
    "kiwi.printDetails()"
   ]
  },
  {
   "cell_type": "code",
   "execution_count": 17,
   "metadata": {},
   "outputs": [
    {
     "ename": "TypeError",
     "evalue": "__init__() got an unexpected keyword argument 'eaten'",
     "output_type": "error",
     "traceback": [
      "\u001b[0;31m---------------------------------------------------------------------------\u001b[0m",
      "\u001b[0;31mTypeError\u001b[0m                                 Traceback (most recent call last)",
      "\u001b[0;32m<ipython-input-17-21b62e101574>\u001b[0m in \u001b[0;36m<module>\u001b[0;34m\u001b[0m\n\u001b[0;32m----> 1\u001b[0;31m \u001b[0msteak\u001b[0m \u001b[0;34m=\u001b[0m \u001b[0mEdibleFood\u001b[0m\u001b[0;34m(\u001b[0m\u001b[0mdefinedName\u001b[0m\u001b[0;34m=\u001b[0m\u001b[0;34m\"steak\"\u001b[0m\u001b[0;34m,\u001b[0m\u001b[0meaten\u001b[0m\u001b[0;34m=\u001b[0m\u001b[0;36m.5\u001b[0m\u001b[0;34m)\u001b[0m\u001b[0;34m\u001b[0m\u001b[0;34m\u001b[0m\u001b[0m\n\u001b[0m",
      "\u001b[0;31mTypeError\u001b[0m: __init__() got an unexpected keyword argument 'eaten'"
     ]
    }
   ],
   "source": [
    "steak = EdibleFood(definedName=\"steak\",eaten=.5)"
   ]
  }
 ],
 "metadata": {
  "kernelspec": {
   "display_name": "Python 3",
   "language": "python",
   "name": "python3"
  },
  "language_info": {
   "codemirror_mode": {
    "name": "ipython",
    "version": 3
   },
   "file_extension": ".py",
   "mimetype": "text/x-python",
   "name": "python",
   "nbconvert_exporter": "python",
   "pygments_lexer": "ipython3",
   "version": "3.7.4"
  }
 },
 "nbformat": 4,
 "nbformat_minor": 2
}
