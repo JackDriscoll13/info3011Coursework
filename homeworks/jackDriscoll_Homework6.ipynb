{
 "cells": [
  {
   "cell_type": "markdown",
   "metadata": {},
   "source": [
    "\n",
    "\n",
    "## Problem 1  \n",
    "Write a function that takes two lists as parameters. Your function should check if an element is in both lists.  After checking all elements, your function should print the following:  \n",
    "  \n",
    "These items are in both lists: (elements that are in both lists)  \n",
    "These items are not in both lists: (elements that are not in both lists)  \n",
    "\n",
    "For example, given  \n",
    "  \n",
    "listOne = [\"a\", \"b\", \"c\", \"d\"]  \n",
    "and \n",
    "listTwo = [\"c\", \"d\", \"e\", \"f\"]  \n",
    "  \n",
    "your function would print  \n",
    "  \n",
    "These items are in both lists: c d  \n",
    "These items are not in both lists: a b e f  \n",
    "\n",
    "use the following function header:\n",
    "\n",
    "def checkItemsInList(listOne, listTwo):"
   ]
  },
  {
   "cell_type": "code",
   "execution_count": 66,
   "metadata": {},
   "outputs": [
    {
     "name": "stdout",
     "output_type": "stream",
     "text": [
      "These items are in both lists: g d\n",
      "These items are in one list: a z x b c e f l\n"
     ]
    }
   ],
   "source": [
    "##1 \n",
    "#your answer here\n",
    "listOne = [\"a\", \"b\", \"c\", \"d\"]\n",
    "listTwo = [\"c\", \"d\", \"e\", \"f\"]\n",
    "\n",
    "\n",
    "def checkItemsInList(listOne, listTwo):\n",
    "    inBoth = [] #create two empty lists to store words, one for words that are in both lists, one for words that are in only one\n",
    "    inOne = []\n",
    "    for item in listOne: #look at each item in listone\n",
    "        if item in listTwo: # if item in list 2 \n",
    "            inBoth.append(item)  # append inboth\n",
    "        elif item not in listTwo:\n",
    "            inOne.append(item) # else append inOne\n",
    "    for item in listTwo: # if item in list 2 \n",
    "        if item not in listOne: #and not in list 1 \n",
    "            inOne.append(item)  #append inOne\n",
    "    \n",
    "    print(\"These items are in both lists: \"+\" \".join(inBoth))\n",
    "    print(\"These items are in one list: \"+ \" \".join(inOne))\n",
    "\n",
    "#Test Case \n",
    "listOne = [\"a\", \"z\", \"x\", \"g\",\"b\",\"d\"]\n",
    "listTwo = [\"c\", \"d\", \"e\", \"f\",\"d\",\"g\",\"l\"]\n",
    "checkItemsInList(listOne,listTwo)"
   ]
  },
  {
   "cell_type": "markdown",
   "metadata": {},
   "source": [
    "## Problem 2\n",
    "\n",
    "Let's use numpy with a Sudoku board. [Sudoku](https://en.wikipedia.org/wiki/Sudoku) is a puzzle game where a 9x9 board is completed if each row, column, and 3x3 tile has the values 1-9. The game starts with most of the values absent and the player fills out the grid through a process of elimination."
   ]
  },
  {
   "cell_type": "markdown",
   "metadata": {},
   "source": [
    "This is a \"solved_board\" as a test case:  \n",
    "\n",
    "![Solved sudoku](http://i.imgur.com/etZoZkw.png)"
   ]
  },
  {
   "cell_type": "code",
   "execution_count": 67,
   "metadata": {},
   "outputs": [],
   "source": [
    "import numpy as np\n",
    "# let's keep it simple and make it a 9x9 array\n",
    "solvedBoard = np.array([[5, 3, 4, 6, 7, 8, 9, 1, 2],\n",
    "                        [6, 7, 2, 1, 9, 5, 3, 4, 8],\n",
    "                        [1, 9, 8, 3, 4, 2, 5, 6, 7],\n",
    "                        [8, 5, 9, 7, 6, 1, 4, 2, 3],\n",
    "                        [4, 2, 6, 8, 5, 3, 7, 9, 1],\n",
    "                        [7, 1, 3, 9, 2, 4, 8, 5, 6],\n",
    "                        [9, 6, 1, 5, 3, 7, 2, 8, 4],\n",
    "                        [2, 8, 7, 4, 1, 9, 6, 3, 5],\n",
    "                        [3, 4, 5, 2, 8, 6, 1, 7, 9]])"
   ]
  },
  {
   "cell_type": "code",
   "execution_count": 68,
   "metadata": {},
   "outputs": [
    {
     "name": "stdout",
     "output_type": "stream",
     "text": [
      "[[5 3 4 6 7 8 9 1 2]\n",
      " [6 7 2 1 9 5 3 4 8]\n",
      " [1 9 8 3 4 2 5 6 7]\n",
      " [8 5 9 7 6 1 4 2 3]\n",
      " [4 2 6 8 5 3 7 9 1]\n",
      " [7 1 3 9 2 4 8 5 6]\n",
      " [9 6 1 5 3 7 2 8 4]\n",
      " [2 8 7 4 1 9 6 3 5]\n",
      " [3 4 5 2 8 6 1 7 9]]\n"
     ]
    }
   ],
   "source": [
    "print(solvedBoard)"
   ]
  },
  {
   "cell_type": "code",
   "execution_count": 69,
   "metadata": {},
   "outputs": [
    {
     "name": "stdout",
     "output_type": "stream",
     "text": [
      "5\n",
      "5\n",
      "2\n",
      "3\n",
      "9\n"
     ]
    }
   ],
   "source": [
    "# Using numpy's accessing syntax, get the center item (single number) from the board\n",
    "print(solvedBoard[4,4])\n",
    "\n",
    "# now get the corners\n",
    "# top-left\n",
    "print(solvedBoard[0,0])\n",
    "# top-right\n",
    "print(solvedBoard[0,8])\n",
    "# bottom-left\n",
    "print(solvedBoard[8,0])\n",
    "# bottom-right\n",
    "print(solvedBoard[8,8])"
   ]
  },
  {
   "cell_type": "code",
   "execution_count": 70,
   "metadata": {},
   "outputs": [
    {
     "name": "stdout",
     "output_type": "stream",
     "text": [
      "[[7 6 1]\n",
      " [8 5 3]\n",
      " [9 2 4]]\n"
     ]
    }
   ],
   "source": [
    "# print the center 3x3 tile of the solved array\n",
    "print(solvedBoard[3:6,3:6])   #using slices in numpy syntax "
   ]
  },
  {
   "cell_type": "code",
   "execution_count": 71,
   "metadata": {},
   "outputs": [
    {
     "data": {
      "text/plain": [
       "array([[5, 6, 9],\n",
       "       [1, 3, 5],\n",
       "       [4, 8, 7],\n",
       "       [9, 5, 2],\n",
       "       [3, 2, 1]])"
      ]
     },
     "execution_count": 71,
     "metadata": {},
     "output_type": "execute_result"
    }
   ],
   "source": [
    "# create a new array from every other row and every third column of the solved board\n",
    "\n",
    "#same idea where we specify step sizes within a slice. (after two colons)\n",
    "newArray = np.array(solvedBoard[::2,::3])\n",
    "newArray"
   ]
  },
  {
   "cell_type": "code",
   "execution_count": 43,
   "metadata": {},
   "outputs": [
    {
     "data": {
      "text/plain": [
       "array([[4, 6, 7, 8, 9, 1, 2],\n",
       "       [2, 1, 9, 5, 3, 4, 8],\n",
       "       [8, 3, 4, 2, 5, 6, 7],\n",
       "       [9, 7, 6, 1, 4, 2, 3]])"
      ]
     },
     "execution_count": 43,
     "metadata": {},
     "output_type": "execute_result"
    }
   ],
   "source": [
    "# create a new array from the third through ninth columns and the first through\n",
    "# fourth rows of the solved board\n",
    "\n",
    "#using slice syntax again, we use 0 and 2 instead of 1 and 3 because of 0 indexes. \n",
    "newArray = np.array(solvedBoard[0:4:1,2:9:1])\n",
    "newArray"
   ]
  },
  {
   "cell_type": "code",
   "execution_count": 73,
   "metadata": {},
   "outputs": [
    {
     "name": "stdout",
     "output_type": "stream",
     "text": [
      "[[5 3 4]\n",
      " [6 7 2]\n",
      " [1 9 8]]\n",
      "\n",
      "[[6 7 8]\n",
      " [1 9 5]\n",
      " [3 4 2]]\n",
      "\n",
      "[[9 1 2]\n",
      " [3 4 8]\n",
      " [5 6 7]]\n",
      "\n",
      "[[8 5 9]\n",
      " [4 2 6]\n",
      " [7 1 3]]\n",
      "\n",
      "[[7 6 1]\n",
      " [8 5 3]\n",
      " [9 2 4]]\n",
      "\n",
      "[[4 2 3]\n",
      " [7 9 1]\n",
      " [8 5 6]]\n",
      "\n",
      "[[9 6 1]\n",
      " [2 8 7]\n",
      " [3 4 5]]\n",
      "\n",
      "[[5 3 7]\n",
      " [4 1 9]\n",
      " [2 8 6]]\n",
      "\n",
      "[[2 8 4]\n",
      " [6 3 5]\n",
      " [1 7 9]]\n",
      "\n"
     ]
    }
   ],
   "source": [
    "# using loops, print out each 3x3 square of the solved board, moving from left to right.\n",
    "# the 3x3 squares should be printed out as separate arrays. the less code you use for this\n",
    "# problem, the more points you'll get.\n",
    "\n",
    "\n",
    "#print all 9 squares of the board from left to right, bottom to top:\n",
    "\n",
    "# We can print each square by looking at the values within each slice. \n",
    "# Minimum Slice value = 0,3,6,\n",
    "# Maximum slice value = 3,6,9 OR min slice value + 3\n",
    "# We want to look at the row first, so we get the minimimum row number in the slice. \n",
    "# We then get the minumum column number in the current slice.\n",
    "# In the print statement, we take the minumum value for each slice as the start of the slice, and then that value+3 as the end of the slice \n",
    "\n",
    "\n",
    "for rownum in range(0,9,3):  #get minimum row slice values, 0, then 3, then 6\n",
    "    for column in range(0,9,3): #for each row value, get all minimum column values, 0,3,6\n",
    "        print(str(solvedBoard[rownum:rownum+3,column:column+3])+'\\n')  #print the square using slice notation"
   ]
  },
  {
   "cell_type": "code",
   "execution_count": 74,
   "metadata": {
    "collapsed": true
   },
   "outputs": [
    {
     "name": "stdout",
     "output_type": "stream",
     "text": [
      "[[5 3 4 6 7 8 9 1 2 6 7 2 1 9 5 3 4 8 1 9 8 3 4 2 5 6 7 8 5 9 7 6 1 4 2 3\n",
      "  4 2 6 8 5 3 7 9 1 7 1 3 9 2 4 8 5 6 9 6 1 5 3 7 2 8 4 2 8 7 4 1 9 6 3 5\n",
      "  3 4 5 2 8 6 1 7 9]]\n",
      "[[5 3 4 6 7 8 9 1 2 6 7 2 1 9 5 3 4 8 1 9 8 3 4 2 5 6 7]\n",
      " [8 5 9 7 6 1 4 2 3 4 2 6 8 5 3 7 9 1 7 1 3 9 2 4 8 5 6]\n",
      " [9 6 1 5 3 7 2 8 4 2 8 7 4 1 9 6 3 5 3 4 5 2 8 6 1 7 9]]\n",
      "[[5]\n",
      " [3]\n",
      " [4]\n",
      " [6]\n",
      " [7]\n",
      " [8]\n",
      " [9]\n",
      " [1]\n",
      " [2]\n",
      " [6]\n",
      " [7]\n",
      " [2]\n",
      " [1]\n",
      " [9]\n",
      " [5]\n",
      " [3]\n",
      " [4]\n",
      " [8]\n",
      " [1]\n",
      " [9]\n",
      " [8]\n",
      " [3]\n",
      " [4]\n",
      " [2]\n",
      " [5]\n",
      " [6]\n",
      " [7]\n",
      " [8]\n",
      " [5]\n",
      " [9]\n",
      " [7]\n",
      " [6]\n",
      " [1]\n",
      " [4]\n",
      " [2]\n",
      " [3]\n",
      " [4]\n",
      " [2]\n",
      " [6]\n",
      " [8]\n",
      " [5]\n",
      " [3]\n",
      " [7]\n",
      " [9]\n",
      " [1]\n",
      " [7]\n",
      " [1]\n",
      " [3]\n",
      " [9]\n",
      " [2]\n",
      " [4]\n",
      " [8]\n",
      " [5]\n",
      " [6]\n",
      " [9]\n",
      " [6]\n",
      " [1]\n",
      " [5]\n",
      " [3]\n",
      " [7]\n",
      " [2]\n",
      " [8]\n",
      " [4]\n",
      " [2]\n",
      " [8]\n",
      " [7]\n",
      " [4]\n",
      " [1]\n",
      " [9]\n",
      " [6]\n",
      " [3]\n",
      " [5]\n",
      " [3]\n",
      " [4]\n",
      " [5]\n",
      " [2]\n",
      " [8]\n",
      " [6]\n",
      " [1]\n",
      " [7]\n",
      " [9]]\n",
      "[[5 3 4]\n",
      " [6 7 8]\n",
      " [9 1 2]\n",
      " [6 7 2]\n",
      " [1 9 5]\n",
      " [3 4 8]\n",
      " [1 9 8]\n",
      " [3 4 2]\n",
      " [5 6 7]\n",
      " [8 5 9]\n",
      " [7 6 1]\n",
      " [4 2 3]\n",
      " [4 2 6]\n",
      " [8 5 3]\n",
      " [7 9 1]\n",
      " [7 1 3]\n",
      " [9 2 4]\n",
      " [8 5 6]\n",
      " [9 6 1]\n",
      " [5 3 7]\n",
      " [2 8 4]\n",
      " [2 8 7]\n",
      " [4 1 9]\n",
      " [6 3 5]\n",
      " [3 4 5]\n",
      " [2 8 6]\n",
      " [1 7 9]]\n",
      "[[5 3 4 6 7 8 9 1 2]\n",
      " [6 7 2 1 9 5 3 4 8]\n",
      " [1 9 8 3 4 2 5 6 7]\n",
      " [8 5 9 7 6 1 4 2 3]\n",
      " [4 2 6 8 5 3 7 9 1]\n",
      " [7 1 3 9 2 4 8 5 6]\n",
      " [9 6 1 5 3 7 2 8 4]\n",
      " [2 8 7 4 1 9 6 3 5]\n",
      " [3 4 5 2 8 6 1 7 9]]\n"
     ]
    }
   ],
   "source": [
    "# reshape the array into all the possible 2D shapes it can have. print\n",
    "# each reshapedd array.\n",
    "\n",
    "\n",
    "# get factors of 81, then reshape the array based on each factor\n",
    "print(solvedBoard.reshape(1,81))\n",
    "print(solvedBoard.reshape(3,27))\n",
    "print(solvedBoard.reshape(81,1))\n",
    "print(solvedBoard.reshape(27,3))\n",
    "print(solvedBoard.reshape(9,9))"
   ]
  },
  {
   "cell_type": "code",
   "execution_count": 52,
   "metadata": {},
   "outputs": [
    {
     "name": "stdout",
     "output_type": "stream",
     "text": [
      "[45 45 45 45 45 45 45 45 45]\n",
      "[45 45 45 45 45 45 45 45 45]\n"
     ]
    }
   ],
   "source": [
    "# make a new array where the values are the sum of the rows\n",
    "# summ all rows (on axis 0) and save in new array\n",
    "sumRowArray = np.array(solvedBoard.sum(axis=0))\n",
    "\n",
    "# make a new array where the values are the sum of the column\n",
    "# summ all columns  (on axis 1) and save in new array\n",
    "sumColumnArray = np.array(solvedBoard.sum(axis=1))\n",
    "print(sumColumnArray)\n",
    "print(sumRowArray)\n",
    "\n",
    "\n",
    "# notice anything interesting?\n",
    "# Yes -- the values in each array are eqaul to 45, this makes sense as each row and column is comprised of the same numbers 1-9"
   ]
  },
  {
   "cell_type": "code",
   "execution_count": 76,
   "metadata": {},
   "outputs": [
    {
     "data": {
      "text/plain": [
       "numpy.ndarray"
      ]
     },
     "execution_count": 76,
     "metadata": {},
     "output_type": "execute_result"
    }
   ],
   "source": [
    "# make a new array where the values are the average of the rows\n",
    "\n",
    "#same syntax as above, instead of .sum tho we use .avg\n",
    "\n",
    "rowAvg = np.average(solvedBoard,axis=0)\n",
    "# make a new array where the values are the average of the columns\n",
    "colAvg = np.average(solvedBoard,axis=1)\n",
    "type(rowAvg)\n",
    "print(rowAvg)\n",
    "print(colAvg)\n",
    "\n",
    "\n",
    "# notice anything interesting?\n",
    "# Yes, each value is 5, the columns have the same input"
   ]
  },
  {
   "cell_type": "code",
   "execution_count": 59,
   "metadata": {},
   "outputs": [
    {
     "data": {
      "text/plain": [
       "5.0"
      ]
     },
     "execution_count": 59,
     "metadata": {},
     "output_type": "execute_result"
    }
   ],
   "source": [
    "# what is the average of the entire array?\n",
    "np.average(solvedBoard) #5.0\n"
   ]
  },
  {
   "cell_type": "code",
   "execution_count": 63,
   "metadata": {},
   "outputs": [
    {
     "data": {
      "text/plain": [
       "array([[ True,  True, False, False,  True, False,  True,  True, False],\n",
       "       [False,  True, False,  True,  True,  True,  True, False, False],\n",
       "       [ True,  True, False,  True, False, False,  True, False,  True],\n",
       "       [False,  True,  True,  True, False,  True, False, False,  True],\n",
       "       [False, False, False, False,  True,  True,  True,  True,  True],\n",
       "       [ True,  True,  True,  True, False, False, False,  True, False],\n",
       "       [ True, False,  True,  True,  True,  True, False, False, False],\n",
       "       [False, False,  True, False,  True,  True, False,  True,  True],\n",
       "       [ True, False,  True, False, False, False,  True,  True,  True]])"
      ]
     },
     "execution_count": 63,
     "metadata": {},
     "output_type": "execute_result"
    }
   ],
   "source": [
    "# Make a new array where the elements are all Boolean values, representing whether or\n",
    "# not the corresponding values in the solved board are odd.  (That is to say, \n",
    "# if a value is odd, the new array should have True in its corresponding location.)\n",
    "\n",
    "# We can get a boolean version of this array by doing a true/false statement within the array. \n",
    "# Use modulo 2 to get the remainder of each value in the array / 2. If remainder ==1, number is odd \n",
    "oddOrNotArray = np.array(solvedBoard%2==1)\n",
    "oddOrNotArray"
   ]
  },
  {
   "cell_type": "code",
   "execution_count": 77,
   "metadata": {},
   "outputs": [
    {
     "data": {
      "text/plain": [
       "array([5, 3, 7, 9, 1, 7, 1, 9, 5, 3, 1, 9, 3, 5, 7, 5, 9, 7, 1, 3, 5, 3,\n",
       "       7, 9, 1, 7, 1, 3, 9, 5, 9, 1, 5, 3, 7, 7, 1, 9, 3, 5, 3, 5, 1, 7,\n",
       "       9])"
      ]
     },
     "execution_count": 77,
     "metadata": {},
     "output_type": "execute_result"
    }
   ],
   "source": [
    "# Produce a one dimensional array of only the odd numbers in the sudoku array in the order they\n",
    "# appear, e.g., [5 3 7 et cetera]\n",
    "\n",
    "# We use boolean masking within the array to return an array where the values are only odd.\n",
    "# We then create a new one dimensional array to store these values.\n",
    "onlyOddArray = solvedBoard[oddOrNotArray]\n",
    "onlyOddArray"
   ]
  }
 ],
 "metadata": {
  "kernelspec": {
   "display_name": "Python 3",
   "language": "python",
   "name": "python3"
  },
  "language_info": {
   "codemirror_mode": {
    "name": "ipython",
    "version": 3
   },
   "file_extension": ".py",
   "mimetype": "text/x-python",
   "name": "python",
   "nbconvert_exporter": "python",
   "pygments_lexer": "ipython3",
   "version": "3.7.4"
  }
 },
 "nbformat": 4,
 "nbformat_minor": 2
}
