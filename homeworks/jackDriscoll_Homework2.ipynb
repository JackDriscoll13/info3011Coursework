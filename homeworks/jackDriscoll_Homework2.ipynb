{
 "cells": [
  {
   "cell_type": "markdown",
   "metadata": {},
   "source": [
    "# # Part I (20 points): Fun With Dictionaries"
   ]
  },
  {
   "cell_type": "code",
   "execution_count": 90,
   "metadata": {},
   "outputs": [],
   "source": [
    "# here is a dictionary\n",
    "mountain_west = {'Colorado': {'Abbreviation': 'CO',\n",
    "                              'Area': 269601, # in square kilometers\n",
    "                              'Capital': 'Denver',\n",
    "                              'Established': '1876-08-01',\n",
    "                              'Largest city': 'Denver',\n",
    "                              'Population': 5540545,\n",
    "                              'Representatives': 7},\n",
    "                 'Idaho': {'Abbreviation': 'ID',\n",
    "                              'Area': 216443,\n",
    "                              'Capital': 'Boise',\n",
    "                              'Established': '1890-07-03',\n",
    "                              'Largest city': 'Boise',\n",
    "                              'Population': 1683140,\n",
    "                              'Representatives': 2},\n",
    "                 'Montana': {'Abbreviation': 'MT',\n",
    "                              'Area': 380831,\n",
    "                              'Capital': 'Helena',\n",
    "                              'Established': '1889-11-08',\n",
    "                              'Largest city': 'Billings',\n",
    "                              'Population': 1042520,\n",
    "                              'Representatives': 1},\n",
    "                 'Utah': {'Abbreviation': 'UT',\n",
    "                              'Area': 219882,\n",
    "                              'Capital': 'Salt Lake City',\n",
    "                              'Established': '1896-01-04',\n",
    "                              'Largest city': 'Salt Lake City',\n",
    "                              'Population': 3051217,\n",
    "                              'Representatives': 4},\n",
    "                 'Wyoming': {'Abbreviation': 'WY',\n",
    "                              'Area': 253335,\n",
    "                              'Capital': 'Cheyenne',\n",
    "                              'Established': '1890-07-10',\n",
    "                              'Largest city': 'Cheyenne',\n",
    "                              'Population': 585501,\n",
    "                              'Representatives': 1}}"
   ]
  },
  {
   "cell_type": "markdown",
   "metadata": {},
   "source": [
    "## Task 2: Iterate through the dictionary and print out the state names along with their abbreviation and population.\n",
    "Example:  \n",
    "Colorado (CO): 5540545  \n",
    "Idaho (ID): 1683140  \n",
    "  \n",
    "et cetera  "
   ]
  },
  {
   "cell_type": "code",
   "execution_count": 3,
   "metadata": {},
   "outputs": [
    {
     "name": "stdout",
     "output_type": "stream",
     "text": [
      "Colorado (CO): 5540545\n",
      "Idaho (ID): 1683140\n",
      "Montana (MT): 1042520\n",
      "Utah (UT): 3051217\n",
      "Wyoming (WY): 585501\n"
     ]
    }
   ],
   "source": [
    "# here I iterate through the mountain west dictionary with each state name as the first key. I then add the nested \n",
    "# elements to the print statement. \n",
    "for state in mountain_west:\n",
    "    print(state+\" (\"+mountain_west[state][\"Abbreviation\"]+\"): \" +str(mountain_west[state][\"Population\"]))    "
   ]
  },
  {
   "cell_type": "markdown",
   "metadata": {},
   "source": [
    "## Task 3: Iterate through the dictionary and find the state with the greatest population and print that state's name and population."
   ]
  },
  {
   "cell_type": "code",
   "execution_count": 4,
   "metadata": {},
   "outputs": [
    {
     "name": "stdout",
     "output_type": "stream",
     "text": [
      "Colorado has the greatest population with 5540545 people!\n"
     ]
    }
   ],
   "source": [
    "# here we iterate through the mountain_west dictionary, and find the biggest population through comparison. \n",
    "bigPop = 0 \n",
    "bigState = \"\"\n",
    "for state in mountain_west: # looks at each state \n",
    "    if (mountain_west[state][\"Population\"]>bigPop): # looks at nested var population in each state and compares to biggest population so far\n",
    "        bigState = state\n",
    "        bigPop = mountain_west[state][\"Population\"]\n",
    "print(bigState+\" has the greatest population with \"+str(bigPop)+\" people!\")\n",
    "        \n"
   ]
  },
  {
   "cell_type": "markdown",
   "metadata": {},
   "source": [
    "## Task 4: Iterate through the dictionary and add up the number of representatives in all of the states.  Print the answer using the following format:\n",
    "\n",
    "There are X representatives in the mountain west states."
   ]
  },
  {
   "cell_type": "code",
   "execution_count": 89,
   "metadata": {},
   "outputs": [
    {
     "name": "stdout",
     "output_type": "stream",
     "text": [
      "There are 15 representatives in the mountain west states\n"
     ]
    }
   ],
   "source": [
    "# answer here\n",
    "# here i create a counter, and concatenate the counter with the number of representives in each state (using +=)\n",
    "counter = 0 \n",
    "for state in mountain_west:\n",
    "    counter += int(mountain_west[state][\"Representatives\"])\n",
    "print (\"There are \"+str(counter)+\" representatives in the mountain west states\")"
   ]
  },
  {
   "cell_type": "markdown",
   "metadata": {},
   "source": [
    "## Task 5: Iterate through the dictionary and calculate the population density for each state.  (The population density is the number of people per square mile.)  After doing this, you should report which state has the greatest population density and which state has the smallest population density.\n",
    "Example:  \n",
    "Colorado: 20.55 people per square km  \n",
    "Idaho: 7.78 people per square km  \n",
    "Montana: 2.74 people per square km  \n",
    "Utah: 13.88 people per square km  \n",
    "Wyoming: 2.31 people per square km  \n",
    "  \n",
    "Colorado has the largest population density.  \n",
    "Wyoming has the smallest population density.  "
   ]
  },
  {
   "cell_type": "code",
   "execution_count": 7,
   "metadata": {},
   "outputs": [
    {
     "name": "stdout",
     "output_type": "stream",
     "text": [
      "Colorado: 20.55 people per square km\n",
      "Idaho: 7.78 people per square km\n",
      "Montana: 2.74 people per square km\n",
      "Utah: 13.88 people per square km\n",
      "Wyoming: 2.31 people per square km\n",
      "\n",
      "Colorado has the largest pop density\n",
      "Wyoming has the smallest pop density \n"
     ]
    }
   ],
   "source": [
    "# answer here\n",
    "# okay so here we iterate through the dictionary, find the density(rounded) and print it\n",
    "# then I used two seperate if statements to save the largest and smallest states (by population density)\n",
    "large = \"\"\n",
    "small = \"\"\n",
    "bignum = 0\n",
    "smallnum = 100\n",
    "density = 0 \n",
    "for state in mountain_west:\n",
    "    density = round((mountain_west[state][\"Population\"])/(mountain_west[state][\"Area\"]),2)\n",
    "    print(state+\": \"+str(density)+\" people per square km\")\n",
    "    if (density>bignum):\n",
    "        bignum = density\n",
    "        large = state \n",
    "    if( density<smallnum):\n",
    "        smallnum = density \n",
    "        small = state\n",
    "print()\n",
    "print(large+ \" has the largest pop density\" )\n",
    "print(small+ \" has the smallest pop density \")\n",
    "\n"
   ]
  },
  {
   "cell_type": "code",
   "execution_count": 3,
   "metadata": {},
   "outputs": [
    {
     "data": {
      "text/plain": [
       "10.19"
      ]
     },
     "execution_count": 3,
     "metadata": {},
     "output_type": "execute_result"
    }
   ],
   "source": [
    "# Reminder: how do we round?\n",
    "myNumber = 10.191212\n",
    "round(myNumber,2)"
   ]
  },
  {
   "cell_type": "code",
   "execution_count": null,
   "metadata": {},
   "outputs": [],
   "source": [
    "# Part II: API Exploration (80 points)\n",
    "\n",
    "# I’d like you to get some experience poking around an unfamiliar data source.  \n",
    "# Find a new API (one we haven’t used in class) and dig into it.  \n",
    "# Pull some data from it like we’ve been doing in our examples and present that data.  \n",
    "# I’ll allow you to scope this mini-project yourself, but at a minimum you should make a \n",
    "# request to an API and then use data from that first request to make additional requests.  \n",
    "# As an example of making requests using data from a previous request, we used the TV Maze \n",
    "# API shows search endpoint to get a list of shows that matched a search string.  \n",
    "# We then used the IDs of the shows to get a list of episodes for each show.  \n",
    "# We couldn't have gotten the list of episodes for the show without first getting the IDs\n",
    "# in that first search query.\n",
    "\n",
    " # You should provide some explanation with what you’ve done and what the output means.  \n",
    "# (Nothing too fancy or formal, just some explanation as comments or markup in your Jupyter \n",
    "# notebook.)  If you do some data exploration and calculate anything, you can provide \n",
    "# some hypotheses and commentary on whether or not your results line up with your\n",
    "# expectations.  Have fun!\n",
    "\n",
    " \n",
    "# Note: The problem says *minimum*.  That means that the more you do on this one \n",
    "# the better your grade.  If you do the minimum, expect an 80% on this problem.\n",
    "# That is, if you do the minimum perfectly.  If you have questions about the requirements\n",
    "# of this assignment, you need to ask them before assignment is due, not after.\n",
    "\n"
   ]
  },
  {
   "cell_type": "code",
   "execution_count": 3,
   "metadata": {},
   "outputs": [
    {
     "name": "stdout",
     "output_type": "stream",
     "text": [
      "{'Denver': 5419384, 'Boulder': 5574991, 'Fort Collins': 5577147}\n"
     ]
    }
   ],
   "source": [
    "# For this homework I will be working with the Open Weather API \n",
    "# it took a while just to find a decent api that I had good access to\n",
    "\n",
    "\n",
    "import requests\n",
    "import pprint\n",
    "myKey = \"e3026c7b937321f803cb5b18b7b178dc\"\n",
    "\n",
    "\n",
    "# Using recangle zone call -- involves using a latitude and longittude bounding box to return weather data for cities in the bounding box\n",
    "# General colorado bounding coordinates are as follows:\n",
    "lonleft = str(\"-107,\")\n",
    "lonright = str(\"-102,\")\n",
    "latbottom = str(\"37,\")\n",
    "lattop = str(\"41,\")\n",
    "zoom = str(\"10\")            # Zoom of the box ( a required paramater of the bbox)\n",
    "bbox = [lonleft,latbottom,lonright,lattop,zoom]\n",
    "# -107,37,-102,41,10 --> how it fits into the api call\n",
    "\n",
    "colorado = requests.get(\"https://api.openweathermap.org/data/2.5/box/city?bbox=\"+bbox[0]+bbox[1]+bbox[2]+bbox[3]+bbox[4]+\"&appid=e3026c7b937321f803cb5b18b7b178dc\").json()\n",
    "#pprint.pprint(colorado)\n",
    "\n",
    "# what it returns:\n",
    "# this call returns a dictionary with a list of cities in specific rectangular box, and current weather data about each city, as well as the city's ID\n",
    "\n",
    "\n",
    "\n",
    "# Now I want to look at only 3 cities within that box. \n",
    "# I want to save those city IDs so I can look at the weather FORECAST in a future request\n",
    "# I iterate through the box and pull the IDS of the cities im interested it\n",
    "\n",
    "\n",
    "cityID = {}\n",
    "for city in colorado[\"list\"]:\n",
    "    if city['name'] in \"Denverdenver\":  # we want the IDS for fort collins, denver, and boulder\n",
    "        cityID[\"Denver\"]=city['id']\n",
    "    if city['name'] in \"Boulder\":\n",
    "        cityID[\"Boulder\"]=city['id']\n",
    "    if city['name'] in \"Fort Collins\":\n",
    "        cityID[\"Fort Collins\"]=city['id'] # we save these IDS in a new dicionary called cityID where the name is the key\n",
    "print(cityID)"
   ]
  },
  {
   "cell_type": "code",
   "execution_count": 4,
   "metadata": {},
   "outputs": [
    {
     "name": "stdout",
     "output_type": "stream",
     "text": [
      "Current five day forecast for Boulder:\n",
      "Date: 2020-10-10 03:00:00\n",
      "Forecast: 62.64 degreees farenhieght with scattered clouds.\n",
      "Date: 2020-10-11 00:00:00\n",
      "Forecast: 71.35 degreees farenhieght with scattered clouds.\n",
      "Date: 2020-10-12 00:00:00\n",
      "Forecast: 51.89 degreees farenhieght with light rain.\n",
      "Date: 2020-10-13 00:00:00\n",
      "Forecast: 59.7 degreees farenhieght with clear sky.\n",
      "Date: 2020-10-14 00:00:00\n",
      "Forecast: 59.54 degreees farenhieght with few clouds.\n",
      "Date: 2020-10-15 00:00:00\n",
      "Forecast: 69.19 degreees farenhieght with overcast clouds.\n",
      "\n",
      "\n"
     ]
    }
   ],
   "source": [
    "# Second request\n",
    "# uses the city IDs we got from the request above\n",
    "\n",
    "#testing:\n",
    "#FiveDayForecast = requests.get(\"https://api.openweathermap.org/data/2.5/forecast?id=\"+str(cityID['Boulder'])+\"&appid=e3026c7b937321f803cb5b18b7b178dc\").json()\n",
    "#pprint.pprint(FiveDayForecast)\n",
    "\n",
    "# I have city IDs saved in dictionary\n",
    "# I want to use those IDs to get the forecast for each city\n",
    "# I create a function that uses a different API call(using the city ID) to get forecast every 3 hours for the next 5 days\n",
    "\n",
    "\n",
    "def foreCast(cityName):\n",
    "    print(\"Current five day forecast for \"+str(cityName)+\":\")\n",
    "    date = 0 \n",
    "    weatherData = requests.get(\"https://api.openweathermap.org/data/2.5/forecast?id=\"+str(cityID[cityName])+\"&appid=e3026c7b937321f803cb5b18b7b178dc\").json()\n",
    "    for timeStamp in weatherData['list']: #looks at weather data for each 3 hour interval forecasted for the city \n",
    "        if (date != (str(timeStamp['dt_txt'][8])+str(timeStamp['dt_txt'][9]))): #We dont want want a huge print statement, so we are only taking data at midnight on each new day\n",
    "            date = (str(timeStamp['dt_txt'][8])+str(timeStamp['dt_txt'][9])) # saves the date \n",
    "            timeDate = str(timeStamp['dt_txt'])\n",
    "            temp = round((((timeStamp[\"main\"][\"temp\"])-273.15)*(1.8))+32,2)  # saves the temp (in faren)\n",
    "            desc = timeStamp['weather'][0]['description']   # saves the weather description\n",
    "            print(\"Date: \"+timeDate)\n",
    "            print(\"Forecast: \"+str(temp)+\" degreees farenhieght with \"+str(desc)+\".\")  # prints temp and description for day\n",
    "\n",
    "\n",
    "\n",
    "    \n",
    "# testing the function: \n",
    "# it works! gives us the forecast for midnight at the next 5 days\n",
    "# if i wanted to I could take out the if statement to get all the data for each city, but I dont want a huge print statement\n",
    "foreCast('Boulder')\n",
    "print()\n",
    "print()\n",
    "\n",
    "#I would need to get the cityIDs for other cities before doing cities  not previously saved in the dicionary "
   ]
  },
  {
   "cell_type": "code",
   "execution_count": 6,
   "metadata": {},
   "outputs": [
    {
     "name": "stdout",
     "output_type": "stream",
     "text": [
      "The current temperature in colorado springs is 64.35 degrees farenhieght with a weather description of clear sky\n"
     ]
    }
   ],
   "source": [
    "# PLEASE IGNORE THIS BLOCK\n",
    "\n",
    "# just a bunch of scratch work from my first submission of this homework \n",
    "\n",
    "\n",
    "\n",
    "\n",
    "\n",
    "\n",
    "\n",
    "\n",
    "\n",
    "\n",
    "\n",
    "\n",
    "\n",
    "\n",
    "\n",
    "# Now I want to print out information about colorado springs from the variable saved above\n",
    "coloradoSringsInfo = requests.get(\"https://api.openweathermap.org/data/2.5/weather?id=7262349&appid=e3026c7b937321f803cb5b18b7b178dc\").json()\n",
    "#Getting a general description of the weather in colorado springs\n",
    "weatherDesc = coloradoSringsInfo[\"weather\"][0][\"description\"]\n",
    "#Getting the current temperature, converting kelvin to farenhieght\n",
    "temp = round((((coloradoSringsInfo[\"main\"][\"temp\"])-273.15)*(1.8))+32,2)\n",
    "\n",
    "print(\"The current temperature in colorado springs is \"+str(temp)+\" degrees farenhieght with a weather description of \"+weatherDesc)\n",
    "\n",
    "\n",
    "# and boom those lines of code when ran should print the current weather description and temperature \n",
    "# of colorado springs at any given time\n",
    "\n",
    "\n",
    "\n",
    "\n",
    "# Now we will look at each city ID and do stuff with it.\n",
    "cityInfo = requests.get(\"https://api.openweathermap.org/data/2.5/weather?id=7262349&appid=e3026c7b937321f803cb5b18b7b178dc\").json()\n",
    "pprint.pprint(cityInfo)\n",
    "\n",
    "# here I pull information on colorado springs using its city ID. \n",
    "# I got its city ID from the list of cities in the preveious "
   ]
  }
 ],
 "metadata": {
  "kernelspec": {
   "display_name": "Python 3",
   "language": "python",
   "name": "python3"
  },
  "language_info": {
   "codemirror_mode": {
    "name": "ipython",
    "version": 3
   },
   "file_extension": ".py",
   "mimetype": "text/x-python",
   "name": "python",
   "nbconvert_exporter": "python",
   "pygments_lexer": "ipython3",
   "version": "3.7.4"
  }
 },
 "nbformat": 4,
 "nbformat_minor": 2
}
