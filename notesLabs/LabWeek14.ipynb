{
 "cells": [
  {
   "cell_type": "markdown",
   "metadata": {},
   "source": [
    "# Plotting Lab!"
   ]
  },
  {
   "cell_type": "code",
   "execution_count": 2,
   "metadata": {},
   "outputs": [],
   "source": [
    "import numpy as np\n",
    "import pandas as pd\n",
    "import matplotlib.pyplot as plt\n",
    "%matplotlib inline"
   ]
  },
  {
   "cell_type": "markdown",
   "metadata": {},
   "source": [
    "## First: Let's Remember How To Plot With Numpy"
   ]
  },
  {
   "cell_type": "code",
   "execution_count": 3,
   "metadata": {},
   "outputs": [
    {
     "data": {
      "text/plain": [
       "Text(0, 0.5, 'Y Axis Label')"
      ]
     },
     "execution_count": 3,
     "metadata": {},
     "output_type": "execute_result"
    },
    {
     "data": {
      "image/png": "[encoded data removed]",
      "text/plain": [
       "<Figure size 432x288 with 1 Axes>"
      ]
     },
     "metadata": {
      "needs_background": "light"
     },
     "output_type": "display_data"
    }
   ],
   "source": [
    "#make this into the plot below from scratch:\n",
    "data = np.array([[1,2],[2,4],[3,1]])\n",
    "x = data[:,0]#first column\n",
    "y = data[:,1]#second column\n",
    "\n",
    "plt.plot(x,y)\n",
    "plt.title(\"Sample Title\")\n",
    "plt.xlabel(\"X Axis Label\")\n",
    "plt.ylabel(\"Y Axis Label\")"
   ]
  },
  {
   "cell_type": "markdown",
   "metadata": {},
   "source": [
    "## Now Let's Plot With Pandas!"
   ]
  },
  {
   "cell_type": "code",
   "execution_count": 5,
   "metadata": {},
   "outputs": [],
   "source": [
    "gamelogsDF = pd.read_csv(\"GL2016.TXT\",header=None)\n",
    "# fix column names\n",
    "gamelogsDF.columns = range(1,162)"
   ]
  },
  {
   "cell_type": "code",
   "execution_count": 6,
   "metadata": {},
   "outputs": [
    {
     "data": {
      "text/html": [
       "<div>\n",
       "<style scoped>\n",
       "    .dataframe tbody tr th:only-of-type {\n",
       "        vertical-align: middle;\n",
       "    }\n",
       "\n",
       "    .dataframe tbody tr th {\n",
       "        vertical-align: top;\n",
       "    }\n",
       "\n",
       "    .dataframe thead th {\n",
       "        text-align: right;\n",
       "    }\n",
       "</style>\n",
       "<table border=\"1\" class=\"dataframe\">\n",
       "  <thead>\n",
       "    <tr style=\"text-align: right;\">\n",
       "      <th></th>\n",
       "      <th>1</th>\n",
       "      <th>2</th>\n",
       "      <th>3</th>\n",
       "      <th>4</th>\n",
       "      <th>5</th>\n",
       "      <th>6</th>\n",
       "      <th>7</th>\n",
       "      <th>8</th>\n",
       "      <th>9</th>\n",
       "      <th>10</th>\n",
       "      <th>...</th>\n",
       "      <th>152</th>\n",
       "      <th>153</th>\n",
       "      <th>154</th>\n",
       "      <th>155</th>\n",
       "      <th>156</th>\n",
       "      <th>157</th>\n",
       "      <th>158</th>\n",
       "      <th>159</th>\n",
       "      <th>160</th>\n",
       "      <th>161</th>\n",
       "    </tr>\n",
       "  </thead>\n",
       "  <tbody>\n",
       "    <tr>\n",
       "      <td>0</td>\n",
       "      <td>20160403</td>\n",
       "      <td>0</td>\n",
       "      <td>Sun</td>\n",
       "      <td>NYN</td>\n",
       "      <td>NL</td>\n",
       "      <td>1</td>\n",
       "      <td>KCA</td>\n",
       "      <td>AL</td>\n",
       "      <td>1</td>\n",
       "      <td>3</td>\n",
       "      <td>...</td>\n",
       "      <td>Salvador Perez</td>\n",
       "      <td>2</td>\n",
       "      <td>infao001</td>\n",
       "      <td>Omar Infante</td>\n",
       "      <td>4</td>\n",
       "      <td>fuenr001</td>\n",
       "      <td>Reymond Fuentes</td>\n",
       "      <td>9</td>\n",
       "      <td>NaN</td>\n",
       "      <td>Y</td>\n",
       "    </tr>\n",
       "    <tr>\n",
       "      <td>1</td>\n",
       "      <td>20160403</td>\n",
       "      <td>0</td>\n",
       "      <td>Sun</td>\n",
       "      <td>TOR</td>\n",
       "      <td>AL</td>\n",
       "      <td>1</td>\n",
       "      <td>TBA</td>\n",
       "      <td>AL</td>\n",
       "      <td>1</td>\n",
       "      <td>5</td>\n",
       "      <td>...</td>\n",
       "      <td>Steven Souza</td>\n",
       "      <td>9</td>\n",
       "      <td>kierk001</td>\n",
       "      <td>Kevin Kiermaier</td>\n",
       "      <td>8</td>\n",
       "      <td>congh001</td>\n",
       "      <td>Hank Conger</td>\n",
       "      <td>2</td>\n",
       "      <td>NaN</td>\n",
       "      <td>Y</td>\n",
       "    </tr>\n",
       "    <tr>\n",
       "      <td>2</td>\n",
       "      <td>20160403</td>\n",
       "      <td>0</td>\n",
       "      <td>Sun</td>\n",
       "      <td>SLN</td>\n",
       "      <td>NL</td>\n",
       "      <td>1</td>\n",
       "      <td>PIT</td>\n",
       "      <td>NL</td>\n",
       "      <td>1</td>\n",
       "      <td>1</td>\n",
       "      <td>...</td>\n",
       "      <td>Josh Harrison</td>\n",
       "      <td>4</td>\n",
       "      <td>mercj002</td>\n",
       "      <td>Jordy Mercer</td>\n",
       "      <td>6</td>\n",
       "      <td>lirif001</td>\n",
       "      <td>Francisco Liriano</td>\n",
       "      <td>1</td>\n",
       "      <td>NaN</td>\n",
       "      <td>Y</td>\n",
       "    </tr>\n",
       "    <tr>\n",
       "      <td>3</td>\n",
       "      <td>20160404</td>\n",
       "      <td>0</td>\n",
       "      <td>Mon</td>\n",
       "      <td>CHN</td>\n",
       "      <td>NL</td>\n",
       "      <td>1</td>\n",
       "      <td>ANA</td>\n",
       "      <td>AL</td>\n",
       "      <td>1</td>\n",
       "      <td>9</td>\n",
       "      <td>...</td>\n",
       "      <td>Andrelton Simmons</td>\n",
       "      <td>6</td>\n",
       "      <td>perec003</td>\n",
       "      <td>Carlos Perez</td>\n",
       "      <td>2</td>\n",
       "      <td>giavj001</td>\n",
       "      <td>Johnny Giavotella</td>\n",
       "      <td>4</td>\n",
       "      <td>NaN</td>\n",
       "      <td>Y</td>\n",
       "    </tr>\n",
       "    <tr>\n",
       "      <td>4</td>\n",
       "      <td>20160404</td>\n",
       "      <td>0</td>\n",
       "      <td>Mon</td>\n",
       "      <td>MIN</td>\n",
       "      <td>AL</td>\n",
       "      <td>1</td>\n",
       "      <td>BAL</td>\n",
       "      <td>AL</td>\n",
       "      <td>1</td>\n",
       "      <td>2</td>\n",
       "      <td>...</td>\n",
       "      <td>J.J. Hardy</td>\n",
       "      <td>6</td>\n",
       "      <td>schoj001</td>\n",
       "      <td>Jonathan Schoop</td>\n",
       "      <td>4</td>\n",
       "      <td>rickj001</td>\n",
       "      <td>Joey Rickard</td>\n",
       "      <td>7</td>\n",
       "      <td>NaN</td>\n",
       "      <td>Y</td>\n",
       "    </tr>\n",
       "  </tbody>\n",
       "</table>\n",
       "<p>5 rows × 161 columns</p>\n",
       "</div>"
      ],
      "text/plain": [
       "        1    2    3    4   5    6    7   8    9    10   ...  \\\n",
       "0  20160403    0  Sun  NYN  NL    1  KCA  AL    1    3  ...   \n",
       "1  20160403    0  Sun  TOR  AL    1  TBA  AL    1    5  ...   \n",
       "2  20160403    0  Sun  SLN  NL    1  PIT  NL    1    1  ...   \n",
       "3  20160404    0  Mon  CHN  NL    1  ANA  AL    1    9  ...   \n",
       "4  20160404    0  Mon  MIN  AL    1  BAL  AL    1    2  ...   \n",
       "\n",
       "                 152  153       154              155  156       157  \\\n",
       "0     Salvador Perez    2  infao001     Omar Infante    4  fuenr001   \n",
       "1       Steven Souza    9  kierk001  Kevin Kiermaier    8  congh001   \n",
       "2      Josh Harrison    4  mercj002     Jordy Mercer    6  lirif001   \n",
       "3  Andrelton Simmons    6  perec003     Carlos Perez    2  giavj001   \n",
       "4         J.J. Hardy    6  schoj001  Jonathan Schoop    4  rickj001   \n",
       "\n",
       "                 158  159  160 161  \n",
       "0    Reymond Fuentes    9  NaN   Y  \n",
       "1        Hank Conger    2  NaN   Y  \n",
       "2  Francisco Liriano    1  NaN   Y  \n",
       "3  Johnny Giavotella    4  NaN   Y  \n",
       "4       Joey Rickard    7  NaN   Y  \n",
       "\n",
       "[5 rows x 161 columns]"
      ]
     },
     "execution_count": 6,
     "metadata": {},
     "output_type": "execute_result"
    }
   ],
   "source": [
    "gamelogsDF.head()"
   ]
  },
  {
   "cell_type": "code",
   "execution_count": 7,
   "metadata": {},
   "outputs": [
    {
     "data": {
      "text/plain": [
       "0       193\n",
       "1       171\n",
       "2       182\n",
       "3       188\n",
       "4       168\n",
       "       ... \n",
       "2423    203\n",
       "2424    159\n",
       "2425    184\n",
       "2426    192\n",
       "2427    216\n",
       "Name: 19, Length: 2428, dtype: int64"
      ]
     },
     "execution_count": 7,
     "metadata": {},
     "output_type": "execute_result"
    }
   ],
   "source": [
    "gamelogsDF[19]"
   ]
  },
  {
   "cell_type": "markdown",
   "metadata": {},
   "source": [
    "### Task 1: Get the different unique values for game durations (and how many of each value there are)"
   ]
  },
  {
   "cell_type": "code",
   "execution_count": 12,
   "metadata": {},
   "outputs": [
    {
     "data": {
      "text/plain": [
       "array([193, 171, 182, 188, 168, 176, 178, 158, 251, 203, 215, 190, 154,\n",
       "       197, 208, 187, 210, 194, 227, 149, 207, 156, 191, 209, 225, 174,\n",
       "       167, 159, 173, 143, 202, 199, 177, 152, 180, 186, 184, 212, 166,\n",
       "       165, 164, 175, 204, 228, 189, 163, 200, 183, 147, 201, 235, 172,\n",
       "       206, 179, 185, 196, 161, 155, 192, 169, 132, 142, 217, 198, 195,\n",
       "       151, 157, 325, 242, 162, 211, 141, 275, 170, 205, 241, 234, 153,\n",
       "       243, 160, 256, 236, 237, 240, 303, 356, 139, 148, 298, 145, 150,\n",
       "       181, 222, 213, 127, 218, 260, 294, 226, 238, 309, 140, 268, 133,\n",
       "       229, 221, 253, 144, 304, 220, 216, 232, 130, 261, 300, 131, 219,\n",
       "       347, 254, 214, 291, 138, 297, 247, 146, 223, 281, 230, 137, 135,\n",
       "       231, 274, 278, 318, 257, 269, 224, 265, 270, 283, 233, 373, 245,\n",
       "       128, 136, 326, 258, 271, 348, 310, 248, 134, 334, 255, 286, 289,\n",
       "       259, 263, 279, 323, 276, 126, 122, 115,  75], dtype=int64)"
      ]
     },
     "execution_count": 12,
     "metadata": {},
     "output_type": "execute_result"
    }
   ],
   "source": [
    "#we want:\n",
    "#game duration (unique value) ---> number of games with that unique duration\n",
    "\n",
    "gamelogsDF[19].unique()\n"
   ]
  },
  {
   "cell_type": "code",
   "execution_count": 27,
   "metadata": {},
   "outputs": [
    {
     "data": {
      "text/plain": [
       "array([175, 176, 180, 174, 188, 184, 185, 172, 183, 171, 187, 192, 197,\n",
       "       168, 193, 181, 173, 177, 178, 190, 166, 189, 167, 179, 163, 182,\n",
       "       165, 164, 203, 199, 159, 201, 194, 198, 186, 191, 169, 170, 205,\n",
       "       157, 202, 158, 161, 153, 160, 162, 200, 156, 195, 208, 155, 152,\n",
       "       204, 209, 210, 154, 207, 212, 196, 151, 218, 150, 206, 216, 146,\n",
       "       213, 215, 148, 149, 211, 227, 147, 143, 141, 234, 219, 223, 220,\n",
       "       145, 142, 222, 225, 228, 232, 240, 226, 229, 139, 217, 224, 144,\n",
       "       241, 236, 137, 130, 214, 238, 243, 237, 235, 231, 221, 247, 233,\n",
       "       263, 230, 140, 245, 131, 135, 242, 138, 136, 256, 132, 325, 133,\n",
       "       134, 283, 286, 291, 274, 270, 268, 251, 255, 258, 303, 265, 269,\n",
       "       128, 126, 373, 115, 248, 347, 323, 309, 297, 289, 281, 279, 275,\n",
       "       271, 261, 259, 257, 253, 127,  75, 254, 356, 348, 334, 326, 318,\n",
       "       310, 304, 300, 298, 294, 278, 276, 260, 122])"
      ]
     },
     "execution_count": 27,
     "metadata": {},
     "output_type": "execute_result"
    }
   ],
   "source": [
    "#what if we want just the unique game durations without the value counts?\n",
    "gamelogsDF[19].unique()\n"
   ]
  },
  {
   "cell_type": "markdown",
   "metadata": {},
   "source": [
    "### Task 2: Sort all of these unique game durations"
   ]
  },
  {
   "cell_type": "code",
   "execution_count": 32,
   "metadata": {},
   "outputs": [
    {
     "data": {
      "text/plain": [
       "pandas.core.series.Series"
      ]
     },
     "execution_count": 32,
     "metadata": {},
     "output_type": "execute_result"
    }
   ],
   "source": [
    "#don't forget that value_Counts() returns a pandas series object\n",
    "#so the unique values from the column you indicate will become the \"index\"\n",
    "#while the counts will be the column value\n"
   ]
  },
  {
   "cell_type": "code",
   "execution_count": 33,
   "metadata": {},
   "outputs": [
    {
     "data": {
      "text/plain": [
       "75     1\n",
       "115    1\n",
       "122    1\n",
       "126    1\n",
       "127    1\n",
       "      ..\n",
       "334    1\n",
       "347    1\n",
       "348    1\n",
       "356    1\n",
       "373    1\n",
       "Name: 19, Length: 165, dtype: int64"
      ]
     },
     "execution_count": 33,
     "metadata": {},
     "output_type": "execute_result"
    }
   ],
   "source": [
    "#if you want to sort by these values, you can use:\n",
    "#gamelogsDF[19].value_counts().sort_values()\n",
    "#otherwise, if you want to sort by the index, like we have here, use this:\n"
   ]
  },
  {
   "cell_type": "markdown",
   "metadata": {},
   "source": [
    "### Task 3: Time to plot!"
   ]
  },
  {
   "cell_type": "markdown",
   "metadata": {},
   "source": [
    "#### Plotting in style:"
   ]
  },
  {
   "cell_type": "code",
   "execution_count": 53,
   "metadata": {},
   "outputs": [
    {
     "data": {
      "text/plain": [
       "Text(0.5, 1.0, 'Distribution of Game Times in Minutes')"
      ]
     },
     "execution_count": 53,
     "metadata": {},
     "output_type": "execute_result"
    },
    {
     "data": {
      "image/png": "[encoded data removed]",
      "text/plain": [
       "<Figure size 720x432 with 1 Axes>"
      ]
     },
     "metadata": {
      "needs_background": "light"
     },
     "output_type": "display_data"
    }
   ],
   "source": [
    "#Lets make a simple chart as seen below"
   ]
  },
  {
   "cell_type": "markdown",
   "metadata": {},
   "source": [
    "#### Histogramming in style:"
   ]
  },
  {
   "cell_type": "code",
   "execution_count": 59,
   "metadata": {},
   "outputs": [
    {
     "data": {
      "image/png": "[encoded data removed]",
      "text/plain": [
       "<Figure size 432x288 with 1 Axes>"
      ]
     },
     "metadata": {
      "needs_background": "light"
     },
     "output_type": "display_data"
    }
   ],
   "source": [
    "#if we use Histograms, we don't have to use the value_counts() function\n",
    "#PANDAS DOES IT FOR US!!!\n",
    "\n"
   ]
  },
  {
   "cell_type": "code",
   "execution_count": 62,
   "metadata": {},
   "outputs": [
    {
     "data": {
      "text/plain": [
       "array([[<matplotlib.axes._subplots.AxesSubplot object at 0x1199e0668>,\n",
       "        <matplotlib.axes._subplots.AxesSubplot object at 0x119a07da0>]],\n",
       "      dtype=object)"
      ]
     },
     "execution_count": 62,
     "metadata": {},
     "output_type": "execute_result"
    },
    {
     "data": {
      "image/png": "[encoded data removed]",
      "text/plain": [
       "<Figure size 432x288 with 2 Axes>"
      ]
     },
     "metadata": {
      "needs_background": "light"
     },
     "output_type": "display_data"
    }
   ],
   "source": [
    "#we can plot multiple columns too!\n",
    "#remember column 18 in this dataframe is the attendance numbers for games\n"
   ]
  },
  {
   "cell_type": "code",
   "execution_count": 63,
   "metadata": {},
   "outputs": [
    {
     "data": {
      "text/plain": [
       "<matplotlib.axes._subplots.AxesSubplot at 0x119cc1400>"
      ]
     },
     "execution_count": 63,
     "metadata": {},
     "output_type": "execute_result"
    },
    {
     "data": {
      "image/png": "[encoded data removed]",
      "text/plain": [
       "<Figure size 432x288 with 1 Axes>"
      ]
     },
     "metadata": {
      "needs_background": "light"
     },
     "output_type": "display_data"
    }
   ],
   "source": [
    "#Now try it with .plot and see how that looks"
   ]
  },
  {
   "cell_type": "code",
   "execution_count": null,
   "metadata": {},
   "outputs": [],
   "source": []
  }
 ],
 "metadata": {
  "kernelspec": {
   "display_name": "Python 3",
   "language": "python",
   "name": "python3"
  },
  "language_info": {
   "codemirror_mode": {
    "name": "ipython",
    "version": 3
   },
   "file_extension": ".py",
   "mimetype": "text/x-python",
   "name": "python",
   "nbconvert_exporter": "python",
   "pygments_lexer": "ipython3",
   "version": "3.7.4"
  }
 },
 "nbformat": 4,
 "nbformat_minor": 2
}
