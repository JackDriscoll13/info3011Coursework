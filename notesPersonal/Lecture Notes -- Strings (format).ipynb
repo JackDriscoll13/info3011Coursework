{
 "cells": [
  {
   "cell_type": "code",
   "execution_count": 8,
   "metadata": {},
   "outputs": [
    {
     "name": "stdout",
     "output_type": "stream",
     "text": [
      "\n",
      " helllo my name is jack and i love u \n",
      "hello \t\n",
      "\n",
      "\n"
     ]
    }
   ],
   "source": [
    "stringwithwhite = \"\\n helllo my name is jack and i love u \\nhello \\t\\n\\n\"\n",
    "print(stringwithwhite)"
   ]
  },
  {
   "cell_type": "code",
   "execution_count": 9,
   "metadata": {},
   "outputs": [
    {
     "name": "stdout",
     "output_type": "stream",
     "text": [
      "helllo my name is jack and i love u \n",
      "hello\n"
     ]
    }
   ],
   "source": [
    "# Remove white space with end of string\n",
    "# .rstrip removes white space fromback of string\n",
    "# .lstrip removes stuff from \n",
    "# .strip removes white space from eithere side of thring\n",
    "\n",
    "print(stringwithwhite.strip())\n",
    "\n"
   ]
  },
  {
   "cell_type": "code",
   "execution_count": 10,
   "metadata": {},
   "outputs": [
    {
     "name": "stdout",
     "output_type": "stream",
     "text": [
      "The order of pedals is wah,fuzz,herro,TAZER\n"
     ]
    }
   ],
   "source": [
    "# .format\n",
    "# formatting strings \n",
    "# if we want to print out numbers and strings togther\n",
    "# There is a better way then converting to strings and concaneting\n",
    "# .format()\n",
    "\n",
    "\n",
    "pedalOne = \"wah\"\n",
    "pedalTwo = \"fuzz\"\n",
    "pedalThree = \"herro\"\n",
    "pedalFour = \"TAZER\"\n",
    "print(\"The order of pedals is {0},{1},{2},{3}\".format(pedalOne,pedalTwo,pedalThree,pedalFour))"
   ]
  },
  {
   "cell_type": "code",
   "execution_count": 28,
   "metadata": {},
   "outputs": [
    {
     "name": "stdout",
     "output_type": "stream",
     "text": [
      "The order of pedals is wah, fuzz, more fuzz, phaser\n",
      "Pedals: wah, fuzz, more fuzz, phaser\n"
     ]
    }
   ],
   "source": [
    "pedalDictionary = {\"pOne\":\"wah\",\"pTwo\":\"fuzz\",\"pThree\":\"more fuzz\",\"pFour\":\"phaser\"}\n",
    "pedalDictionary.keys()\n",
    "print(\"The order of pedals is {pOne}, {pTwo}, {pThree}, {pFour}\".format(**pedalDictionary))\n",
    "\n",
    "# the ** operator allows us to take a dictionary into the format call \n",
    "print(\"Pedals: {pOne}, {pTwo}, {pThree}, {pFour}\".format(**pedalDictionary))\n",
    "# specifically, it seperates the key-value pairs and seperates into a comma seperated list. "
   ]
  },
  {
   "cell_type": "code",
   "execution_count": 29,
   "metadata": {},
   "outputs": [
    {
     "name": "stdout",
     "output_type": "stream",
     "text": [
      "This specific pedal model, the Carcosa, was made by DOD.\n",
      "\n",
      "Followers: 84,814,791, Friends Count: 631,357.\n",
      "\n",
      "Put commas in numbers not strings! 300,657\n",
      "\n",
      "This is an example of left aligned: Hello left                    \n",
      "This is an example of right aligned:                    Hello right\n",
      "This is an example of center aligned:          Hello Center         \n"
     ]
    }
   ],
   "source": [
    "#can work well with nested elements in dictionary \n",
    "pedals = {\"pedalOne\":{\"Manufacturer\":\"DOD\",\"Model\":\"Carcosa\"}}\n",
    "print(\"This specific pedal model, the {pedalOne[Model]}, was made by {pedalOne[Manufacturer]}.\\n\".format(**pedals))\n",
    "\n",
    "#using the COLON\n",
    "# colon after variable name signlas formattting. Whatever is after the colon\n",
    "# specifies the kind of formatting, (in the following case, comma formatting inserts commas into numbers where expected. \n",
    "twitterDweets = {\"favorites_count\":10,\"followers_count\":84814791,\"friends_count\":631357}\n",
    "print(\"Followers: {followers_count:,}, Friends Count: {friends_count:,}.\\n\".format(**twitterDweets))\n",
    "\n",
    "#Put commas in numbers not strings \n",
    "#not -> print(\"Put commas in numbers not strings!{0 ,}\".format(\"300657\"))\n",
    "print(\"Put commas in numbers not strings! {0:,}\\n\".format(int(\"300657\")))\n",
    "\n",
    "#aligning text\n",
    "print(\"This is an example of left aligned: {:<30}\".format(\"Hello left\"))\n",
    "print(\"This is an example of right aligned: {:>30}\".format(\"Hello right\"))\n",
    "print(\"This is an example of center aligned: {:^30}\".format(\"Hello Center\"))"
   ]
  }
 ],
 "metadata": {
  "kernelspec": {
   "display_name": "Python 3",
   "language": "python",
   "name": "python3"
  },
  "language_info": {
   "codemirror_mode": {
    "name": "ipython",
    "version": 3
   },
   "file_extension": ".py",
   "mimetype": "text/x-python",
   "name": "python",
   "nbconvert_exporter": "python",
   "pygments_lexer": "ipython3",
   "version": "3.7.4"
  }
 },
 "nbformat": 4,
 "nbformat_minor": 2
}
