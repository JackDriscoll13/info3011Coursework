{
 "cells": [
  {
   "cell_type": "markdown",
   "metadata": {},
   "source": [
    "# Plotting Lab!"
   ]
  },
  {
   "cell_type": "code",
   "execution_count": 60,
   "metadata": {},
   "outputs": [],
   "source": [
    "import numpy as np\n",
    "import pandas as pd\n",
    "import matplotlib.pyplot as plt\n",
    "%matplotlib inline"
   ]
  },
  {
   "cell_type": "markdown",
   "metadata": {},
   "source": [
    "## First: Let's Remember How To Plot With Numpy"
   ]
  },
  {
   "cell_type": "code",
   "execution_count": 61,
   "metadata": {},
   "outputs": [
    {
     "data": {
      "text/plain": [
       "[<matplotlib.lines.Line2D at 0x1254b7b00>]"
      ]
     },
     "execution_count": 61,
     "metadata": {},
     "output_type": "execute_result"
    },
    {
     "data": {
      "image/png": "[encoded data removed]",
      "text/plain": [
       "<Figure size 432x288 with 1 Axes>"
      ]
     },
     "metadata": {
      "needs_background": "light"
     },
     "output_type": "display_data"
    }
   ],
   "source": [
    "#make this plot from scratch:\n",
    "data = np.array([[1,2],[2,4],[3,1]])\n",
    "#all rows, 0th column\n",
    "#all rows, 1st column\n",
    "x = data[:,0]\n",
    "y = data[:,1]\n",
    "plt.title('Simple Graph Made By [Your Name Here]')\n",
    "plt.xlabel('Give Your X Axis a Label')\n",
    "plt.ylabel('Give Your Y Axis a Label')\n",
    "plt.plot(x,y)"
   ]
  },
  {
   "cell_type": "markdown",
   "metadata": {},
   "source": [
    "## Now Let's Plot With Pandas!"
   ]
  },
  {
   "cell_type": "code",
   "execution_count": 3,
   "metadata": {},
   "outputs": [],
   "source": [
    "gamelogsDF = pd.read_csv(\"GL2016.TXT\",header=None)\n",
    "# fix column names\n",
    "gamelogsDF.columns = range(1,162)"
   ]
  },
  {
   "cell_type": "code",
   "execution_count": 59,
   "metadata": {},
   "outputs": [
    {
     "data": {
      "text/html": [
       "<div>\n",
       "<style scoped>\n",
       "    .dataframe tbody tr th:only-of-type {\n",
       "        vertical-align: middle;\n",
       "    }\n",
       "\n",
       "    .dataframe tbody tr th {\n",
       "        vertical-align: top;\n",
       "    }\n",
       "\n",
       "    .dataframe thead th {\n",
       "        text-align: right;\n",
       "    }\n",
       "</style>\n",
       "<table border=\"1\" class=\"dataframe\">\n",
       "  <thead>\n",
       "    <tr style=\"text-align: right;\">\n",
       "      <th></th>\n",
       "      <th>15</th>\n",
       "      <th>16</th>\n",
       "      <th>17</th>\n",
       "      <th>18</th>\n",
       "      <th>19</th>\n",
       "      <th>20</th>\n",
       "      <th>21</th>\n",
       "    </tr>\n",
       "  </thead>\n",
       "  <tbody>\n",
       "    <tr>\n",
       "      <th>0</th>\n",
       "      <td>NaN</td>\n",
       "      <td>NaN</td>\n",
       "      <td>KAN06</td>\n",
       "      <td>40030</td>\n",
       "      <td>193</td>\n",
       "      <td>000000030</td>\n",
       "      <td>10010200x</td>\n",
       "    </tr>\n",
       "    <tr>\n",
       "      <th>1</th>\n",
       "      <td>NaN</td>\n",
       "      <td>NaN</td>\n",
       "      <td>STP01</td>\n",
       "      <td>31042</td>\n",
       "      <td>171</td>\n",
       "      <td>200100020</td>\n",
       "      <td>001000002</td>\n",
       "    </tr>\n",
       "    <tr>\n",
       "      <th>2</th>\n",
       "      <td>NaN</td>\n",
       "      <td>NaN</td>\n",
       "      <td>PIT08</td>\n",
       "      <td>39500</td>\n",
       "      <td>182</td>\n",
       "      <td>000000001</td>\n",
       "      <td>02000101x</td>\n",
       "    </tr>\n",
       "    <tr>\n",
       "      <th>3</th>\n",
       "      <td>NaN</td>\n",
       "      <td>NaN</td>\n",
       "      <td>ANA01</td>\n",
       "      <td>44020</td>\n",
       "      <td>188</td>\n",
       "      <td>100202103</td>\n",
       "      <td>000000000</td>\n",
       "    </tr>\n",
       "    <tr>\n",
       "      <th>4</th>\n",
       "      <td>NaN</td>\n",
       "      <td>NaN</td>\n",
       "      <td>BAL12</td>\n",
       "      <td>45785</td>\n",
       "      <td>168</td>\n",
       "      <td>000000200</td>\n",
       "      <td>000020001</td>\n",
       "    </tr>\n",
       "  </tbody>\n",
       "</table>\n",
       "</div>"
      ],
      "text/plain": [
       "   15   16     17     18   19         20         21\n",
       "0 NaN  NaN  KAN06  40030  193  000000030  10010200x\n",
       "1 NaN  NaN  STP01  31042  171  200100020  001000002\n",
       "2 NaN  NaN  PIT08  39500  182  000000001  02000101x\n",
       "3 NaN  NaN  ANA01  44020  188  100202103  000000000\n",
       "4 NaN  NaN  BAL12  45785  168  000000200  000020001"
      ]
     },
     "execution_count": 59,
     "metadata": {},
     "output_type": "execute_result"
    }
   ],
   "source": [
    "gamelogsDF.loc[:,15:21].head()"
   ]
  },
  {
   "cell_type": "markdown",
   "metadata": {},
   "source": [
    "### Task 1: Get the different unique values for game durations (and how many of each value there are)"
   ]
  },
  {
   "cell_type": "code",
   "execution_count": 4,
   "metadata": {},
   "outputs": [
    {
     "data": {
      "text/plain": [
       "175    55\n",
       "176    54\n",
       "180    53\n",
       "174    51\n",
       "188    47\n",
       "       ..\n",
       "294     1\n",
       "278     1\n",
       "276     1\n",
       "260     1\n",
       "122     1\n",
       "Name: 19, Length: 165, dtype: int64"
      ]
     },
     "execution_count": 4,
     "metadata": {},
     "output_type": "execute_result"
    }
   ],
   "source": [
    "# visualizing data\n",
    "\n",
    "# pandas has a plot function that uses matplotlib\n",
    "\n",
    "# that we can use, so let's check it out\n",
    "\n",
    "\n",
    "# column 19 is the length of the game in minutes\n",
    "\n",
    "# we used this column in our final crosstab example on Monday\n",
    "\n",
    "# we calculated an average game duration, but what if we wanted to see the distribution of game durations?\n",
    "\n",
    "\n",
    "# we can count up the number of occurrences of each duration using\n",
    "\n",
    "# value_counts like we did for HRs\n",
    "\n",
    "gamelogsDF[19].value_counts()"
   ]
  },
  {
   "cell_type": "code",
   "execution_count": 5,
   "metadata": {},
   "outputs": [
    {
     "data": {
      "text/plain": [
       "pandas.core.series.Series"
      ]
     },
     "execution_count": 5,
     "metadata": {},
     "output_type": "execute_result"
    }
   ],
   "source": [
    "# the value on the left is the duration, the value on the right is the number of times\n",
    "\n",
    "# that duration occurred\n",
    "\n",
    "type(gamelogsDF[19].value_counts())"
   ]
  },
  {
   "cell_type": "code",
   "execution_count": 6,
   "metadata": {},
   "outputs": [
    {
     "data": {
      "text/plain": [
       "array([175, 176, 180, 174, 188, 184, 185, 172, 183, 171, 187, 192, 197,\n",
       "       168, 193, 181, 173, 177, 178, 190, 166, 189, 167, 179, 163, 182,\n",
       "       165, 164, 203, 199, 159, 201, 194, 198, 186, 191, 169, 170, 205,\n",
       "       157, 202, 158, 161, 153, 160, 162, 200, 156, 195, 208, 155, 152,\n",
       "       204, 209, 210, 154, 207, 212, 196, 151, 218, 150, 206, 216, 146,\n",
       "       213, 215, 148, 149, 211, 227, 147, 143, 141, 234, 219, 223, 220,\n",
       "       145, 142, 222, 225, 228, 232, 240, 226, 229, 139, 217, 224, 144,\n",
       "       241, 236, 137, 130, 214, 238, 243, 237, 235, 231, 221, 247, 233,\n",
       "       263, 230, 140, 245, 131, 135, 242, 138, 136, 256, 132, 325, 133,\n",
       "       134, 283, 286, 291, 274, 270, 268, 251, 255, 258, 303, 265, 269,\n",
       "       128, 126, 373, 115, 248, 347, 323, 309, 297, 289, 281, 279, 275,\n",
       "       271, 261, 259, 257, 253, 127,  75, 254, 356, 348, 334, 326, 318,\n",
       "       310, 304, 300, 298, 294, 278, 276, 260, 122])"
      ]
     },
     "execution_count": 6,
     "metadata": {},
     "output_type": "execute_result"
    }
   ],
   "source": [
    "# in case you're wondering, the first column is the row label\n",
    "\n",
    "# the second column is the actual count for that label, which is\n",
    "\n",
    "# the game duration\n",
    "\n",
    "# you can get an array of all of the row labels (these should be the unique game durations, right?) using this syntax:\n",
    "\n",
    "# seriesName.index.values\n",
    "\n",
    "gamelogsDF[19].value_counts().index.values"
   ]
  },
  {
   "cell_type": "markdown",
   "metadata": {},
   "source": [
    "### Task 2: Sort all of these unique game durations"
   ]
  },
  {
   "cell_type": "code",
   "execution_count": 9,
   "metadata": {},
   "outputs": [
    {
     "data": {
      "text/plain": [
       "75     1\n",
       "115    1\n",
       "122    1\n",
       "126    1\n",
       "127    1\n",
       "      ..\n",
       "334    1\n",
       "347    1\n",
       "348    1\n",
       "356    1\n",
       "373    1\n",
       "Name: 19, Length: 165, dtype: int64"
      ]
     },
     "execution_count": 9,
     "metadata": {},
     "output_type": "execute_result"
    }
   ],
   "source": [
    "# we now have a distribution of game durations.  let's sort it in\n",
    "\n",
    "# ascending order using sort_index\n",
    "\n",
    "gameDurations = gamelogsDF[19].value_counts().sort_index()\n",
    "\n",
    "# the default sort order for sort_index is ascending. if you'd like to sort descending,\n",
    "\n",
    "# add ascending=False as an argument in sort_index\n",
    "\n",
    "gameDurations\n",
    "\n",
    "#x axis will be the minutes, y axis will be the counts"
   ]
  },
  {
   "cell_type": "markdown",
   "metadata": {},
   "source": [
    "### Task 3: Time to plot!"
   ]
  },
  {
   "cell_type": "markdown",
   "metadata": {},
   "source": [
    "#### Plotting in style:"
   ]
  },
  {
   "cell_type": "code",
   "execution_count": 84,
   "metadata": {},
   "outputs": [
    {
     "data": {
      "text/plain": [
       "Text(0.5, 1.0, 'Distribution of Game Times in Minutes')"
      ]
     },
     "execution_count": 84,
     "metadata": {},
     "output_type": "execute_result"
    },
    {
     "data": {
      "image/png": "[encoded data removed]",
      "text/plain": [
       "<Figure size 432x288 with 1 Axes>"
      ]
     },
     "metadata": {
      "needs_background": "light"
     },
     "output_type": "display_data"
    }
   ],
   "source": [
    "# okay, let's plot\n",
    "\n",
    " \n",
    "\n",
    "# first do this so we can see the plot inline\n",
    "\n",
    "%matplotlib inline\n",
    "\n",
    " \n",
    "\n",
    "# durationPlot = gameDurations.plot(style='c.',figsize=(10, 6))\n",
    "# durationPlot = gameDurations.plot(style='k-',figsize=(10, 6))\n",
    "# durationPlot = gameDurations.plot(style='bo',figsize=(10, 6))\n",
    "# durationPlot = gameDurations.plot(style='r*',figsize=(10, 6))\n",
    "#'b', 'r', 'g', 'y', 'k'\n",
    "#durationPlot = gameDurations.plot()\n",
    "\n",
    "#durationPlot.set_xlabel(\"Minutes\")\n",
    "\n",
    "#durationPlot.set_ylabel(\"Count\")\n",
    "#durationPlot.set_title(\"Distribution of Game Times in Minutes\")\n",
    "\n",
    "durationPlot = gameDurations.plot(\n",
    "durationPlot = gameDurations.plot(style='c.',figsize=(10,6))\n",
    "durationPlot.set_xlabel(\"Minutes\")\n",
    "durationPlot.set_ylabel(\"Number of Games\")\n",
    "durationPlot.set_title(\"Distribution of Game Times in Minutes\")\n",
    "\n",
    "# what kind of plot is this?  bar chart.  but does it look like a specific kind of bar chart?  yes, a histogram."
   ]
  },
  {
   "cell_type": "markdown",
   "metadata": {},
   "source": [
    "#### Histogramming in style:"
   ]
  },
  {
   "cell_type": "code",
   "execution_count": 90,
   "metadata": {},
   "outputs": [
    {
     "data": {
      "text/plain": [
       "Text(0, 0.5, 'Count')"
      ]
     },
     "execution_count": 90,
     "metadata": {},
     "output_type": "execute_result"
    },
    {
     "data": {
      "image/png": "[encoded data removed]",
      "text/plain": [
       "<Figure size 432x288 with 1 Axes>"
      ]
     },
     "metadata": {
      "needs_background": "light"
     },
     "output_type": "display_data"
    }
   ],
   "source": [
    "# plot has LOTS of options. look up the documentation if you'd like to dive into it\n",
    "# we'll get into it more as we get further into pandas\n",
    "# but one of the things we can do is specify that we want a histogram\n",
    "# which means that we don't need to use value_counts\n",
    "  \n",
    "    \n",
    "# durationHist = gamelogsDF[19].plot(kind=\"hist\",bins=80)\n",
    "durationHist = gamelogsDF[19].plot(kind=\"hist\",bins=50)\n",
    "# durationHist = gamelogsDF[19].plot(kind=\"hist\",bins=10)\n",
    "\n",
    "#other way to do a hist\n",
    "# durationHist = gamelogsDF[19].plot.hist()   \n",
    "\n",
    "# bins are the number of \"buckets\" data can fall into\n",
    "durationHist.set_title(\"Distribution of Game Times in Minutes\")\n",
    "durationHist.set_xlabel(\"Minutes\")\n",
    "\n",
    "durationHist.set_ylabel(\"Count\")\n"
   ]
  },
  {
   "cell_type": "code",
   "execution_count": 12,
   "metadata": {},
   "outputs": [
    {
     "data": {
      "image/png": "[encoded data removed]",
      "text/plain": [
       "<Figure size 432x288 with 2 Axes>"
      ]
     },
     "metadata": {
      "needs_background": "light"
     },
     "output_type": "display_data"
    }
   ],
   "source": [
    "# sometimes .hist is better.  for example,\n",
    "\n",
    "# you can also make histograms of multiple columns by specifying a dataframe with multiple columns\n",
    "\n",
    "# 18 is attendance\n",
    "\n",
    "durationHist = gamelogsDF[[18,19]].hist(bins=50)"
   ]
  },
  {
   "cell_type": "code",
   "execution_count": 13,
   "metadata": {},
   "outputs": [
    {
     "data": {
      "image/png": "[encoded data removed]",
      "text/plain": [
       "<Figure size 432x288 with 1 Axes>"
      ]
     },
     "metadata": {
      "needs_background": "light"
     },
     "output_type": "display_data"
    }
   ],
   "source": [
    "# if we do that with .plot, we’ll get something different:\n",
    "\n",
    "durationHist = gamelogsDF[[18,19]].plot(kind=\"hist\",bins=50)"
   ]
  },
  {
   "cell_type": "code",
   "execution_count": null,
   "metadata": {},
   "outputs": [],
   "source": []
  }
 ],
 "metadata": {
  "kernelspec": {
   "display_name": "Python 3",
   "language": "python",
   "name": "python3"
  },
  "language_info": {
   "codemirror_mode": {
    "name": "ipython",
    "version": 3
   },
   "file_extension": ".py",
   "mimetype": "text/x-python",
   "name": "python",
   "nbconvert_exporter": "python",
   "pygments_lexer": "ipython3",
   "version": "3.7.4"
  }
 },
 "nbformat": 4,
 "nbformat_minor": 2
}
