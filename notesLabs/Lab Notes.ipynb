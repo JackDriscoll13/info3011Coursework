{
 "cells": [
  {
   "cell_type": "code",
   "execution_count": 22,
   "metadata": {},
   "outputs": [
    {
     "name": "stdout",
     "output_type": "stream",
     "text": [
      "['jack', 'Jimmy', 'Henry', 'Benny', 'Sandra']\n"
     ]
    }
   ],
   "source": [
    "# reverse a list!\n",
    "\n",
    "myList = [\"Sandra\",\"Benny\",\"Henry\",\"Jimmy\",\"jack\"]\n",
    "def revList(myList):\n",
    "    newList = []\n",
    "    listLength = (len(myList))-1\n",
    "    for i in range(0,listLength+1):\n",
    "        #print(myList[listLength-i])\n",
    "        newList.append(myList[listLength-i])\n",
    "    return newList\n",
    "\n",
    "print(revList(myList))\n"
   ]
  }
 ],
 "metadata": {
  "kernelspec": {
   "display_name": "Python 3",
   "language": "python",
   "name": "python3"
  },
  "language_info": {
   "codemirror_mode": {
    "name": "ipython",
    "version": 3
   },
   "file_extension": ".py",
   "mimetype": "text/x-python",
   "name": "python",
   "nbconvert_exporter": "python",
   "pygments_lexer": "ipython3",
   "version": "3.7.4"
  }
 },
 "nbformat": 4,
 "nbformat_minor": 2
}
