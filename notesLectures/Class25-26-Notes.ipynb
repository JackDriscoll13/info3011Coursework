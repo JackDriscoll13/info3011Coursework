{
 "cells": [
  {
   "cell_type": "code",
   "execution_count": 1,
   "metadata": {},
   "outputs": [
    {
     "data": {
      "text/plain": [
       "[10, 11, 12, 14, 15]"
      ]
     },
     "execution_count": 1,
     "metadata": {},
     "output_type": "execute_result"
    }
   ],
   "source": [
    "# numpy\n",
    "listOfNumbers = [10,11,12,14,15]\n",
    "listOfNumbers"
   ]
  },
  {
   "cell_type": "code",
   "execution_count": 2,
   "metadata": {},
   "outputs": [
    {
     "data": {
      "text/plain": [
       "[[10, 12], [15, 19], [20, 22]]"
      ]
     },
     "execution_count": 2,
     "metadata": {},
     "output_type": "execute_result"
    }
   ],
   "source": [
    "listOfAListOfNumbers = [[10,12],[15,19],[20,22]]\n",
    "listOfAListOfNumbers"
   ]
  },
  {
   "cell_type": "code",
   "execution_count": 3,
   "metadata": {},
   "outputs": [
    {
     "name": "stdout",
     "output_type": "stream",
     "text": [
      "[11, 12, 13, 15, 16]\n"
     ]
    }
   ],
   "source": [
    "# if we wanted to add one to each number in our matrix...\n",
    "for i in range(0,len(listOfNumbers)):\n",
    "    listOfNumbers[i] += 1\n",
    "print(listOfNumbers)"
   ]
  },
  {
   "cell_type": "code",
   "execution_count": 5,
   "metadata": {},
   "outputs": [
    {
     "name": "stdout",
     "output_type": "stream",
     "text": [
      "[[12, 14], [16, 20], [21, 23]]\n"
     ]
    }
   ],
   "source": [
    "for i in range(0,len(listOfAListOfNumbers)):\n",
    "    for j in range(0,len(listOfAListOfNumbers[i])):\n",
    "        listOfAListOfNumbers[i][j] += 1\n",
    "print(listOfAListOfNumbers)"
   ]
  },
  {
   "cell_type": "code",
   "execution_count": 1,
   "metadata": {},
   "outputs": [
    {
     "ename": "NameError",
     "evalue": "name 'listOfNumbers' is not defined",
     "output_type": "error",
     "traceback": [
      "\u001b[0;31m---------------------------------------------------------------------------\u001b[0m",
      "\u001b[0;31mNameError\u001b[0m                                 Traceback (most recent call last)",
      "\u001b[0;32m<ipython-input-1-71c337a20b54>\u001b[0m in \u001b[0;36m<module>\u001b[0;34m\u001b[0m\n\u001b[1;32m      1\u001b[0m \u001b[0;31m# there is a better way\u001b[0m\u001b[0;34m\u001b[0m\u001b[0;34m\u001b[0m\u001b[0;34m\u001b[0m\u001b[0m\n\u001b[1;32m      2\u001b[0m \u001b[0;32mimport\u001b[0m \u001b[0mnumpy\u001b[0m \u001b[0;32mas\u001b[0m \u001b[0mnp\u001b[0m\u001b[0;34m\u001b[0m\u001b[0;34m\u001b[0m\u001b[0m\n\u001b[0;32m----> 3\u001b[0;31m \u001b[0msimpleNumpyArray\u001b[0m \u001b[0;34m=\u001b[0m \u001b[0mnp\u001b[0m\u001b[0;34m.\u001b[0m\u001b[0marray\u001b[0m\u001b[0;34m(\u001b[0m\u001b[0mlistOfNumbers\u001b[0m\u001b[0;34m)\u001b[0m\u001b[0;34m\u001b[0m\u001b[0;34m\u001b[0m\u001b[0m\n\u001b[0m\u001b[1;32m      4\u001b[0m \u001b[0msimpleNumpyArray\u001b[0m\u001b[0;34m\u001b[0m\u001b[0;34m\u001b[0m\u001b[0m\n",
      "\u001b[0;31mNameError\u001b[0m: name 'listOfNumbers' is not defined"
     ]
    }
   ],
   "source": [
    "# there is a better way\n",
    "import numpy as np\n",
    "simpleNumpyArray = np.array(listOfNumbers)\n",
    "simpleNumpyArray"
   ]
  },
  {
   "cell_type": "code",
   "execution_count": 7,
   "metadata": {},
   "outputs": [
    {
     "data": {
      "text/plain": [
       "numpy.ndarray"
      ]
     },
     "execution_count": 7,
     "metadata": {},
     "output_type": "execute_result"
    }
   ],
   "source": [
    "type(simpleNumpyArray)"
   ]
  },
  {
   "cell_type": "code",
   "execution_count": 8,
   "metadata": {},
   "outputs": [
    {
     "data": {
      "text/plain": [
       "array([12, 13, 14, 16, 17])"
      ]
     },
     "execution_count": 8,
     "metadata": {},
     "output_type": "execute_result"
    }
   ],
   "source": [
    "simpleNumpyArray+1"
   ]
  },
  {
   "cell_type": "code",
   "execution_count": 9,
   "metadata": {},
   "outputs": [
    {
     "data": {
      "text/plain": [
       "array([11, 12, 13, 15, 16])"
      ]
     },
     "execution_count": 9,
     "metadata": {},
     "output_type": "execute_result"
    }
   ],
   "source": [
    "simpleNumpyArray"
   ]
  },
  {
   "cell_type": "code",
   "execution_count": 10,
   "metadata": {},
   "outputs": [
    {
     "name": "stdout",
     "output_type": "stream",
     "text": [
      "[11 12 13 15 16]\n",
      "[11, 12, 13, 15, 16]\n"
     ]
    }
   ],
   "source": [
    "# need that numpy array back in a list?\n",
    "listedArray = simpleNumpyArray.tolist()\n",
    "print(simpleNumpyArray)\n",
    "print(listedArray)"
   ]
  },
  {
   "cell_type": "code",
   "execution_count": 12,
   "metadata": {},
   "outputs": [
    {
     "name": "stdout",
     "output_type": "stream",
     "text": [
      "362 µs ± 18.4 µs per loop (mean ± std. dev. of 7 runs, 1000 loops each)\n"
     ]
    }
   ],
   "source": [
    "# why use numpy?  it's REALLLLY fast\n",
    "emptyList = []\n",
    "thisGoesTo1000 = list(range(1000))\n",
    "%timeit for i in range(1000):emptyList.append(i**2)"
   ]
  },
  {
   "cell_type": "code",
   "execution_count": 13,
   "metadata": {},
   "outputs": [
    {
     "name": "stdout",
     "output_type": "stream",
     "text": [
      "1.07 µs ± 23 ns per loop (mean ± std. dev. of 7 runs, 1000000 loops each)\n"
     ]
    }
   ],
   "source": [
    "numpyArray = np.arange(1000)\n",
    "%timeit numpyArray**2"
   ]
  },
  {
   "cell_type": "code",
   "execution_count": 14,
   "metadata": {},
   "outputs": [
    {
     "name": "stdout",
     "output_type": "stream",
     "text": [
      "[1 2 3 4]\n"
     ]
    }
   ],
   "source": [
    "myArray = np.array([1,2,3,4]) # make a new array\n",
    "print(myArray)"
   ]
  },
  {
   "cell_type": "code",
   "execution_count": 15,
   "metadata": {},
   "outputs": [
    {
     "name": "stdout",
     "output_type": "stream",
     "text": [
      "[ 0  1  2  3  4  5  6  7  8  9 10 11 12 13 14 15 16 17 18 19 20 21 22 23\n",
      " 24 25 26 27 28 29 30 31 32 33 34 35 36 37 38 39 40 41 42 43 44 45 46 47\n",
      " 48 49 50 51 52 53 54 55 56 57 58 59 60 61 62 63 64 65 66 67 68 69 70 71\n",
      " 72 73 74 75 76 77 78 79 80 81 82 83 84 85 86 87 88 89 90 91 92 93 94 95\n",
      " 96 97 98 99]\n"
     ]
    }
   ],
   "source": [
    "# arange:\n",
    "rangedArray = np.arange(100)\n",
    "print(rangedArray)"
   ]
  },
  {
   "cell_type": "code",
   "execution_count": 16,
   "metadata": {},
   "outputs": [
    {
     "name": "stdout",
     "output_type": "stream",
     "text": [
      "[10 11 12 13 14 15 16 17 18 19]\n"
     ]
    }
   ],
   "source": [
    "# arange works like range\n",
    "anotherRangedArray = np.arange(10,20)\n",
    "print(anotherRangedArray)"
   ]
  },
  {
   "cell_type": "code",
   "execution_count": 17,
   "metadata": {},
   "outputs": [
    {
     "name": "stdout",
     "output_type": "stream",
     "text": [
      "[37 39 41 43 45 47 49]\n"
     ]
    }
   ],
   "source": [
    "steppedRangedArray = np.arange(37,50,2) # using a stepsize of 2\n",
    "print(steppedRangedArray)"
   ]
  },
  {
   "cell_type": "code",
   "execution_count": 19,
   "metadata": {},
   "outputs": [
    {
     "name": "stdout",
     "output_type": "stream",
     "text": [
      "['3' '4' 'howdy']\n"
     ]
    }
   ],
   "source": [
    "# shapes and types\n",
    "myBadList = [3,4,\"howdy\"]\n",
    "myBadArray = np.array(myBadList)\n",
    "print(myBadArray)"
   ]
  },
  {
   "cell_type": "code",
   "execution_count": 20,
   "metadata": {},
   "outputs": [
    {
     "ename": "UFuncTypeError",
     "evalue": "ufunc 'multiply' did not contain a loop with signature matching types (dtype('<U21'), dtype('<U21')) -> dtype('<U21')",
     "output_type": "error",
     "traceback": [
      "\u001b[0;31m---------------------------------------------------------------------------\u001b[0m",
      "\u001b[0;31mUFuncTypeError\u001b[0m                            Traceback (most recent call last)",
      "\u001b[0;32m<ipython-input-20-a5dd9f34f519>\u001b[0m in \u001b[0;36m<module>\u001b[0;34m\u001b[0m\n\u001b[1;32m      1\u001b[0m \u001b[0;31m# they all became strings!  eep!\u001b[0m\u001b[0;34m\u001b[0m\u001b[0;34m\u001b[0m\u001b[0;34m\u001b[0m\u001b[0m\n\u001b[0;32m----> 2\u001b[0;31m \u001b[0mprint\u001b[0m\u001b[0;34m(\u001b[0m\u001b[0mmyBadArray\u001b[0m\u001b[0;34m*\u001b[0m\u001b[0;36m2\u001b[0m\u001b[0;34m)\u001b[0m\u001b[0;34m\u001b[0m\u001b[0;34m\u001b[0m\u001b[0m\n\u001b[0m",
      "\u001b[0;31mUFuncTypeError\u001b[0m: ufunc 'multiply' did not contain a loop with signature matching types (dtype('<U21'), dtype('<U21')) -> dtype('<U21')"
     ]
    }
   ],
   "source": [
    "# they all became strings!  eep!\n",
    "print(myBadArray*2)\n",
    "# you get an error because numpy doesn't know how to multiply strings"
   ]
  },
  {
   "cell_type": "code",
   "execution_count": 21,
   "metadata": {},
   "outputs": [
    {
     "name": "stdout",
     "output_type": "stream",
     "text": [
      "<U21\n"
     ]
    }
   ],
   "source": [
    "print(myBadArray.dtype) # .dtype is an np object property"
   ]
  },
  {
   "cell_type": "code",
   "execution_count": 22,
   "metadata": {},
   "outputs": [
    {
     "name": "stdout",
     "output_type": "stream",
     "text": [
      "int64\n"
     ]
    }
   ],
   "source": [
    "print(steppedRangedArray.dtype)"
   ]
  },
  {
   "cell_type": "code",
   "execution_count": 23,
   "metadata": {},
   "outputs": [
    {
     "data": {
      "text/plain": [
       "array([74, 78, 82, 86, 90, 94, 98])"
      ]
     },
     "execution_count": 23,
     "metadata": {},
     "output_type": "execute_result"
    }
   ],
   "source": [
    "steppedRangedArray*2"
   ]
  },
  {
   "cell_type": "code",
   "execution_count": 26,
   "metadata": {},
   "outputs": [
    {
     "name": "stdout",
     "output_type": "stream",
     "text": [
      "[[1 2]\n",
      " [2 3]\n",
      " [3 4]]\n"
     ]
    }
   ],
   "source": [
    "a2DArray = np.array([[1,2],[2,3],[3,4]])\n",
    "print(a2DArray)"
   ]
  },
  {
   "cell_type": "code",
   "execution_count": 27,
   "metadata": {},
   "outputs": [
    {
     "name": "stdout",
     "output_type": "stream",
     "text": [
      "(3, 2)\n"
     ]
    }
   ],
   "source": [
    "print(a2DArray.shape) # shape is a np array property that gives you the row, column dimensions"
   ]
  },
  {
   "cell_type": "code",
   "execution_count": 28,
   "metadata": {},
   "outputs": [
    {
     "name": "stdout",
     "output_type": "stream",
     "text": [
      "int64\n"
     ]
    }
   ],
   "source": [
    "print(a2DArray.dtype) # dtype gives you the datatype of the *data* in the array"
   ]
  },
  {
   "cell_type": "code",
   "execution_count": 29,
   "metadata": {},
   "outputs": [
    {
     "data": {
      "text/plain": [
       "numpy.ndarray"
      ]
     },
     "execution_count": 29,
     "metadata": {},
     "output_type": "execute_result"
    }
   ],
   "source": [
    "type(a2DArray)"
   ]
  },
  {
   "cell_type": "code",
   "execution_count": 30,
   "metadata": {},
   "outputs": [
    {
     "name": "stdout",
     "output_type": "stream",
     "text": [
      "4\n"
     ]
    }
   ],
   "source": [
    "# get items from an array\n",
    "print(a2DArray[2][1])"
   ]
  },
  {
   "cell_type": "code",
   "execution_count": 31,
   "metadata": {},
   "outputs": [
    {
     "name": "stdout",
     "output_type": "stream",
     "text": [
      "4\n"
     ]
    }
   ],
   "source": [
    "# numpy has a special accessor syntax\n",
    "print(a2DArray[2,1]) # we use commas instead of separate brackets"
   ]
  },
  {
   "cell_type": "code",
   "execution_count": 34,
   "metadata": {},
   "outputs": [
    {
     "name": "stdout",
     "output_type": "stream",
     "text": [
      "[[2 3]\n",
      " [3 4]]\n"
     ]
    }
   ],
   "source": [
    "# you can slice numpy arrays\n",
    "print(a2DArray[1:])"
   ]
  },
  {
   "cell_type": "code",
   "execution_count": 35,
   "metadata": {},
   "outputs": [
    {
     "name": "stdout",
     "output_type": "stream",
     "text": [
      "[[1 2]\n",
      " [2 3]\n",
      " [3 4]]\n"
     ]
    }
   ],
   "source": [
    "print(a2DArray)"
   ]
  },
  {
   "cell_type": "code",
   "execution_count": 33,
   "metadata": {},
   "outputs": [
    {
     "name": "stdout",
     "output_type": "stream",
     "text": [
      "[1 2 3]\n"
     ]
    }
   ],
   "source": [
    "# if you only wanted the first column?\n",
    "print(a2DArray[0:,0])"
   ]
  },
  {
   "cell_type": "code",
   "execution_count": 36,
   "metadata": {},
   "outputs": [
    {
     "name": "stdout",
     "output_type": "stream",
     "text": [
      "[1 2 3]\n"
     ]
    }
   ],
   "source": [
    "print(a2DArray[:,0])# this says give me every row but only the first column"
   ]
  },
  {
   "cell_type": "code",
   "execution_count": 37,
   "metadata": {},
   "outputs": [
    {
     "name": "stdout",
     "output_type": "stream",
     "text": [
      "[[ 0  1  2  3  4]\n",
      " [ 5  6  7  8  9]\n",
      " [10 11 12 13 14]]\n"
     ]
    }
   ],
   "source": [
    "aBigger2DArray = np.array([[0,1,2,3,4],[5,6,7,8,9],[10,11,12,13,14]])\n",
    "print(aBigger2DArray)"
   ]
  },
  {
   "cell_type": "code",
   "execution_count": 38,
   "metadata": {},
   "outputs": [
    {
     "name": "stdout",
     "output_type": "stream",
     "text": [
      "[[ 0  2  4]\n",
      " [10 12 14]]\n"
     ]
    }
   ],
   "source": [
    "# give me every other row and every other column\n",
    "print(aBigger2DArray[::2,::2])"
   ]
  },
  {
   "cell_type": "code",
   "execution_count": 39,
   "metadata": {},
   "outputs": [
    {
     "name": "stdout",
     "output_type": "stream",
     "text": [
      "[  0.           2.56410256   5.12820513   7.69230769  10.25641026\n",
      "  12.82051282  15.38461538  17.94871795  20.51282051  23.07692308\n",
      "  25.64102564  28.20512821  30.76923077  33.33333333  35.8974359\n",
      "  38.46153846  41.02564103  43.58974359  46.15384615  48.71794872\n",
      "  51.28205128  53.84615385  56.41025641  58.97435897  61.53846154\n",
      "  64.1025641   66.66666667  69.23076923  71.79487179  74.35897436\n",
      "  76.92307692  79.48717949  82.05128205  84.61538462  87.17948718\n",
      "  89.74358974  92.30769231  94.87179487  97.43589744 100.        ]\n"
     ]
    }
   ],
   "source": [
    "# generate an array with a certain number of points between and including a start and stop\n",
    "evenlySep = np.linspace(0,100,40) # this makes an array with numbers that start at 0 and end\n",
    "# at 100 and contains 40 points\n",
    "print(evenlySep)"
   ]
  },
  {
   "cell_type": "code",
   "execution_count": 19,
   "metadata": {},
   "outputs": [
    {
     "name": "stdout",
     "output_type": "stream",
     "text": [
      "[18 12 15 16 16 11 12 11 11 11]\n"
     ]
    }
   ],
   "source": [
    "# we can also create an array with random data\n",
    "randomArray = np.random.randint(10,20,size=10)\n",
    "# generates an array of 10 numbers that start at 10 up to but not including 20\n",
    "print(randomArray)"
   ]
  },
  {
   "cell_type": "code",
   "execution_count": 9,
   "metadata": {},
   "outputs": [
    {
     "name": "stdout",
     "output_type": "stream",
     "text": [
      "[[15 14]\n",
      " [14 16]\n",
      " [11 12]\n",
      " [12 12]\n",
      " [15 14]]\n"
     ]
    }
   ],
   "source": [
    "random2DArray = np.random.randint(10,20,size=(5,2)) # creates a random 2D array of 5 rows and\n",
    "# 2 columns with numbers between 10 and 19\n",
    "print(random2DArray) "
   ]
  },
  {
   "cell_type": "code",
   "execution_count": 2,
   "metadata": {},
   "outputs": [],
   "source": [
    "import numpy as np"
   ]
  },
  {
   "cell_type": "code",
   "execution_count": 20,
   "metadata": {},
   "outputs": [
    {
     "name": "stdout",
     "output_type": "stream",
     "text": [
      "[18 18 12 16 11]\n"
     ]
    }
   ],
   "source": [
    "# get 5 random numbers from random2DArray\n",
    "print(np.random.choice(randomArray,size=5))\n",
    "# each grab is random, so you can have a number from randomArray in the new array multiple\n",
    "# times"
   ]
  },
  {
   "cell_type": "code",
   "execution_count": 21,
   "metadata": {},
   "outputs": [],
   "source": [
    "# shuffle an array\n",
    "np.random.shuffle(randomArray)"
   ]
  },
  {
   "cell_type": "code",
   "execution_count": 22,
   "metadata": {},
   "outputs": [
    {
     "name": "stdout",
     "output_type": "stream",
     "text": [
      "[11 18 12 12 11 16 15 11 11 16]\n"
     ]
    }
   ],
   "source": [
    "print(randomArray)\n",
    "# note that shuffle doesn't return the array, but actually modifies it."
   ]
  },
  {
   "cell_type": "code",
   "execution_count": 23,
   "metadata": {},
   "outputs": [],
   "source": [
    "shuffledArrayResult = np.random.shuffle(randomArray)"
   ]
  },
  {
   "cell_type": "code",
   "execution_count": 24,
   "metadata": {},
   "outputs": [
    {
     "name": "stdout",
     "output_type": "stream",
     "text": [
      "None\n"
     ]
    }
   ],
   "source": [
    "print(shuffledArrayResult)"
   ]
  },
  {
   "cell_type": "code",
   "execution_count": 25,
   "metadata": {},
   "outputs": [
    {
     "name": "stdout",
     "output_type": "stream",
     "text": [
      "[12 11 16 16 12 15 11 11 11 18]\n"
     ]
    }
   ],
   "source": [
    "print(randomArray)"
   ]
  },
  {
   "cell_type": "code",
   "execution_count": 26,
   "metadata": {
    "collapsed": true
   },
   "outputs": [
    {
     "name": "stdout",
     "output_type": "stream",
     "text": [
      "[ 87.89103979  97.77357965 114.16684155 103.35419372  87.82353079\n",
      " 111.10106179 118.74753801  99.37721285 114.2000372   90.67951986\n",
      "  82.70183204 106.36721296  82.8188886  108.69989522  93.57755842\n",
      " 104.42109078 100.18896573 100.10775111 103.14773298  91.14133785\n",
      " 105.46059189 120.52145114  91.73575321 101.0776078  125.09950746\n",
      "  95.5869519  107.14583613  94.25926573 114.84074437 101.82488165\n",
      " 105.90062538 102.01311024 100.95780147  96.60612693  95.79602563\n",
      "  75.37556516 106.555398    93.40229452 105.55026312  96.24092266\n",
      "  99.79101495 107.73121121 104.26985583  96.07125828 110.73780165\n",
      " 111.174873   106.76107693  90.64137059  90.87064611  88.5921673\n",
      "  82.16051846 111.03699078  98.68303962 109.77031258 108.53457872\n",
      "  97.67187651 101.50689568  88.8406055   99.85884892  89.39841057\n",
      "  79.48915626 114.88966238  99.60441839  93.85239981  94.9624404\n",
      "  96.11214381 107.26296049 104.79186062  87.01760616  81.52526761\n",
      " 111.12776021 101.64383312 106.81724892  95.61769519  92.02725412\n",
      "  99.40656644  96.15989285 104.35300904  97.02836     98.2610355\n",
      "  93.05349325 104.98342653  87.51514878 113.61214213  96.5043666\n",
      " 103.4674017   88.81715388 111.70397081  91.15095345  93.88745281\n",
      "  86.4859818  112.58507399  81.3292096  104.1538952   99.4695394\n",
      "  99.68560195  98.28015335 103.46333725  97.98387983  98.91799713\n",
      "  88.8731844  107.70017979  91.77733454 108.96855487 110.18267957\n",
      " 105.34011034  92.16855945  87.40030925  94.34562621 116.88468167\n",
      " 103.37456051 101.1358451   96.11949534  86.9966921  122.6780223\n",
      "  84.75778281  84.70006004 101.41149931  83.0388998  116.2363098\n",
      " 111.24067061  89.721575    95.52697476 115.39041193 103.17265369\n",
      "  93.12866525  94.5147998   78.27019253 116.7895971   98.51299424\n",
      " 114.25744358 108.07519644 107.63622344  95.16296505 110.10222095\n",
      "  91.72993065 101.33493313  87.21407399  89.75607928  93.67719717\n",
      " 109.53239232  95.46486458 110.65514794  99.20179222 113.65659662\n",
      "  99.32142064  85.55552704  93.86432184  94.13682031  94.29825721]\n"
     ]
    }
   ],
   "source": [
    "# use random to create a normal distribution of numbers\n",
    "normallyDist = np.random.normal(100,10,150)\n",
    "print(normallyDist)\n",
    "# 100: mean\n",
    "# 10: standard deviation\n",
    "# 150: number of datapoints in the array we've created"
   ]
  },
  {
   "cell_type": "code",
   "execution_count": 27,
   "metadata": {},
   "outputs": [
    {
     "name": "stdout",
     "output_type": "stream",
     "text": [
      "[0 1 2 3 4]\n",
      "[5 6 7 8 9]\n",
      "[0 1 2 3 4 5 6 7 8 9]\n"
     ]
    }
   ],
   "source": [
    "# we can join arrays using the concatenate method\n",
    "zeroThroughFour = np.arange(0,5)\n",
    "fiveThroughNine = np.arange(5,10)\n",
    "zeroThroughNine = np.concatenate((zeroThroughFour,fiveThroughNine))\n",
    "# concatenate takes a tuple of arrays that you want to concatenate\n",
    "print(zeroThroughFour)\n",
    "print(fiveThroughNine)\n",
    "print(zeroThroughNine)"
   ]
  },
  {
   "cell_type": "code",
   "execution_count": 28,
   "metadata": {},
   "outputs": [
    {
     "name": "stdout",
     "output_type": "stream",
     "text": [
      "[5 6 7 8 9 0 1 2 3 4]\n"
     ]
    }
   ],
   "source": [
    "print(np.concatenate((fiveThroughNine,zeroThroughFour))) # the order of the arrays in the tuple\n",
    "# matters"
   ]
  },
  {
   "cell_type": "code",
   "execution_count": 29,
   "metadata": {},
   "outputs": [
    {
     "name": "stdout",
     "output_type": "stream",
     "text": [
      "[  1   2   3   4   5   6   7   8   9  10  11  12  13  14  15  16  17  18\n",
      "  19  20  21  22  23  24  25  26  27  28  29  30  31  32  33  34  35  36\n",
      "  37  38  39  40  41  42  43  44  45  46  47  48  49  50  51  52  53  54\n",
      "  55  56  57  58  59  60  61  62  63  64  65  66  67  68  69  70  71  72\n",
      "  73  74  75  76  77  78  79  80  81  82  83  84  85  86  87  88  89  90\n",
      "  91  92  93  94  95  96  97  98  99 100]\n"
     ]
    }
   ],
   "source": [
    "# reshaping\n",
    "hundyArray = np.arange(1,101)\n",
    "print(hundyArray)"
   ]
  },
  {
   "cell_type": "code",
   "execution_count": 30,
   "metadata": {},
   "outputs": [
    {
     "name": "stdout",
     "output_type": "stream",
     "text": [
      "[[  1   2   3   4   5   6   7   8   9  10]\n",
      " [ 11  12  13  14  15  16  17  18  19  20]\n",
      " [ 21  22  23  24  25  26  27  28  29  30]\n",
      " [ 31  32  33  34  35  36  37  38  39  40]\n",
      " [ 41  42  43  44  45  46  47  48  49  50]\n",
      " [ 51  52  53  54  55  56  57  58  59  60]\n",
      " [ 61  62  63  64  65  66  67  68  69  70]\n",
      " [ 71  72  73  74  75  76  77  78  79  80]\n",
      " [ 81  82  83  84  85  86  87  88  89  90]\n",
      " [ 91  92  93  94  95  96  97  98  99 100]]\n"
     ]
    }
   ],
   "source": [
    "# let's reshape this array\n",
    "reshapedHundyArray = hundyArray.reshape((10,10))\n",
    "print(reshapedHundyArray)\n",
    "# important things to note: reshape doesn't modify the existing array, but it returns \n",
    "# a new array\n",
    "# you can only reshape into a size where all of the cells of the matrix are full"
   ]
  },
  {
   "cell_type": "code",
   "execution_count": 31,
   "metadata": {},
   "outputs": [
    {
     "ename": "ValueError",
     "evalue": "cannot reshape array of size 100 into shape (10,9)",
     "output_type": "error",
     "traceback": [
      "\u001b[0;31m---------------------------------------------------------------------------\u001b[0m",
      "\u001b[0;31mValueError\u001b[0m                                Traceback (most recent call last)",
      "\u001b[0;32m<ipython-input-31-bca4ca935477>\u001b[0m in \u001b[0;36m<module>\u001b[0;34m\u001b[0m\n\u001b[0;32m----> 1\u001b[0;31m \u001b[0mhundyArray\u001b[0m\u001b[0;34m.\u001b[0m\u001b[0mreshape\u001b[0m\u001b[0;34m(\u001b[0m\u001b[0;34m(\u001b[0m\u001b[0;34m(\u001b[0m\u001b[0;36m10\u001b[0m\u001b[0;34m,\u001b[0m\u001b[0;36m9\u001b[0m\u001b[0;34m)\u001b[0m\u001b[0;34m)\u001b[0m\u001b[0;34m)\u001b[0m\u001b[0;34m\u001b[0m\u001b[0;34m\u001b[0m\u001b[0m\n\u001b[0m",
      "\u001b[0;31mValueError\u001b[0m: cannot reshape array of size 100 into shape (10,9)"
     ]
    }
   ],
   "source": [
    "hundyArray.reshape(((10,9)))"
   ]
  },
  {
   "cell_type": "code",
   "execution_count": 32,
   "metadata": {},
   "outputs": [
    {
     "name": "stdout",
     "output_type": "stream",
     "text": [
      "[[  1   2   3   4]\n",
      " [  5   6   7   8]\n",
      " [  9  10  11  12]\n",
      " [ 13  14  15  16]\n",
      " [ 17  18  19  20]\n",
      " [ 21  22  23  24]\n",
      " [ 25  26  27  28]\n",
      " [ 29  30  31  32]\n",
      " [ 33  34  35  36]\n",
      " [ 37  38  39  40]\n",
      " [ 41  42  43  44]\n",
      " [ 45  46  47  48]\n",
      " [ 49  50  51  52]\n",
      " [ 53  54  55  56]\n",
      " [ 57  58  59  60]\n",
      " [ 61  62  63  64]\n",
      " [ 65  66  67  68]\n",
      " [ 69  70  71  72]\n",
      " [ 73  74  75  76]\n",
      " [ 77  78  79  80]\n",
      " [ 81  82  83  84]\n",
      " [ 85  86  87  88]\n",
      " [ 89  90  91  92]\n",
      " [ 93  94  95  96]\n",
      " [ 97  98  99 100]]\n"
     ]
    }
   ],
   "source": [
    "# what other array sizes can we reshape hundyArray into?\n",
    "# any size where the product of the dimensions equals 100\n",
    "print(hundyArray.reshape((25,4)))"
   ]
  },
  {
   "cell_type": "code",
   "execution_count": 33,
   "metadata": {
    "collapsed": true
   },
   "outputs": [
    {
     "name": "stdout",
     "output_type": "stream",
     "text": [
      "[[  1   2]\n",
      " [  3   4]\n",
      " [  5   6]\n",
      " [  7   8]\n",
      " [  9  10]\n",
      " [ 11  12]\n",
      " [ 13  14]\n",
      " [ 15  16]\n",
      " [ 17  18]\n",
      " [ 19  20]\n",
      " [ 21  22]\n",
      " [ 23  24]\n",
      " [ 25  26]\n",
      " [ 27  28]\n",
      " [ 29  30]\n",
      " [ 31  32]\n",
      " [ 33  34]\n",
      " [ 35  36]\n",
      " [ 37  38]\n",
      " [ 39  40]\n",
      " [ 41  42]\n",
      " [ 43  44]\n",
      " [ 45  46]\n",
      " [ 47  48]\n",
      " [ 49  50]\n",
      " [ 51  52]\n",
      " [ 53  54]\n",
      " [ 55  56]\n",
      " [ 57  58]\n",
      " [ 59  60]\n",
      " [ 61  62]\n",
      " [ 63  64]\n",
      " [ 65  66]\n",
      " [ 67  68]\n",
      " [ 69  70]\n",
      " [ 71  72]\n",
      " [ 73  74]\n",
      " [ 75  76]\n",
      " [ 77  78]\n",
      " [ 79  80]\n",
      " [ 81  82]\n",
      " [ 83  84]\n",
      " [ 85  86]\n",
      " [ 87  88]\n",
      " [ 89  90]\n",
      " [ 91  92]\n",
      " [ 93  94]\n",
      " [ 95  96]\n",
      " [ 97  98]\n",
      " [ 99 100]]\n"
     ]
    }
   ],
   "source": [
    "print(hundyArray.reshape((50,2)))"
   ]
  },
  {
   "cell_type": "code",
   "execution_count": 34,
   "metadata": {
    "collapsed": true
   },
   "outputs": [
    {
     "name": "stdout",
     "output_type": "stream",
     "text": [
      "[[  1]\n",
      " [  2]\n",
      " [  3]\n",
      " [  4]\n",
      " [  5]\n",
      " [  6]\n",
      " [  7]\n",
      " [  8]\n",
      " [  9]\n",
      " [ 10]\n",
      " [ 11]\n",
      " [ 12]\n",
      " [ 13]\n",
      " [ 14]\n",
      " [ 15]\n",
      " [ 16]\n",
      " [ 17]\n",
      " [ 18]\n",
      " [ 19]\n",
      " [ 20]\n",
      " [ 21]\n",
      " [ 22]\n",
      " [ 23]\n",
      " [ 24]\n",
      " [ 25]\n",
      " [ 26]\n",
      " [ 27]\n",
      " [ 28]\n",
      " [ 29]\n",
      " [ 30]\n",
      " [ 31]\n",
      " [ 32]\n",
      " [ 33]\n",
      " [ 34]\n",
      " [ 35]\n",
      " [ 36]\n",
      " [ 37]\n",
      " [ 38]\n",
      " [ 39]\n",
      " [ 40]\n",
      " [ 41]\n",
      " [ 42]\n",
      " [ 43]\n",
      " [ 44]\n",
      " [ 45]\n",
      " [ 46]\n",
      " [ 47]\n",
      " [ 48]\n",
      " [ 49]\n",
      " [ 50]\n",
      " [ 51]\n",
      " [ 52]\n",
      " [ 53]\n",
      " [ 54]\n",
      " [ 55]\n",
      " [ 56]\n",
      " [ 57]\n",
      " [ 58]\n",
      " [ 59]\n",
      " [ 60]\n",
      " [ 61]\n",
      " [ 62]\n",
      " [ 63]\n",
      " [ 64]\n",
      " [ 65]\n",
      " [ 66]\n",
      " [ 67]\n",
      " [ 68]\n",
      " [ 69]\n",
      " [ 70]\n",
      " [ 71]\n",
      " [ 72]\n",
      " [ 73]\n",
      " [ 74]\n",
      " [ 75]\n",
      " [ 76]\n",
      " [ 77]\n",
      " [ 78]\n",
      " [ 79]\n",
      " [ 80]\n",
      " [ 81]\n",
      " [ 82]\n",
      " [ 83]\n",
      " [ 84]\n",
      " [ 85]\n",
      " [ 86]\n",
      " [ 87]\n",
      " [ 88]\n",
      " [ 89]\n",
      " [ 90]\n",
      " [ 91]\n",
      " [ 92]\n",
      " [ 93]\n",
      " [ 94]\n",
      " [ 95]\n",
      " [ 96]\n",
      " [ 97]\n",
      " [ 98]\n",
      " [ 99]\n",
      " [100]]\n"
     ]
    }
   ],
   "source": [
    "print(hundyArray.reshape((100,1)))"
   ]
  },
  {
   "cell_type": "code",
   "execution_count": 35,
   "metadata": {},
   "outputs": [],
   "source": [
    "threeByThree = np.array([[1,2,3],[4,5,6],[7,8,9]]) # reminder: list of lists to make a 2D array"
   ]
  },
  {
   "cell_type": "code",
   "execution_count": 36,
   "metadata": {},
   "outputs": [
    {
     "name": "stdout",
     "output_type": "stream",
     "text": [
      "[[1 2 3]\n",
      " [4 5 6]\n",
      " [7 8 9]]\n"
     ]
    }
   ],
   "source": [
    "print(threeByThree)"
   ]
  },
  {
   "cell_type": "code",
   "execution_count": 37,
   "metadata": {},
   "outputs": [
    {
     "name": "stdout",
     "output_type": "stream",
     "text": [
      "[[1 4 7]\n",
      " [2 5 8]\n",
      " [3 6 9]]\n"
     ]
    }
   ],
   "source": [
    "transposed = threeByThree.transpose()\n",
    "print(transposed)\n",
    "# rows become columns, columns become rows"
   ]
  },
  {
   "cell_type": "code",
   "execution_count": 38,
   "metadata": {},
   "outputs": [
    {
     "name": "stdout",
     "output_type": "stream",
     "text": [
      "[1 2 3 4 5 6 7 8 9]\n"
     ]
    }
   ],
   "source": [
    "# we can flatten an array into one row\n",
    "flattened = threeByThree.flatten()\n",
    "print(flattened)"
   ]
  },
  {
   "cell_type": "code",
   "execution_count": 40,
   "metadata": {},
   "outputs": [
    {
     "name": "stdout",
     "output_type": "stream",
     "text": [
      "[1 4 7 2 5 8 3 6 9]\n"
     ]
    }
   ],
   "source": [
    "print(transposed.flatten())"
   ]
  },
  {
   "cell_type": "code",
   "execution_count": 41,
   "metadata": {},
   "outputs": [
    {
     "name": "stdout",
     "output_type": "stream",
     "text": [
      "[ 4  8 12 16 20 24]\n"
     ]
    }
   ],
   "source": [
    "# element-wise operations\n",
    "oneDArray = np.array([1,2,3,4,5,6])\n",
    "anotherOneDArray = np.array([0,19,2,3,18,4])\n",
    "print(oneDArray*4)"
   ]
  },
  {
   "cell_type": "code",
   "execution_count": 42,
   "metadata": {},
   "outputs": [
    {
     "name": "stdout",
     "output_type": "stream",
     "text": [
      "[1 2 3 4 5 6]\n"
     ]
    }
   ],
   "source": [
    "print(oneDArray)"
   ]
  },
  {
   "cell_type": "code",
   "execution_count": 43,
   "metadata": {},
   "outputs": [
    {
     "name": "stdout",
     "output_type": "stream",
     "text": [
      "[ True False  True  True False  True]\n"
     ]
    }
   ],
   "source": [
    "# you can add, subtract, multiple, divide, comparison, modulo\n",
    "print(oneDArray > anotherOneDArray)"
   ]
  },
  {
   "cell_type": "code",
   "execution_count": 44,
   "metadata": {},
   "outputs": [],
   "source": [
    "aThirdOneDArray = np.array([1,2,3])"
   ]
  },
  {
   "cell_type": "code",
   "execution_count": 45,
   "metadata": {},
   "outputs": [
    {
     "ename": "ValueError",
     "evalue": "operands could not be broadcast together with shapes (6,) (3,) ",
     "output_type": "error",
     "traceback": [
      "\u001b[0;31m---------------------------------------------------------------------------\u001b[0m",
      "\u001b[0;31mValueError\u001b[0m                                Traceback (most recent call last)",
      "\u001b[0;32m<ipython-input-45-3cc1d457273c>\u001b[0m in \u001b[0;36m<module>\u001b[0;34m\u001b[0m\n\u001b[0;32m----> 1\u001b[0;31m \u001b[0mprint\u001b[0m\u001b[0;34m(\u001b[0m\u001b[0moneDArray\u001b[0m \u001b[0;34m>\u001b[0m \u001b[0maThirdOneDArray\u001b[0m\u001b[0;34m)\u001b[0m\u001b[0;34m\u001b[0m\u001b[0;34m\u001b[0m\u001b[0m\n\u001b[0m",
      "\u001b[0;31mValueError\u001b[0m: operands could not be broadcast together with shapes (6,) (3,) "
     ]
    }
   ],
   "source": [
    "print(oneDArray > aThirdOneDArray)\n",
    "# you get an error because the arrays are not the same size"
   ]
  },
  {
   "cell_type": "code",
   "execution_count": 46,
   "metadata": {},
   "outputs": [
    {
     "name": "stdout",
     "output_type": "stream",
     "text": [
      "[ 1 21  5  7 23 10]\n"
     ]
    }
   ],
   "source": [
    "print(oneDArray + anotherOneDArray)"
   ]
  },
  {
   "cell_type": "code",
   "execution_count": 47,
   "metadata": {},
   "outputs": [
    {
     "ename": "ValueError",
     "evalue": "operands could not be broadcast together with shapes (6,) (3,) ",
     "output_type": "error",
     "traceback": [
      "\u001b[0;31m---------------------------------------------------------------------------\u001b[0m",
      "\u001b[0;31mValueError\u001b[0m                                Traceback (most recent call last)",
      "\u001b[0;32m<ipython-input-47-ec144aba3704>\u001b[0m in \u001b[0;36m<module>\u001b[0;34m\u001b[0m\n\u001b[0;32m----> 1\u001b[0;31m \u001b[0mprint\u001b[0m\u001b[0;34m(\u001b[0m\u001b[0moneDArray\u001b[0m \u001b[0;34m+\u001b[0m \u001b[0maThirdOneDArray\u001b[0m\u001b[0;34m)\u001b[0m\u001b[0;34m\u001b[0m\u001b[0;34m\u001b[0m\u001b[0m\n\u001b[0m",
      "\u001b[0;31mValueError\u001b[0m: operands could not be broadcast together with shapes (6,) (3,) "
     ]
    }
   ],
   "source": [
    "print(oneDArray + aThirdOneDArray)"
   ]
  },
  {
   "cell_type": "code",
   "execution_count": null,
   "metadata": {},
   "outputs": [],
   "source": [
    "# you can also do dot products with the .dot method"
   ]
  },
  {
   "cell_type": "code",
   "execution_count": 48,
   "metadata": {},
   "outputs": [
    {
     "name": "stdout",
     "output_type": "stream",
     "text": [
      "[[0 2]\n",
      " [4 6]]\n"
     ]
    }
   ],
   "source": [
    "# aggregation functions\n",
    "evenArray = np.arange(0,7,2).reshape(2,2)\n",
    "print(evenArray)"
   ]
  },
  {
   "cell_type": "code",
   "execution_count": 49,
   "metadata": {},
   "outputs": [
    {
     "name": "stdout",
     "output_type": "stream",
     "text": [
      "12\n"
     ]
    }
   ],
   "source": [
    "print(evenArray.sum())\n",
    "# sum just sums up all the values in evenArray: 0 + 2 + 4 + 6 = 12"
   ]
  },
  {
   "cell_type": "code",
   "execution_count": 50,
   "metadata": {},
   "outputs": [
    {
     "name": "stdout",
     "output_type": "stream",
     "text": [
      "[4 8]\n"
     ]
    }
   ],
   "source": [
    "print(evenArray.sum(axis=0)) # adding elements across rows"
   ]
  },
  {
   "cell_type": "code",
   "execution_count": 51,
   "metadata": {},
   "outputs": [
    {
     "name": "stdout",
     "output_type": "stream",
     "text": [
      "[ 2 10]\n"
     ]
    }
   ],
   "source": [
    "print(evenArray.sum(axis=1)) # adding elements across columns"
   ]
  },
  {
   "cell_type": "code",
   "execution_count": 52,
   "metadata": {},
   "outputs": [
    {
     "name": "stdout",
     "output_type": "stream",
     "text": [
      "0\n"
     ]
    }
   ],
   "source": [
    "print(evenArray.min()) # grabs minimum value in entire array"
   ]
  },
  {
   "cell_type": "code",
   "execution_count": 53,
   "metadata": {},
   "outputs": [
    {
     "name": "stdout",
     "output_type": "stream",
     "text": [
      "6\n"
     ]
    }
   ],
   "source": [
    "print(evenArray.max()) # grabs max value in an entire array"
   ]
  },
  {
   "cell_type": "code",
   "execution_count": 55,
   "metadata": {},
   "outputs": [
    {
     "name": "stdout",
     "output_type": "stream",
     "text": [
      "[0 2]\n",
      "[0 4]\n"
     ]
    }
   ],
   "source": [
    "print(evenArray.min(axis=0))\n",
    "print(evenArray.min(axis=1))"
   ]
  },
  {
   "cell_type": "code",
   "execution_count": 56,
   "metadata": {},
   "outputs": [
    {
     "name": "stdout",
     "output_type": "stream",
     "text": [
      "0\n"
     ]
    }
   ],
   "source": [
    "print(evenArray.prod()) # gets the product of all the numbers in the array"
   ]
  },
  {
   "cell_type": "code",
   "execution_count": 3,
   "metadata": {},
   "outputs": [
    {
     "name": "stdout",
     "output_type": "stream",
     "text": [
      "[[1 3]\n",
      " [5 7]]\n",
      "105\n"
     ]
    }
   ],
   "source": [
    "import numpy as np\n",
    "oddArray = np.arange(1,9,2).reshape((2,2))\n",
    "print(oddArray)\n",
    "print(oddArray.prod()) # product gets the product of every number in the array\n",
    "# as before, you can specify axes here"
   ]
  },
  {
   "cell_type": "code",
   "execution_count": 62,
   "metadata": {},
   "outputs": [
    {
     "name": "stdout",
     "output_type": "stream",
     "text": [
      "[[0 2]\n",
      " [4 6]]\n",
      "3.0\n",
      "4.0\n"
     ]
    }
   ],
   "source": [
    "# calculate averages\n",
    "print(evenArray)\n",
    "print(np.average(evenArray))\n",
    "print(np.average(oddArray))\n",
    "# you can also specify axes with average as well"
   ]
  },
  {
   "cell_type": "code",
   "execution_count": 63,
   "metadata": {},
   "outputs": [
    {
     "name": "stdout",
     "output_type": "stream",
     "text": [
      "[2. 4.]\n",
      "[1. 5.]\n"
     ]
    }
   ],
   "source": [
    "print(np.average(evenArray,axis=0))\n",
    "print(np.average(evenArray,axis=1))"
   ]
  }
 ],
 "metadata": {
  "kernelspec": {
   "display_name": "Python 3",
   "language": "python",
   "name": "python3"
  },
  "language_info": {
   "codemirror_mode": {
    "name": "ipython",
    "version": 3
   },
   "file_extension": ".py",
   "mimetype": "text/x-python",
   "name": "python",
   "nbconvert_exporter": "python",
   "pygments_lexer": "ipython3",
   "version": "3.7.4"
  }
 },
 "nbformat": 4,
 "nbformat_minor": 2
}
