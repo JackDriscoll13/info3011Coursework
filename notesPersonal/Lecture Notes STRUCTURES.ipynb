{
 "cells": [
  {
   "cell_type": "code",
   "execution_count": 20,
   "metadata": {},
   "outputs": [
    {
     "name": "stdout",
     "output_type": "stream",
     "text": [
      "0\n",
      "2\n",
      "4\n",
      "6\n",
      "8\n",
      "10\n",
      "\n",
      "\n",
      "fuzz\n",
      "delay\n",
      "glitch\n",
      "tremolo\n"
     ]
    }
   ],
   "source": [
    "## Week 1: Review \n",
    "##take mass in grams and print a statement that says how many kg and how many g are in given mass\n",
    "def gramsIntoKgG(numGrams):\n",
    "    grams = numGrams%1000\n",
    "    kilograms = numGrams//1000\n",
    "    print(\"There are \"+str(kilograms)+\" kilograms and \"+str(grams)+\" grams in \"+str(numGrams)+\" grams\")\n",
    "    \n",
    "# gramsIntoKgG(11400)\n",
    "\n",
    "## type() function tells you the type of object you are looking at\n",
    "myList = [\"fuzz\",\"delay\",\"glitch\",\"tremolo\"]\n",
    "#type(myLst)\n",
    "\n",
    "## for loops\n",
    "## looking at numbers in list use range. in range(starting num, endingnum(not included),step size)\n",
    "for i in range(0,11,2):\n",
    "    print(i)\n",
    "print(\"\\n\")\n",
    "for item in myList:\n",
    "    print(item)"
   ]
  },
  {
   "cell_type": "code",
   "execution_count": 31,
   "metadata": {},
   "outputs": [
    {
     "name": "stdout",
     "output_type": "stream",
     "text": [
      "['fuzz', 'phaser', 'phaser', 'delay', 'glitch', 'tremolo']\n",
      "phaser\n",
      "['fuzz', 'phaser', 'delay', 'glitch', 'tremolo']\n"
     ]
    }
   ],
   "source": [
    "## lIST methods \n",
    "# append -  insert - remove\n",
    "# pop - del \n",
    "#myList.append(\"fuzzy\")\n",
    "#myList.insert(1,\"phaser\")\n",
    "#print(myList)\n",
    "\n",
    "#while(\"fuzzy\" in myList):\n",
    "    #myList.remove(\"fuzzy\")\n",
    "print(myList)\n",
    "\n",
    "##  Pop removes the thing at an index and saves the thing\n",
    "# thingRemoved = myList.pop(1)\n",
    "print(thingRemoved)\n",
    "print(myList)\n",
    "\n",
    "# del \n"
   ]
  },
  {
   "cell_type": "code",
   "execution_count": 33,
   "metadata": {},
   "outputs": [
    {
     "name": "stdout",
     "output_type": "stream",
     "text": [
      "There are 11  consonants in Hello my name is Jack\n"
     ]
    }
   ],
   "source": [
    "## itterating through strings \n",
    "\n",
    "myString = \"Hello my name is Jack\"\n",
    "counter = 0 \n",
    "for letter in myString:\n",
    "    if(letter not in \"aeiou \"):\n",
    "        counter+=1\n",
    "print(\"There are \"+str(counter)+\"  consonants in \"+myString)\n"
   ]
  },
  {
   "cell_type": "code",
   "execution_count": 16,
   "metadata": {},
   "outputs": [
    {
     "ename": "IndentationError",
     "evalue": "expected an indented block (<ipython-input-16-605cf9e87cbd>, line 13)",
     "output_type": "error",
     "traceback": [
      "\u001b[1;36m  File \u001b[1;32m\"<ipython-input-16-605cf9e87cbd>\"\u001b[1;36m, line \u001b[1;32m13\u001b[0m\n\u001b[1;33m    else:\u001b[0m\n\u001b[1;37m       ^\u001b[0m\n\u001b[1;31mIndentationError\u001b[0m\u001b[1;31m:\u001b[0m expected an indented block\n"
     ]
    }
   ],
   "source": [
    "# file i/o\n",
    "# using a csv file to read through files\n",
    "\n",
    "with open(\"pedals.csv\",\"r\") as myPedals:\n",
    "    csvReader = csv.reader(myPedals)\n",
    "    pedalDictionary={}\n",
    "    header = next(csvReader)\n",
    "    for row in csvReader:\n",
    "        #print(\"pedal name: row)\n",
    "        if (row[1] not in pedalDictionary):\n",
    "            #print(row[1]+\" is not in the pedal dictionary\")\n",
    "            #dictionaryName[key] = 1\n",
    "        else:\n",
    "            #dictionaryName[key]+= 1"
   ]
  },
  {
   "cell_type": "code",
   "execution_count": 29,
   "metadata": {},
   "outputs": [
    {
     "name": "stdout",
     "output_type": "stream",
     "text": [
      "fuzz:10\n",
      "phaser:2\n",
      "delay:3\n",
      "dict_items([('fuzz', 10), ('phaser', 2), ('delay', 3)])\n",
      "{'b', 'c', 'a'}\n",
      "{'b', 'd', 'c', 'a'}\n"
     ]
    }
   ],
   "source": [
    "# dictionaries, tuples, sets\n",
    "# dictionaries store key/value pairs\n",
    "\n",
    "pedalDictionary1 = {\"fuzz\":10,\"phaser\":2,\"delay\":3}\n",
    "#print(pedalDictionary1)\n",
    "#print(pedalDictionary1[\"fuzz\"])\n",
    "#for key in pedalDictionary1:\n",
    "    #print(key+\": \"+str(pedalDictionary1[key]))\n",
    "\n",
    "for key,value in pedalDictionary1.items():\n",
    "    print(key+\":\"+str(value))\n",
    "    \n",
    "# dictionaryName.items() -> returns tuples\n",
    "#print(pedalDictionary1.items())\n",
    "\n",
    "# TUPLES\n",
    "# tuple is a data type for sturing stuff in python\n",
    "# you know its a tuple because the data is wrapped in parantehs \n",
    "# data items are seperated by commas\n",
    "# tuples are ordered but unchangeable\n",
    "# items in the tuple can be accessed by indexes\n",
    "\n",
    "\n"
   ]
  },
  {
   "cell_type": "code",
   "execution_count": 11,
   "metadata": {},
   "outputs": [
    {
     "name": "stdout",
     "output_type": "stream",
     "text": [
      "{'a', 'b', 'c'}\n",
      "{'a', 'b', 'c', 'd'}\n",
      "{'a', 'b', 'c'}\n",
      "{'a', 'b', 'c'}\n",
      "a\n"
     ]
    }
   ],
   "source": [
    "# SETS\n",
    "emptySet =()\n",
    "# a set is a collection of data is unordereded, unindexed, and the items are unique \n",
    "# you cannot change existing items, but you can add new items\n",
    "# items are unique - if you try to add existing item, nothing happens\n",
    "mySet ={\"a\",\"b\",\"c\"}\n",
    "print(mySet)\n",
    "mySet.add(\"d\")\n",
    "print(mySet)\n",
    "mySet.remove(\"d\")   #.remove will give an error if item is not there\n",
    "print(mySet)\n",
    "mySet.discard(\"d\")\n",
    "print(mySet)\n",
    "\n",
    "# pop removes the last item in the set, but since set is unordered, you dnt know what item will pop out\n",
    "\n",
    "randomItem = mySet.pop()\n",
    "print(randomItem)\n",
    "\n",
    "# clear empties the set \n",
    "mySet.clear()"
   ]
  },
  {
   "cell_type": "code",
   "execution_count": 20,
   "metadata": {},
   "outputs": [
    {
     "name": "stdout",
     "output_type": "stream",
     "text": [
      "First half of string: himyname\n",
      "String backwards: aerdnasiemanymih\n"
     ]
    }
   ],
   "source": [
    "# SLICES\n",
    "# getting portions of structures\n",
    "# getting a slice of a structure\n",
    "# can get slices from sturctures that have numerical indexes \n",
    "# structureName[start:stop:step]         #start-  #stop (up to but not including)  #step - optional step size\n",
    "\n",
    "myString=\"himynameisandrea\"\n",
    "slice1=myString[0:2]\n",
    "\n",
    "#printing half of the string\n",
    "slice2 = myString[0:len(myString)//2]\n",
    "print(\"First half of string: \"+slice2)\n",
    "\n",
    "\n",
    "#shorthand\n",
    "myString[:] # slice will assume first postion if notigh is in start value - will assume last postion if end is 0 \n",
    "sliceEveryOther = myString[::2]\n",
    "\n",
    "#going backwards\n",
    "mySliceBackwards = myString[::-1]\n",
    "print(\"String backwards: \"+mySliceBackwards)\n",
    "\n",
    "\n",
    "\n"
   ]
  },
  {
   "cell_type": "code",
   "execution_count": 28,
   "metadata": {},
   "outputs": [
    {
     "name": "stdout",
     "output_type": "stream",
     "text": [
      "Potential identikey: brle6226\n"
     ]
    }
   ],
   "source": [
    "#SLICE PRACTICE\n",
    "#generating indtikeys;\n",
    "from random import randint\n",
    "firstName = \"brendan\"\n",
    "lastName = \"leftcowitz\"\n",
    "randInt = randint(1000,9999)\n",
    "\n",
    "identikey = firstName[0:2]+lastName[0:2]+str(randInt)\n",
    "print(\"Potential identikey: \"+identikey)"
   ]
  },
  {
   "cell_type": "code",
   "execution_count": 33,
   "metadata": {},
   "outputs": [
    {
     "name": "stdout",
     "output_type": "stream",
     "text": [
      "{'Tremolo', 'Modulated Monophonic Harmonizing PLL', 'Fuzz', 'Phaser', 'Glitch Engine', 'Sound Retainer', 'Fuzzstortion', 'Passive Octave Up', 'Looper', 'Glitch Delay', 'Digital Delay'}\n"
     ]
    }
   ],
   "source": [
    "#SET PRACTICE \n",
    "# lets create a set with unique pedal types \n",
    "import csv\n",
    "with open(\"pedals.csv\",\"r\") as pedalsFile:\n",
    "    csvReader = csv.reader(pedalsFile)\n",
    "    \n",
    "    # create empty set\n",
    "    uniquePedals = set()\n",
    "    \n",
    "    next(csvReader)\n",
    "    \n",
    "    for row in csvReader:\n",
    "        #print(row[1])\n",
    "        uniquePedals.add(row[1])\n",
    "print(uniquePedals)"
   ]
  },
  {
   "cell_type": "code",
   "execution_count": 20,
   "metadata": {},
   "outputs": [
    {
     "name": "stdout",
     "output_type": "stream",
     "text": [
      "{'Type': [], 'Name': []}\n"
     ]
    }
   ],
   "source": [
    "# Nested Structures \n",
    "\n",
    "myDictionary = {}\n",
    "myDictionary[\"Type\"]=[] #value of name key is a list \n",
    "myDictionary[\"Name\"]=[] #value of type key is a list \n",
    "print(myDictionary)\n",
    "\n",
    "# now the value associated with that key is a list (not an integer) "
   ]
  },
  {
   "cell_type": "code",
   "execution_count": 21,
   "metadata": {},
   "outputs": [
    {
     "name": "stdout",
     "output_type": "stream",
     "text": [
      "{'Type': [], 'Name': ['hi', 'hello', 'hola', ['a', 'b', 'c', 'd']]}\n"
     ]
    }
   ],
   "source": [
    "# nested structures cont...\n",
    "#accessing the list in a dictionary, its jsut the key \n",
    "#myDictionary[\"Name\"]\n",
    "\n",
    "# creating a new list to later add to the list \n",
    "newList = [\"a\",\"b\",\"c\",\"d\"]\n",
    "myDictionary[\"Name\"].append(\"hi\")\n",
    "myDictionary[\"Name\"].append(\"hello\")\n",
    "myDictionary[\"Name\"].append(\"hola\")\n",
    "myDictionary[\"Name\"].append(newList)\n",
    "print(myDictionary)"
   ]
  },
  {
   "cell_type": "code",
   "execution_count": 24,
   "metadata": {},
   "outputs": [
    {
     "name": "stdout",
     "output_type": "stream",
     "text": [
      "hello\n",
      "c\n"
     ]
    }
   ],
   "source": [
    "# nested structures cont...\n",
    "# accessing hello\n",
    "print(myDictionary[\"Name\"][1])\n",
    "# accessing the items in the nested list \n",
    "# inside the dictionary value, which is a list, and the nested list is at index 3 in that list\n",
    "# c is at index 2 in the nested list\n",
    "print(myDictionary[\"Name\"][3][2])\n",
    "\n"
   ]
  },
  {
   "cell_type": "code",
   "execution_count": 27,
   "metadata": {},
   "outputs": [
    {
     "name": "stdout",
     "output_type": "stream",
     "text": [
      "Its,an,awesome,life,!\n",
      "Its an awesome life !\n"
     ]
    }
   ],
   "source": [
    "#.join\n",
    "# .join joins items in  a list\n",
    "# syntax: charYouAreJoiningOn.join(listname)\n",
    "practiceList = [\"Its\",\"an\",\"awesome\",\"life\",\"!\"]\n",
    "print(\",\".join(practiceList))\n",
    "print(\" \".join(practiceList))"
   ]
  }
 ],
 "metadata": {
  "kernelspec": {
   "display_name": "Python 3.9.13 64-bit (windows store)",
   "language": "python",
   "name": "python3"
  },
  "language_info": {
   "codemirror_mode": {
    "name": "ipython",
    "version": 3
   },
   "file_extension": ".py",
   "mimetype": "text/x-python",
   "name": "python",
   "nbconvert_exporter": "python",
   "pygments_lexer": "ipython3",
   "version": "3.9.13"
  },
  "vscode": {
   "interpreter": {
    "hash": "c2154bec843a099fe3d016b95ea2c28c2b633210b993f378182a012db661fcc2"
   }
  }
 },
 "nbformat": 4,
 "nbformat_minor": 2
}
