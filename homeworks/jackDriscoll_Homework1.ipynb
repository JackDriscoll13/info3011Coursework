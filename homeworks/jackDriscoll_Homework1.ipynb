{
 "cells": [
  {
   "cell_type": "code",
   "execution_count": 12,
   "metadata": {},
   "outputs": [],
   "source": [
    "# Problem 1a\n",
    "\n",
    "# Write a function that counts the number of vowels there are in a given list and output that number using\n",
    "# the following format:\n",
    "# There are X vowels in the list.\n",
    "# Where X is the number of vowels.  Use the following function definition:\n",
    "\n",
    "\n",
    "def countVowelsInList(listOfStuff):\n",
    "    vowels = \"aeiouAEIOU\"   #create a string with all known vowels \n",
    "    counter = 0    #creater counter and have it equal 0 \n",
    "    for stuff in listOfStuff: #look at each item in list\n",
    "        for letter in stuff: # look at each letter in the item \n",
    "            if letter in vowels:     # if the letter is a vowel, counter adds one\n",
    "                counter+=1\n",
    "    print(\"There are \"+str(counter)+ \" vowels in the list.\")\n"
   ]
  },
  {
   "cell_type": "code",
   "execution_count": 14,
   "metadata": {},
   "outputs": [
    {
     "name": "stdout",
     "output_type": "stream",
     "text": [
      "There are 9 vowels in the list.\n"
     ]
    }
   ],
   "source": [
    "#tester\n",
    "myList = [\"aeiou\",\"i\",\"j\",\"k\",\"l\",\"m\",\"n\",\"o\",\"O\",\"1\",\"a\"]\n",
    "countVowelsInList(myList)\n"
   ]
  },
  {
   "cell_type": "code",
   "execution_count": 15,
   "metadata": {},
   "outputs": [],
   "source": [
    "# Problem 1b\n",
    "\n",
    "# Write a function that copies all four-letter strings from a list of strings into a new list, then print the\n",
    "# new list.  Use the following function definition:\n",
    "def copyFourLetterStrings(listOfStuff):\n",
    "    newList = [] # creates new list\n",
    "    for string in listOfStuff:  # look at each string in lest\n",
    "        ln = len(string)    #takes thelength of each string we look at\n",
    "        if ln == 4: # if len = 4 append the string to the new list!\n",
    "            newList.append(string)\n",
    "    print(newList)\n",
    "\n"
   ]
  },
  {
   "cell_type": "code",
   "execution_count": 17,
   "metadata": {},
   "outputs": [
    {
     "name": "stdout",
     "output_type": "stream",
     "text": [
      "['Jack', 'john', 'ella', 'katy', 'yone']\n"
     ]
    }
   ],
   "source": [
    "# tester\n",
    "listOfStrings = [\"Jack\",\"john\",\"ella\",\"Patrick\",\"Miles\",\"jason\",\"katy\",\"elise\",\"yone\"]\n",
    "copyFourLetterStrings(listOfStrings)"
   ]
  },
  {
   "cell_type": "code",
   "execution_count": 18,
   "metadata": {},
   "outputs": [],
   "source": [
    "# Problem 2\n",
    "#\n",
    "# Given a number of seconds between 0 and 86400 seconds, write a function that reports the equivalent number \n",
    "# of hours, minutes, and seconds.  for example, if the number of seconds is 14013, your function would print\n",
    "#\n",
    "# There are 3 hours, 53 minutes, and 33 seconds in 14013 seconds.\n",
    "#\n",
    "# If the given number of seconds is less than 0 or greater than 86400, your function should print\n",
    "#\n",
    "# Number of seconds given must be greater than or equal to 0 and less than or equal to 86400.\n",
    "#\n",
    "# Use the following function header:\n",
    "def printNumHoursMinutesSeconds(numSeconds):\n",
    "    if(0<= numSeconds<=86400):    # if number of seconds is within our target range\n",
    "        endNumSeconds = str(numSeconds % 60)   #we get the seconds by taking the remainder of seconds by 60\n",
    "        endNumMinutes = str((numSeconds//60)%60)   # we get minute by doing inter  divide by 60 and then remainder of that by 60\n",
    "        endNumHours = str((numSeconds//60)//60)   # we get the hours by doing integer divide by 60 twice \n",
    "        print(\"There are \"+endNumHours+\" hours, \"+endNumMinutes+\" minutes, and \"+endNumSeconds+\" seconds in \"+str(numSeconds)+\" seconds.\")\n",
    "    else:\n",
    "        print(\"Number of seconds given must be greater than or equal to 0 and less than or equal to 86400.\")"
   ]
  },
  {
   "cell_type": "code",
   "execution_count": 19,
   "metadata": {},
   "outputs": [
    {
     "name": "stdout",
     "output_type": "stream",
     "text": [
      "There are 0 hours, 1 minutes, and 2 seconds in 62 seconds.\n"
     ]
    }
   ],
   "source": [
    "#tester \n",
    "(8400//60)//60\n",
    "\n",
    "printNumHoursMinutesSeconds(62)"
   ]
  },
  {
   "cell_type": "code",
   "execution_count": 20,
   "metadata": {},
   "outputs": [],
   "source": [
    "# Problem 3\n",
    "# Given a csv file where the columns are \n",
    "#\n",
    "# Pedal Name, Pedal Type, Manufacturer\n",
    "#\n",
    "# write a function that creates a dictionary where the key is pedal type and the value is the number\n",
    "# of those pedals in the csv file. This function should print the dictionary after reading the contents\n",
    "# of the entire file.  Use the following function h1eader:\n",
    "import csv\n",
    "def countPedalTypes(fileName):\n",
    "    pedalDictionary = {} #create empty dictionary \n",
    "    with open(fileName,\"r\") as file:  #opens file for reading under the with statement\n",
    "        csvReader = csv.reader(file)  #opens file in csv reader mode\n",
    "        next(csvReader) # skips header \n",
    "        for row in csvReader:  #looks at each row in dictionary -- we care about pedal type so we will look at second index\n",
    "            if (row[1] not in pedalDictionary):  #if pedal type not in dictionary, add it to dictionary at value 1\n",
    "                pedalDictionary[row[1]]=1\n",
    "            else:    # else (if pedal type is in dictionary) add one to the value\n",
    "                pedalDictionary[row[1]]+=1\n",
    "    print(pedalDictionary)\n",
    "    \n",
    "\n",
    "    "
   ]
  },
  {
   "cell_type": "code",
   "execution_count": 21,
   "metadata": {},
   "outputs": [
    {
     "name": "stdout",
     "output_type": "stream",
     "text": [
      "{'Fuzzstortion': 1, 'Fuzz': 8, 'Glitch Engine': 1, 'Passive Octave Up': 1, 'Phaser': 2, 'Tremolo': 1, 'Digital Delay': 1, 'Sound Retainer': 1, 'Looper': 1, 'Glitch Delay': 1, 'Modulated Monophonic Harmonizing PLL': 1}\n"
     ]
    }
   ],
   "source": [
    "#tester\n",
    "\n",
    "countPedalTypes(\"pedals.csv\")"
   ]
  }
 ],
 "metadata": {
  "kernelspec": {
   "display_name": "Python 3",
   "language": "python",
   "name": "python3"
  },
  "language_info": {
   "codemirror_mode": {
    "name": "ipython",
    "version": 3
   },
   "file_extension": ".py",
   "mimetype": "text/x-python",
   "name": "python",
   "nbconvert_exporter": "python",
   "pygments_lexer": "ipython3",
   "version": "3.7.4"
  }
 },
 "nbformat": 4,
 "nbformat_minor": 2
}
