{
 "cells": [
  {
   "cell_type": "code",
   "execution_count": null,
   "metadata": {},
   "outputs": [],
   "source": [
    "# we do a LOT with strings \n",
    "# we're going to learn some new tricks with working with them"
   ]
  },
  {
   "cell_type": "code",
   "execution_count": 1,
   "metadata": {},
   "outputs": [],
   "source": [
    "palindrome = \"a man a plan a canal panama\"\n",
    "breakfast = \"toast\""
   ]
  },
  {
   "cell_type": "code",
   "execution_count": 3,
   "metadata": {},
   "outputs": [
    {
     "data": {
      "text/plain": [
       "'a'"
      ]
     },
     "execution_count": 3,
     "metadata": {},
     "output_type": "execute_result"
    }
   ],
   "source": [
    "palindrome[0] # strings are indexed like lists"
   ]
  },
  {
   "cell_type": "code",
   "execution_count": 5,
   "metadata": {},
   "outputs": [
    {
     "data": {
      "text/plain": [
       "'a'"
      ]
     },
     "execution_count": 5,
     "metadata": {},
     "output_type": "execute_result"
    }
   ],
   "source": [
    "# there are negative indexes\n",
    "palindrome[-1]"
   ]
  },
  {
   "cell_type": "code",
   "execution_count": 7,
   "metadata": {},
   "outputs": [
    {
     "data": {
      "text/plain": [
       "'m'"
      ]
     },
     "execution_count": 7,
     "metadata": {},
     "output_type": "execute_result"
    }
   ],
   "source": [
    "palindrome[-2]\n",
    "# negative indexes go from right to left starting at the last letter\n",
    "# in these examples, -1 is a, -2 is m, et cetera"
   ]
  },
  {
   "cell_type": "code",
   "execution_count": 8,
   "metadata": {},
   "outputs": [
    {
     "data": {
      "text/plain": [
       "'t'"
      ]
     },
     "execution_count": 8,
     "metadata": {},
     "output_type": "execute_result"
    }
   ],
   "source": [
    "# what's the first letter of the variable breakfast using negative indexes?\n",
    "breakfast[-5]"
   ]
  },
  {
   "cell_type": "code",
   "execution_count": 10,
   "metadata": {},
   "outputs": [
    {
     "data": {
      "text/plain": [
       "'oast'"
      ]
     },
     "execution_count": 10,
     "metadata": {},
     "output_type": "execute_result"
    }
   ],
   "source": [
    "# slice notation with strings?  you betcha.\n",
    "breakfast[1:]"
   ]
  },
  {
   "cell_type": "code",
   "execution_count": 12,
   "metadata": {},
   "outputs": [
    {
     "data": {
      "text/plain": [
       "'tat'"
      ]
     },
     "execution_count": 12,
     "metadata": {},
     "output_type": "execute_result"
    }
   ],
   "source": [
    "breakfast[::2]"
   ]
  },
  {
   "cell_type": "code",
   "execution_count": 13,
   "metadata": {},
   "outputs": [
    {
     "data": {
      "text/plain": [
       "'aaal capa'"
      ]
     },
     "execution_count": 13,
     "metadata": {},
     "output_type": "execute_result"
    }
   ],
   "source": [
    "palindrome[::3]"
   ]
  },
  {
   "cell_type": "code",
   "execution_count": 14,
   "metadata": {},
   "outputs": [
    {
     "ename": "TypeError",
     "evalue": "'str' object does not support item assignment",
     "output_type": "error",
     "traceback": [
      "\u001b[0;31m---------------------------------------------------------------------------\u001b[0m",
      "\u001b[0;31mTypeError\u001b[0m                                 Traceback (most recent call last)",
      "\u001b[0;32m<ipython-input-14-87d745ec46a9>\u001b[0m in \u001b[0;36m<module>\u001b[0;34m\u001b[0m\n\u001b[1;32m      1\u001b[0m \u001b[0;31m# strings are immutable. this means that they cannot be modified.\u001b[0m\u001b[0;34m\u001b[0m\u001b[0;34m\u001b[0m\u001b[0;34m\u001b[0m\u001b[0m\n\u001b[1;32m      2\u001b[0m \u001b[0;31m# palindrome = \"racecar\" # this just sets palindrome equal to a new thing\u001b[0m\u001b[0;34m\u001b[0m\u001b[0;34m\u001b[0m\u001b[0;34m\u001b[0m\u001b[0m\n\u001b[0;32m----> 3\u001b[0;31m \u001b[0mpalindrome\u001b[0m\u001b[0;34m[\u001b[0m\u001b[0;36m0\u001b[0m\u001b[0;34m]\u001b[0m \u001b[0;34m=\u001b[0m \u001b[0;34m\"!\"\u001b[0m\u001b[0;34m\u001b[0m\u001b[0;34m\u001b[0m\u001b[0m\n\u001b[0m",
      "\u001b[0;31mTypeError\u001b[0m: 'str' object does not support item assignment"
     ]
    }
   ],
   "source": [
    "# strings are immutable. this means that they cannot be modified.\n",
    "# palindrome = \"racecar\" # this just sets palindrome equal to a new thing\n",
    "palindrome[0] = \"!\""
   ]
  },
  {
   "cell_type": "code",
   "execution_count": 15,
   "metadata": {},
   "outputs": [
    {
     "name": "stdout",
     "output_type": "stream",
     "text": [
      "['a', ' ', 'm', 'a', 'n', ' ', 'a', ' ', 'p', 'l', 'a', 'n', ' ', 'a', ' ', 'c', 'a', 'n', 'a', 'l', ' ', 'p', 'a', 'n', 'a', 'm', 'a']\n"
     ]
    }
   ],
   "source": [
    "# you could cast a string to a list and then replace the letter you want to replace\n",
    "# and then cast it back to a string.  that's a lot of extra steps.\n",
    "paliList = list(palindrome)\n",
    "print(paliList)"
   ]
  },
  {
   "cell_type": "code",
   "execution_count": 16,
   "metadata": {},
   "outputs": [],
   "source": [
    "paliList[0] = \"!\"\n",
    "editedPaliString = \"\".join(paliList)"
   ]
  },
  {
   "cell_type": "code",
   "execution_count": 17,
   "metadata": {},
   "outputs": [
    {
     "data": {
      "text/plain": [
       "'! man a plan a canal panama'"
      ]
     },
     "execution_count": 17,
     "metadata": {},
     "output_type": "execute_result"
    }
   ],
   "source": [
    "editedPaliString"
   ]
  },
  {
   "cell_type": "code",
   "execution_count": 18,
   "metadata": {},
   "outputs": [
    {
     "name": "stdout",
     "output_type": "stream",
     "text": [
      "! m!n ! pl!n ! c!n!l p!n!m!\n"
     ]
    }
   ],
   "source": [
    "# python has better ways of doing this sort of thing\n",
    "easierPaliEdit = palindrome.replace(\"a\",\"!\")\n",
    "print(easierPaliEdit)\n",
    "# the problem with this is that replace replaces every instance of the thing you specify"
   ]
  },
  {
   "cell_type": "code",
   "execution_count": 20,
   "metadata": {},
   "outputs": [
    {
     "data": {
      "text/plain": [
       "'a man a plan a canal panama'"
      ]
     },
     "execution_count": 20,
     "metadata": {},
     "output_type": "execute_result"
    }
   ],
   "source": [
    "# .replace doesn't change the variable\n",
    "palindrome"
   ]
  },
  {
   "cell_type": "code",
   "execution_count": 21,
   "metadata": {},
   "outputs": [
    {
     "data": {
      "text/plain": [
       "'! m!n ! pl!n ! c!n!l p!n!m!'"
      ]
     },
     "execution_count": 21,
     "metadata": {},
     "output_type": "execute_result"
    }
   ],
   "source": [
    "palindrome.replace(\"a\",\"!\")\n",
    "# .replace returns a new string"
   ]
  },
  {
   "cell_type": "code",
   "execution_count": 22,
   "metadata": {},
   "outputs": [
    {
     "data": {
      "text/plain": [
       "'a man a plan a canal new york city'"
      ]
     },
     "execution_count": 22,
     "metadata": {},
     "output_type": "execute_result"
    }
   ],
   "source": [
    "# replace can replace multiple characters at a time\n",
    "palindrome.replace(\"panama\",\"new york city\")"
   ]
  },
  {
   "cell_type": "code",
   "execution_count": 23,
   "metadata": {},
   "outputs": [
    {
     "data": {
      "text/plain": [
       "0"
      ]
     },
     "execution_count": 23,
     "metadata": {},
     "output_type": "execute_result"
    }
   ],
   "source": [
    "# if you need to find the occurrence of a substring in a string\n",
    "# use .find\n",
    "palindrome.find(\"a\")\n",
    "# .find returns the index of the first instance that you're looking for"
   ]
  },
  {
   "cell_type": "code",
   "execution_count": 24,
   "metadata": {},
   "outputs": [
    {
     "data": {
      "text/plain": [
       "-1"
      ]
     },
     "execution_count": 24,
     "metadata": {},
     "output_type": "execute_result"
    }
   ],
   "source": [
    "palindrome.find(\"!\")\n",
    "# .find returns a -1 if the thing you're looking for isn't there"
   ]
  },
  {
   "cell_type": "code",
   "execution_count": 26,
   "metadata": {},
   "outputs": [
    {
     "data": {
      "text/plain": [
       "2"
      ]
     },
     "execution_count": 26,
     "metadata": {},
     "output_type": "execute_result"
    }
   ],
   "source": [
    "palindrome.find(\"man\")\n",
    "# the number .find returns is where the string you're looking for starts"
   ]
  },
  {
   "cell_type": "code",
   "execution_count": 27,
   "metadata": {},
   "outputs": [
    {
     "data": {
      "text/plain": [
       "True"
      ]
     },
     "execution_count": 27,
     "metadata": {},
     "output_type": "execute_result"
    }
   ],
   "source": [
    "# you can also use in instead of find\n",
    "# what to know if a letter is a vowel?\n",
    "\"a\" in \"aeiouAEIOU\""
   ]
  },
  {
   "cell_type": "code",
   "execution_count": 28,
   "metadata": {},
   "outputs": [
    {
     "data": {
      "text/plain": [
       "0"
      ]
     },
     "execution_count": 28,
     "metadata": {},
     "output_type": "execute_result"
    }
   ],
   "source": [
    "\"aeiouAEIOU\".find(\"a\")"
   ]
  },
  {
   "cell_type": "code",
   "execution_count": 29,
   "metadata": {},
   "outputs": [
    {
     "data": {
      "text/plain": [
       "True"
      ]
     },
     "execution_count": 29,
     "metadata": {},
     "output_type": "execute_result"
    }
   ],
   "source": [
    "\"man\" in palindrome"
   ]
  },
  {
   "cell_type": "code",
   "execution_count": 30,
   "metadata": {},
   "outputs": [
    {
     "data": {
      "text/plain": [
       "False"
      ]
     },
     "execution_count": 30,
     "metadata": {},
     "output_type": "execute_result"
    }
   ],
   "source": [
    "\"mna\" in palindrome\n",
    "# the in keyword is letting us check if the string mna is in palindrome, not if the letters\n",
    "# m, n, and a are all in palindrome"
   ]
  },
  {
   "cell_type": "code",
   "execution_count": 32,
   "metadata": {},
   "outputs": [],
   "source": [
    "# attributes and the string module\n",
    "import string"
   ]
  },
  {
   "cell_type": "code",
   "execution_count": 33,
   "metadata": {},
   "outputs": [
    {
     "data": {
      "text/plain": [
       "'abcdefghijklmnopqrstuvwxyzABCDEFGHIJKLMNOPQRSTUVWXYZ'"
      ]
     },
     "execution_count": 33,
     "metadata": {},
     "output_type": "execute_result"
    }
   ],
   "source": [
    "string.ascii_letters"
   ]
  },
  {
   "cell_type": "code",
   "execution_count": 34,
   "metadata": {},
   "outputs": [
    {
     "data": {
      "text/plain": [
       "'ABCDEFGHIJKLMNOPQRSTUVWXYZ'"
      ]
     },
     "execution_count": 34,
     "metadata": {},
     "output_type": "execute_result"
    }
   ],
   "source": [
    "string.ascii_uppercase"
   ]
  },
  {
   "cell_type": "code",
   "execution_count": 35,
   "metadata": {},
   "outputs": [
    {
     "data": {
      "text/plain": [
       "'abcdefghijklmnopqrstuvwxyz'"
      ]
     },
     "execution_count": 35,
     "metadata": {},
     "output_type": "execute_result"
    }
   ],
   "source": [
    "string.ascii_lowercase"
   ]
  },
  {
   "cell_type": "code",
   "execution_count": 36,
   "metadata": {},
   "outputs": [
    {
     "data": {
      "text/plain": [
       "'0123456789'"
      ]
     },
     "execution_count": 36,
     "metadata": {},
     "output_type": "execute_result"
    }
   ],
   "source": [
    "string.digits"
   ]
  },
  {
   "cell_type": "code",
   "execution_count": 37,
   "metadata": {},
   "outputs": [
    {
     "data": {
      "text/plain": [
       "'!\"#$%&\\'()*+,-./:;<=>?@[\\\\]^_`{|}~'"
      ]
     },
     "execution_count": 37,
     "metadata": {},
     "output_type": "execute_result"
    }
   ],
   "source": [
    "string.punctuation"
   ]
  },
  {
   "cell_type": "code",
   "execution_count": 39,
   "metadata": {},
   "outputs": [
    {
     "data": {
      "text/plain": [
       "' \\t\\n\\r\\x0b\\x0c'"
      ]
     },
     "execution_count": 39,
     "metadata": {},
     "output_type": "execute_result"
    }
   ],
   "source": [
    "string.whitespace"
   ]
  },
  {
   "cell_type": "code",
   "execution_count": 40,
   "metadata": {},
   "outputs": [
    {
     "name": "stdout",
     "output_type": "stream",
     "text": [
      " \t\n",
      "\r",
      "\u000b",
      "\f",
      "\n"
     ]
    }
   ],
   "source": [
    "print(string.whitespace)"
   ]
  },
  {
   "cell_type": "code",
   "execution_count": 41,
   "metadata": {},
   "outputs": [],
   "source": [
    "# whitespace characters\n",
    "# ' ' - space\n",
    "# '\\t' - tab\n",
    "# '\\n' - newline\n",
    "# '\\r' - a return\n",
    "# '\\x0b' - vertical tab (also '\\v') - was used for printing, not really used now\n",
    "# '\\x0c' - a form feed or a page break\n",
    "\n",
    "# notice that they all start with the forward slash. this indicates one of two things: either\n",
    "# that what comes after is a special character or you're escaping a character that normally\n",
    "# means something"
   ]
  },
  {
   "cell_type": "code",
   "execution_count": 43,
   "metadata": {},
   "outputs": [
    {
     "name": "stdout",
     "output_type": "stream",
     "text": [
      "hello my name is pickles\n"
     ]
    }
   ],
   "source": [
    "myString = \"hello my name is pickles\"\n",
    "print(myString)"
   ]
  },
  {
   "cell_type": "code",
   "execution_count": 44,
   "metadata": {},
   "outputs": [
    {
     "name": "stdout",
     "output_type": "stream",
     "text": [
      "hello my name is \"pickles\"\n"
     ]
    }
   ],
   "source": [
    "print(\"hello my name is \\\"pickles\\\"\") # the slash escapes the quote character and python\n",
    "# treats it like a regular old character"
   ]
  },
  {
   "cell_type": "code",
   "execution_count": 45,
   "metadata": {},
   "outputs": [
    {
     "data": {
      "text/plain": [
       "'\\'hello my name is \"pickles\"\\''"
      ]
     },
     "execution_count": 45,
     "metadata": {},
     "output_type": "execute_result"
    }
   ],
   "source": [
    "stringWithSpecialChars = \"hello my name is \\\"pickles\\\"\"\n",
    "repr(stringWithSpecialChars)\n",
    "# repr evaluates a string representation - will print the special characters"
   ]
  },
  {
   "cell_type": "code",
   "execution_count": 46,
   "metadata": {},
   "outputs": [
    {
     "name": "stdout",
     "output_type": "stream",
     "text": [
      "\n",
      "\n",
      "Howdy\n",
      "Hey\n"
     ]
    }
   ],
   "source": [
    "stringWithBreaks = \"\\n\\nHowdy\\nHey\"\n",
    "print(stringWithBreaks)"
   ]
  },
  {
   "cell_type": "code",
   "execution_count": 47,
   "metadata": {},
   "outputs": [
    {
     "data": {
      "text/plain": [
       "\"'\\\\n\\\\nHowdy\\\\nHey'\""
      ]
     },
     "execution_count": 47,
     "metadata": {},
     "output_type": "execute_result"
    }
   ],
   "source": [
    "repr(stringWithBreaks)"
   ]
  },
  {
   "cell_type": "code",
   "execution_count": 48,
   "metadata": {},
   "outputs": [
    {
     "name": "stdout",
     "output_type": "stream",
     "text": [
      "a man a plan a canal panama\n",
      "a is whitespace? False\n",
      "  is whitespace? True\n",
      "m is whitespace? False\n",
      "a is whitespace? False\n",
      "n is whitespace? False\n",
      "  is whitespace? True\n",
      "a is whitespace? False\n",
      "  is whitespace? True\n",
      "p is whitespace? False\n",
      "l is whitespace? False\n",
      "a is whitespace? False\n",
      "n is whitespace? False\n",
      "  is whitespace? True\n",
      "a is whitespace? False\n",
      "  is whitespace? True\n",
      "c is whitespace? False\n",
      "a is whitespace? False\n",
      "n is whitespace? False\n",
      "a is whitespace? False\n",
      "l is whitespace? False\n",
      "  is whitespace? True\n",
      "p is whitespace? False\n",
      "a is whitespace? False\n",
      "n is whitespace? False\n",
      "a is whitespace? False\n",
      "m is whitespace? False\n",
      "a is whitespace? False\n"
     ]
    }
   ],
   "source": [
    "# trick for finding whitespace in something\n",
    "print(palindrome)\n",
    "for letter in palindrome:\n",
    "    letterIsWhitespace = letter in string.whitespace\n",
    "    print(letter + \" is whitespace? \"+str(letterIsWhitespace))"
   ]
  },
  {
   "cell_type": "code",
   "execution_count": 2,
   "metadata": {},
   "outputs": [
    {
     "data": {
      "text/plain": [
       "'a man a plan a canal panamaa man a plan a canal panama'"
      ]
     },
     "execution_count": 2,
     "metadata": {},
     "output_type": "execute_result"
    }
   ],
   "source": [
    "# concatenation\n",
    "palindrome+palindrome"
   ]
  },
  {
   "cell_type": "code",
   "execution_count": 3,
   "metadata": {},
   "outputs": [
    {
     "data": {
      "text/plain": [
       "'toasttoast'"
      ]
     },
     "execution_count": 3,
     "metadata": {},
     "output_type": "execute_result"
    }
   ],
   "source": [
    "breakfast+breakfast"
   ]
  },
  {
   "cell_type": "code",
   "execution_count": 4,
   "metadata": {},
   "outputs": [
    {
     "data": {
      "text/plain": [
       "'toasttoasttoasttoasttoast'"
      ]
     },
     "execution_count": 4,
     "metadata": {},
     "output_type": "execute_result"
    }
   ],
   "source": [
    "# multiplication?\n",
    "breakfast*5"
   ]
  },
  {
   "cell_type": "code",
   "execution_count": 6,
   "metadata": {},
   "outputs": [
    {
     "name": "stdout",
     "output_type": "stream",
     "text": [
      "toast   toast\n"
     ]
    }
   ],
   "source": [
    "# order of operations holds even with string concatenation\n",
    "print(breakfast+' '*3+breakfast)"
   ]
  },
  {
   "cell_type": "code",
   "execution_count": 7,
   "metadata": {},
   "outputs": [
    {
     "name": "stdout",
     "output_type": "stream",
     "text": [
      "toast toast toast \n"
     ]
    }
   ],
   "source": [
    "print((breakfast+' ')*3)"
   ]
  },
  {
   "cell_type": "code",
   "execution_count": 8,
   "metadata": {},
   "outputs": [
    {
     "data": {
      "text/plain": [
       "'yes!'"
      ]
     },
     "execution_count": 8,
     "metadata": {},
     "output_type": "execute_result"
    }
   ],
   "source": [
    "# upper / lower case\n",
    "\"YES!\".lower()"
   ]
  },
  {
   "cell_type": "code",
   "execution_count": 9,
   "metadata": {},
   "outputs": [
    {
     "data": {
      "text/plain": [
       "'NOOOOOOOOOOOOOO'"
      ]
     },
     "execution_count": 9,
     "metadata": {},
     "output_type": "execute_result"
    }
   ],
   "source": [
    "\"noooooooOOOOOOO\".upper()"
   ]
  },
  {
   "cell_type": "code",
   "execution_count": 10,
   "metadata": {},
   "outputs": [
    {
     "data": {
      "text/plain": [
       "'A Man A Plan A Canal Panama'"
      ]
     },
     "execution_count": 10,
     "metadata": {},
     "output_type": "execute_result"
    }
   ],
   "source": [
    "palindrome.title()"
   ]
  },
  {
   "cell_type": "code",
   "execution_count": 11,
   "metadata": {},
   "outputs": [
    {
     "data": {
      "text/plain": [
       "'a man a plan a canal panama'"
      ]
     },
     "execution_count": 11,
     "metadata": {},
     "output_type": "execute_result"
    }
   ],
   "source": [
    "palindrome"
   ]
  },
  {
   "cell_type": "code",
   "execution_count": 12,
   "metadata": {},
   "outputs": [
    {
     "data": {
      "text/plain": [
       "'NoOoOoOoOOOOO'"
      ]
     },
     "execution_count": 12,
     "metadata": {},
     "output_type": "execute_result"
    }
   ],
   "source": [
    "\"nOoOoOoOooooo\".swapcase()"
   ]
  },
  {
   "cell_type": "code",
   "execution_count": 13,
   "metadata": {},
   "outputs": [
    {
     "name": "stdout",
     "output_type": "stream",
     "text": [
      "\t\t\t\t\n",
      "\n",
      "     \n",
      "somewords surrounded by whitespace\n",
      "\n",
      "\t\n",
      "  \n"
     ]
    }
   ],
   "source": [
    "stringWithSpace = \"\\t\\t\\t\\t\\n\\n     \\nsomewords surrounded by whitespace\\n\\n\\t\\n  \"\n",
    "print(stringWithSpace)"
   ]
  },
  {
   "cell_type": "code",
   "execution_count": 14,
   "metadata": {},
   "outputs": [
    {
     "data": {
      "text/plain": [
       "\"'\\\\t\\\\t\\\\t\\\\t\\\\n\\\\n     \\\\nsomewords surrounded by whitespace\\\\n\\\\n\\\\t\\\\n  '\""
      ]
     },
     "execution_count": 14,
     "metadata": {},
     "output_type": "execute_result"
    }
   ],
   "source": [
    "repr(stringWithSpace)"
   ]
  },
  {
   "cell_type": "code",
   "execution_count": 15,
   "metadata": {},
   "outputs": [
    {
     "name": "stdout",
     "output_type": "stream",
     "text": [
      "\t\t\t\t\n",
      "\n",
      "     \n",
      "somewords surrounded by whitespace\n"
     ]
    }
   ],
   "source": [
    "# remove whitespace from end of string: .rstrip()\n",
    "# remove whitespace from beginning of string: .lstrip()\n",
    "print(stringWithSpace.rstrip())\n"
   ]
  },
  {
   "cell_type": "code",
   "execution_count": 16,
   "metadata": {},
   "outputs": [
    {
     "name": "stdout",
     "output_type": "stream",
     "text": [
      "somewords surrounded by whitespace\n",
      "\n",
      "\t\n",
      "  \n"
     ]
    }
   ],
   "source": [
    "print(stringWithSpace.lstrip())"
   ]
  },
  {
   "cell_type": "code",
   "execution_count": 17,
   "metadata": {},
   "outputs": [
    {
     "name": "stdout",
     "output_type": "stream",
     "text": [
      "somewords surrounded by whitespace\n"
     ]
    }
   ],
   "source": [
    "# .strip removes whitespace from both sides of the string\n",
    "print(stringWithSpace.strip())\n",
    "# important! .strip does not remove whitespace within the string"
   ]
  },
  {
   "cell_type": "code",
   "execution_count": 18,
   "metadata": {},
   "outputs": [
    {
     "data": {
      "text/plain": [
       "['somewords', 'surrounded', 'by', 'whitespace']"
      ]
     },
     "execution_count": 18,
     "metadata": {},
     "output_type": "execute_result"
    }
   ],
   "source": [
    "# to get individual words from a string, use .split\n",
    "# what kind of data type does split return?\n",
    "words = stringWithSpace.split()\n",
    "words\n",
    "# there's no whitespace in the list. by default, split splits on whitespace"
   ]
  },
  {
   "cell_type": "code",
   "execution_count": 1,
   "metadata": {},
   "outputs": [
    {
     "ename": "NameError",
     "evalue": "name 'stringWithSpace' is not defined",
     "output_type": "error",
     "traceback": [
      "\u001b[1;31m---------------------------------------------------------------------------\u001b[0m",
      "\u001b[1;31mNameError\u001b[0m                                 Traceback (most recent call last)",
      "\u001b[1;32m<ipython-input-1-d05b3fb13676>\u001b[0m in \u001b[0;36m<module>\u001b[1;34m\u001b[0m\n\u001b[1;32m----> 1\u001b[1;33m \u001b[0mweirdSplit\u001b[0m \u001b[1;33m=\u001b[0m \u001b[0mstringWithSpace\u001b[0m\u001b[1;33m.\u001b[0m\u001b[0msplit\u001b[0m\u001b[1;33m(\u001b[0m\u001b[1;34m\"o\"\u001b[0m\u001b[1;33m)\u001b[0m\u001b[1;33m\u001b[0m\u001b[1;33m\u001b[0m\u001b[0m\n\u001b[0m\u001b[0;32m      2\u001b[0m \u001b[0mweirdSplit\u001b[0m\u001b[1;33m\u001b[0m\u001b[1;33m\u001b[0m\u001b[0m\n\u001b[0;32m      3\u001b[0m \u001b[1;31m# the parameter passed to split is the delimiter\u001b[0m\u001b[1;33m\u001b[0m\u001b[1;33m\u001b[0m\u001b[1;33m\u001b[0m\u001b[0m\n",
      "\u001b[1;31mNameError\u001b[0m: name 'stringWithSpace' is not defined"
     ]
    }
   ],
   "source": [
    "weirdSplit = stringWithSpace.split(\"o\")\n",
    "weirdSplit\n",
    "# the parameter passed to split is the delimiter"
   ]
  },
  {
   "cell_type": "code",
   "execution_count": 20,
   "metadata": {},
   "outputs": [
    {
     "data": {
      "text/plain": [
       "'\\t\\t\\t\\t\\n\\n     \\nsomewords surrounded by whitespace\\n\\n\\t\\n  '"
      ]
     },
     "execution_count": 20,
     "metadata": {},
     "output_type": "execute_result"
    }
   ],
   "source": [
    "# how would we put this back together?\n",
    "# we can use join\n",
    "\"o\".join(weirdSplit)"
   ]
  },
  {
   "cell_type": "code",
   "execution_count": 22,
   "metadata": {},
   "outputs": [
    {
     "name": "stdout",
     "output_type": "stream",
     "text": [
      "The order of the pedals is Wah, Fuzz, More Fuzz, and Phaser\n"
     ]
    }
   ],
   "source": [
    "# formatting strings\n",
    "# if we want to print out numbers and strings together, what do we normally do?\n",
    "# we normally cast the number as a string and concatenate\n",
    "\n",
    "# today we'll learn the format string method to make concatenation and printing easier/faster\n",
    "# /better/et cetera\n",
    "\n",
    "pedalOne = \"Wah\"\n",
    "pedalTwo = \"Fuzz\"\n",
    "pedalThree = \"More Fuzz\"\n",
    "pedalFour = \"Phaser\"\n",
    "\n",
    "print(\"The order of the pedals is \"+pedalOne+\", \"+pedalTwo+\", \"+pedalThree+\", and \"+pedalFour)"
   ]
  },
  {
   "cell_type": "code",
   "execution_count": 23,
   "metadata": {},
   "outputs": [
    {
     "name": "stdout",
     "output_type": "stream",
     "text": [
      "The order of the pedals is Wah, Fuzz, More Fuzz, Phaser\n"
     ]
    }
   ],
   "source": [
    "print(\"The order of the pedals is {0}, {1}, {2}, {3}\".format(pedalOne,pedalTwo,pedalThree,pedalFour))"
   ]
  },
  {
   "cell_type": "code",
   "execution_count": 24,
   "metadata": {},
   "outputs": [
    {
     "name": "stdout",
     "output_type": "stream",
     "text": [
      "The order of the pedals is Fuzz, Wah, Phaser, More Fuzz\n"
     ]
    }
   ],
   "source": [
    "# you can change the order around as you see fit\n",
    "print(\"The order of the pedals is {1}, {0}, {3}, {2}\".format(pedalOne,pedalTwo,pedalThree,pedalFour))"
   ]
  },
  {
   "cell_type": "code",
   "execution_count": 25,
   "metadata": {},
   "outputs": [
    {
     "name": "stdout",
     "output_type": "stream",
     "text": [
      "The order of the pedals is Wah, Fuzz, More Fuzz, 19\n"
     ]
    }
   ],
   "source": [
    "pedalFive = 19\n",
    "print(\"The order of the pedals is {0}, {1}, {2}, {3}\".format(pedalOne,pedalTwo,pedalThree,pedalFive))"
   ]
  },
  {
   "cell_type": "code",
   "execution_count": 26,
   "metadata": {},
   "outputs": [
    {
     "name": "stdout",
     "output_type": "stream",
     "text": [
      "The order of the pedals is Fuzz, Fuzz, More Fuzz, Fuzz\n"
     ]
    }
   ],
   "source": [
    "# you don't have to use every argument in the .format method\n",
    "print(\"The order of the pedals is {1}, {1}, {2}, {1}\".format(pedalOne,pedalTwo,pedalThree,pedalFour))"
   ]
  },
  {
   "cell_type": "code",
   "execution_count": 27,
   "metadata": {},
   "outputs": [
    {
     "name": "stdout",
     "output_type": "stream",
     "text": [
      "The current number is 0\n",
      "The current number is 1\n",
      "The current number is 2\n",
      "The current number is 3\n",
      "The current number is 4\n"
     ]
    }
   ],
   "source": [
    "for i in range(0,5):\n",
    "    print(\"The current number is {0}\".format(i))"
   ]
  },
  {
   "cell_type": "code",
   "execution_count": 29,
   "metadata": {},
   "outputs": [
    {
     "name": "stdout",
     "output_type": "stream",
     "text": [
      "The order of the pedals is Wah, More Fuzz, Fuzz, Phaser\n"
     ]
    }
   ],
   "source": [
    "# you can name the parameters too\n",
    "print(\"The order of the pedals is {pOne}, {pTwo}, {pThree}, {pFour}\"\n",
    "      .format(pOne=pedalOne,pThree=pedalTwo,pTwo=pedalThree,pFour=pedalFour))"
   ]
  },
  {
   "cell_type": "code",
   "execution_count": 31,
   "metadata": {},
   "outputs": [
    {
     "name": "stdout",
     "output_type": "stream",
     "text": [
      "The order of the pedals is Wah, Fuzz, More Fuzz, Phaser\n"
     ]
    }
   ],
   "source": [
    "# this one might hurt your brains a little\n",
    "pedalDictionary = {\"pOne\":\"Wah\",\"pTwo\":\"Fuzz\",\"pThree\":\"More Fuzz\",\"pFour\":\"Phaser\"}\n",
    "print(\"The order of the pedals is {pOne}, {pTwo}, {pThree}, {pFour}\".format(**pedalDictionary))"
   ]
  },
  {
   "cell_type": "code",
   "execution_count": null,
   "metadata": {},
   "outputs": [],
   "source": [
    "# the ** operator allows us to take a dictionary of key-value pairs and \"unpack\" it into a \n",
    "# commas separated list of named arguments in a function a function call. for example,\n",
    "# keyName1=keyName1Value,keyName2=keyName2Value, et cetera. in our example, we get\n",
    "# pOne='Wah',pTwo='Fuzz',pThree='More Fuzz',pFour='Phaser'\n",
    "\n",
    "# this is very useful to use with .format"
   ]
  },
  {
   "cell_type": "code",
   "execution_count": 32,
   "metadata": {},
   "outputs": [
    {
     "data": {
      "text/plain": [
       "dict_keys(['pOne', 'pTwo', 'pThree', 'pFour'])"
      ]
     },
     "execution_count": 32,
     "metadata": {},
     "output_type": "execute_result"
    }
   ],
   "source": [
    "pedalDictionary.keys()"
   ]
  },
  {
   "cell_type": "code",
   "execution_count": 35,
   "metadata": {},
   "outputs": [
    {
     "ename": "IndexError",
     "evalue": "tuple index out of range",
     "output_type": "error",
     "traceback": [
      "\u001b[0;31m---------------------------------------------------------------------------\u001b[0m",
      "\u001b[0;31mIndexError\u001b[0m                                Traceback (most recent call last)",
      "\u001b[0;32m<ipython-input-35-11de654ade60>\u001b[0m in \u001b[0;36m<module>\u001b[0;34m\u001b[0m\n\u001b[0;32m----> 1\u001b[0;31m \u001b[0mprint\u001b[0m\u001b[0;34m(\u001b[0m\u001b[0;34m\"Pedals: {0},{1},{2},{3}\"\u001b[0m\u001b[0;34m.\u001b[0m\u001b[0mformat\u001b[0m\u001b[0;34m(\u001b[0m\u001b[0;34m**\u001b[0m\u001b[0mpedalDictionary\u001b[0m\u001b[0;34m)\u001b[0m\u001b[0;34m)\u001b[0m\u001b[0;34m\u001b[0m\u001b[0;34m\u001b[0m\u001b[0m\n\u001b[0m\u001b[1;32m      2\u001b[0m \u001b[0;31m# this doesn't work because there aren't keys in pedalDictionary named 0,1,2,3\u001b[0m\u001b[0;34m\u001b[0m\u001b[0;34m\u001b[0m\u001b[0;34m\u001b[0m\u001b[0m\n",
      "\u001b[0;31mIndexError\u001b[0m: tuple index out of range"
     ]
    }
   ],
   "source": [
    "print(\"Pedals: {0},{1},{2},{3}\".format(**pedalDictionary))\n",
    "# this doesn't work because there aren't keys in pedalDictionary named 0,1,2,3"
   ]
  },
  {
   "cell_type": "code",
   "execution_count": 37,
   "metadata": {},
   "outputs": [
    {
     "name": "stdout",
     "output_type": "stream",
     "text": [
      "This pedal, the Carcosa, is made by DOD\n"
     ]
    }
   ],
   "source": [
    "# you can do more complex stuff when you have more complex dictionaries, e.g., nested elements\n",
    "pedals = {\"pedalOne\":{\"Manufacturer\":\"DOD\",\"Model\":\"Carcosa\"}}\n",
    "print(\"This pedal, the {pedalOne[Model]}, is made by {pedalOne[Manufacturer]}\"\n",
    "      .format(**pedals))"
   ]
  },
  {
   "cell_type": "code",
   "execution_count": 2,
   "metadata": {},
   "outputs": [
    {
     "name": "stdout",
     "output_type": "stream",
     "text": [
      "Followers 84,814,791, Friends Count: 631,357\n"
     ]
    }
   ],
   "source": [
    "# let's make things easier to read\n",
    "twitterDeets = {\"favorites_count\":10,\"followers_count\":84814791,\"friends_count\":631357}\n",
    "print(\"Followers {followers_count:,}, Friends Count: {friends_count:,}\".format(**twitterDeets))"
   ]
  },
  {
   "cell_type": "code",
   "execution_count": null,
   "metadata": {},
   "outputs": [],
   "source": [
    "# colon after the variable name signals formatting. whatever is after the colon \n",
    "# specifies the kind of formatting. in this case, the commas puts commas into numbers as we\n",
    "# would expect them (which is every three digits)"
   ]
  },
  {
   "cell_type": "code",
   "execution_count": 3,
   "metadata": {},
   "outputs": [
    {
     "ename": "ValueError",
     "evalue": "Cannot specify ',' with 's'.",
     "output_type": "error",
     "traceback": [
      "\u001b[0;31m---------------------------------------------------------------------------\u001b[0m",
      "\u001b[0;31mValueError\u001b[0m                                Traceback (most recent call last)",
      "\u001b[0;32m<ipython-input-3-808c79a3ed6c>\u001b[0m in \u001b[0;36m<module>\u001b[0;34m\u001b[0m\n\u001b[0;32m----> 1\u001b[0;31m \u001b[0mprint\u001b[0m\u001b[0;34m(\u001b[0m\u001b[0;34m\"What happens if we try to put commas in a string? {0:,}\"\u001b[0m\u001b[0;34m.\u001b[0m\u001b[0mformat\u001b[0m\u001b[0;34m(\u001b[0m\u001b[0;34m\"format 12345\"\u001b[0m\u001b[0;34m)\u001b[0m\u001b[0;34m)\u001b[0m\u001b[0;34m\u001b[0m\u001b[0;34m\u001b[0m\u001b[0m\n\u001b[0m",
      "\u001b[0;31mValueError\u001b[0m: Cannot specify ',' with 's'."
     ]
    }
   ],
   "source": [
    "print(\"What happens if we try to put commas in a string? {0:,}\".format(\"format 12345\"))\n",
    "# this produces an error that means you can't use the , with a string"
   ]
  },
  {
   "cell_type": "code",
   "execution_count": 4,
   "metadata": {},
   "outputs": [
    {
     "ename": "ValueError",
     "evalue": "Cannot specify ',' with 's'.",
     "output_type": "error",
     "traceback": [
      "\u001b[0;31m---------------------------------------------------------------------------\u001b[0m",
      "\u001b[0;31mValueError\u001b[0m                                Traceback (most recent call last)",
      "\u001b[0;32m<ipython-input-4-0af8ce0ae4e4>\u001b[0m in \u001b[0;36m<module>\u001b[0;34m\u001b[0m\n\u001b[0;32m----> 1\u001b[0;31m \u001b[0mprint\u001b[0m\u001b[0;34m(\u001b[0m\u001b[0;34m\"What happens if we try to put commas in a string? {0:,}\"\u001b[0m\u001b[0;34m.\u001b[0m\u001b[0mformat\u001b[0m\u001b[0;34m(\u001b[0m\u001b[0;34m\"12345\"\u001b[0m\u001b[0;34m)\u001b[0m\u001b[0;34m)\u001b[0m\u001b[0;34m\u001b[0m\u001b[0;34m\u001b[0m\u001b[0m\n\u001b[0m",
      "\u001b[0;31mValueError\u001b[0m: Cannot specify ',' with 's'."
     ]
    }
   ],
   "source": [
    "print(\"What happens if we try to put commas in a string? {0:,}\".format(\"12345\"))\n",
    "# same thing even when the string really looks like a number"
   ]
  },
  {
   "cell_type": "code",
   "execution_count": 5,
   "metadata": {},
   "outputs": [
    {
     "name": "stdout",
     "output_type": "stream",
     "text": [
      "What happens if we try to put commas in a string? 12,345\n"
     ]
    }
   ],
   "source": [
    "print(\"What happens if we try to put commas in a string? {0:,}\".format(int(\"12345\")))"
   ]
  },
  {
   "cell_type": "code",
   "execution_count": 6,
   "metadata": {},
   "outputs": [
    {
     "name": "stdout",
     "output_type": "stream",
     "text": [
      "3.141592653589793\n"
     ]
    }
   ],
   "source": [
    "import math\n",
    "print(math.pi)"
   ]
  },
  {
   "cell_type": "code",
   "execution_count": 7,
   "metadata": {},
   "outputs": [
    {
     "data": {
      "text/plain": [
       "3.142857142857143"
      ]
     },
     "execution_count": 7,
     "metadata": {},
     "output_type": "execute_result"
    }
   ],
   "source": [
    "# more number formatting\n",
    "sortOfPi = 22/7\n",
    "sortOfPi"
   ]
  },
  {
   "cell_type": "code",
   "execution_count": 8,
   "metadata": {},
   "outputs": [
    {
     "name": "stdout",
     "output_type": "stream",
     "text": [
      "two decimal places: 3.1429\n"
     ]
    }
   ],
   "source": [
    "print(\"two decimal places: {0:.4f}\".format(sortOfPi))"
   ]
  },
  {
   "cell_type": "code",
   "execution_count": 9,
   "metadata": {},
   "outputs": [
    {
     "name": "stdout",
     "output_type": "stream",
     "text": [
      "scientific notation: 3.450e+06\n"
     ]
    }
   ],
   "source": [
    "print(\"scientific notation: {0:.3e}\".format(3450000))"
   ]
  },
  {
   "cell_type": "code",
   "execution_count": 12,
   "metadata": {},
   "outputs": [
    {
     "name": "stdout",
     "output_type": "stream",
     "text": [
      "Percentage of famous people in the world: 0.01%\n",
      "Percentage of famous people in the world: 0.00855790%\n"
     ]
    }
   ],
   "source": [
    "famousPeople = 604174/7059837187 # as of jan 2013\n",
    "print(\"Percentage of famous people in the world: {0:.2%}\".format(famousPeople))\n",
    "print(\"Percentage of famous people in the world: {0:.8%}\".format(famousPeople))"
   ]
  },
  {
   "cell_type": "code",
   "execution_count": 15,
   "metadata": {},
   "outputs": [
    {
     "name": "stdout",
     "output_type": "stream",
     "text": [
      "This is an example of left aligned                  \n",
      "This is an example of                  right aligned\n",
      "This is an example of        centered aligned       \n"
     ]
    }
   ],
   "source": [
    "# align some text\n",
    "print(\"This is an example of {:<30}\".format(\"left aligned\"))\n",
    "print(\"This is an example of {:>30}\".format(\"right aligned\"))\n",
    "print(\"This is an example of {:^30}\".format(\"centered aligned\"))"
   ]
  },
  {
   "cell_type": "code",
   "execution_count": 16,
   "metadata": {},
   "outputs": [
    {
     "name": "stdout",
     "output_type": "stream",
     "text": [
      "This is an example of *********left aligned*********\n"
     ]
    }
   ],
   "source": [
    "print(\"This is an example of {:*^30}\".format(\"left aligned\"))\n",
    "# character after colon but before alignment character (<, >, ^) will fill in \n",
    "# any whitespace"
   ]
  },
  {
   "cell_type": "code",
   "execution_count": 21,
   "metadata": {},
   "outputs": [
    {
     "name": "stdout",
     "output_type": "stream",
     "text": [
      "This is an example of left aligned***\n"
     ]
    }
   ],
   "source": [
    "print(\"This is an example of {:*<15}\".format(\"left aligned\"))"
   ]
  },
  {
   "cell_type": "code",
   "execution_count": 23,
   "metadata": {},
   "outputs": [
    {
     "name": "stdout",
     "output_type": "stream",
     "text": [
      "int: 42, hex: 2a, oct: 52, bin: 101010\n"
     ]
    }
   ],
   "source": [
    "# multiple numeric systems\n",
    "# binary\n",
    "# 0000 = 0\n",
    "# 0001 = 1\n",
    "# 0010 = 2\n",
    "# 0011 = 3\n",
    "# 0100 = 4\n",
    "# each digit represents a bit\n",
    "# 0 means nothing from that bit\n",
    "# 1 means something from that bit\n",
    "# going from right to left, the first bit is 2^0 = 1\n",
    "# the second bit is 2^1 = 2\n",
    "# the third bit is 2^2 = 4\n",
    "# the fourth bit is 2^3 = 8\n",
    "\n",
    "# 0010 = 0*2^3 + 0*2^2 + 1*2^1 + 0*2^0 = 2\n",
    "\n",
    "# hexadecimal: base 16\n",
    "# html colors are rgb, e.g., #ffffff for white, #000000 for black\n",
    "# these are three pairs of numbers, #ff, #ff, #ff for white, #00, #00, #00 for black\n",
    "# they represent the r, g, b: red, green, blue\n",
    "\n",
    "print(\"int: {0:d}, hex: {0:x}, oct: {0:o}, bin: {0:b}\".format(42))\n",
    "# d: decimal (base 10)\n",
    "# x: hex (base 16)\n",
    "# o: octal (base 8)\n",
    "# b: binary (base 2)"
   ]
  },
  {
   "cell_type": "code",
   "execution_count": null,
   "metadata": {},
   "outputs": [],
   "source": [
    "# encoding and decoding\n",
    "# from wikipedia: character encoding is used to represent a repertoire of characters by some\n",
    "# kind of encoding system\n",
    "# for example, us-ascii consists of 7 bits\n",
    "# utf-8: 8 bits\n",
    "# utf-16: 16 bits\n",
    "# utf-32: 32 bits"
   ]
  },
  {
   "cell_type": "code",
   "execution_count": 25,
   "metadata": {},
   "outputs": [
    {
     "name": "stdout",
     "output_type": "stream",
     "text": [
      "False\n"
     ]
    }
   ],
   "source": [
    "# what you need to know: different encoding systems exist and that you should use utf-8 \n",
    "# whenever possible\n",
    "# ascii characters are part of unicode\n",
    "\n",
    "# unicode: (from the wikipedia page)\n",
    "# utf-8 (u stands for unicode) is used pretty much all over the web (92%)\n",
    "# uses one byte for the first 128 code points, up to 4 bytes for other characters\n",
    "# the first 128 unicode numbers are the ascii characters\n",
    "\n",
    "print(\"coffee\" > \"pancakes\")"
   ]
  },
  {
   "cell_type": "code",
   "execution_count": 26,
   "metadata": {},
   "outputs": [
    {
     "name": "stdout",
     "output_type": "stream",
     "text": [
      "True\n"
     ]
    }
   ],
   "source": [
    "# what?  how can one string be greater than or lesser than another string?\n",
    "# length?\n",
    "print(\"tea\" > \"coffee\")"
   ]
  },
  {
   "cell_type": "code",
   "execution_count": 27,
   "metadata": {},
   "outputs": [
    {
     "data": {
      "text/plain": [
       "116"
      ]
     },
     "execution_count": 27,
     "metadata": {},
     "output_type": "execute_result"
    }
   ],
   "source": [
    "# what's going on here?\n",
    "# it turns out that each character has a number associated with it\n",
    "# we find that number with ord and this will give us the ascii values of each character\n",
    "ord(\"t\")"
   ]
  },
  {
   "cell_type": "code",
   "execution_count": 28,
   "metadata": {},
   "outputs": [
    {
     "ename": "TypeError",
     "evalue": "ord() expected a character, but string of length 3 found",
     "output_type": "error",
     "traceback": [
      "\u001b[0;31m---------------------------------------------------------------------------\u001b[0m",
      "\u001b[0;31mTypeError\u001b[0m                                 Traceback (most recent call last)",
      "\u001b[0;32m<ipython-input-28-2fcaab80c0cb>\u001b[0m in \u001b[0;36m<module>\u001b[0;34m\u001b[0m\n\u001b[0;32m----> 1\u001b[0;31m \u001b[0mord\u001b[0m\u001b[0;34m(\u001b[0m\u001b[0;34m\"tea\"\u001b[0m\u001b[0;34m)\u001b[0m\u001b[0;34m\u001b[0m\u001b[0;34m\u001b[0m\u001b[0m\n\u001b[0m",
      "\u001b[0;31mTypeError\u001b[0m: ord() expected a character, but string of length 3 found"
     ]
    }
   ],
   "source": [
    "ord(\"tea\") # only works for one character"
   ]
  },
  {
   "cell_type": "code",
   "execution_count": 29,
   "metadata": {},
   "outputs": [
    {
     "data": {
      "text/plain": [
       "84"
      ]
     },
     "execution_count": 29,
     "metadata": {},
     "output_type": "execute_result"
    }
   ],
   "source": [
    "ord(\"T\")"
   ]
  }
 ],
 "metadata": {
  "kernelspec": {
   "display_name": "Python 3",
   "language": "python",
   "name": "python3"
  },
  "language_info": {
   "codemirror_mode": {
    "name": "ipython",
    "version": 3
   },
   "file_extension": ".py",
   "mimetype": "text/x-python",
   "name": "python",
   "nbconvert_exporter": "python",
   "pygments_lexer": "ipython3",
   "version": "3.7.4"
  }
 },
 "nbformat": 4,
 "nbformat_minor": 2
}
