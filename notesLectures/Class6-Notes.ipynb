{
 "cells": [
  {
   "cell_type": "code",
   "execution_count": 2,
   "metadata": {},
   "outputs": [],
   "source": [
    "# nested structures\n",
    "\n",
    "pedalDictionary = {}\n",
    "# add some things to the dictionary\n",
    "pedalDictionary[\"Name\"] = [] # value of Name key is a list\n",
    "pedalDictionary[\"Type\"] = [] # value of Type key is a list"
   ]
  },
  {
   "cell_type": "code",
   "execution_count": 3,
   "metadata": {},
   "outputs": [
    {
     "name": "stdout",
     "output_type": "stream",
     "text": [
      "{'Name': [], 'Type': []}\n"
     ]
    }
   ],
   "source": [
    "print(pedalDictionary)"
   ]
  },
  {
   "cell_type": "code",
   "execution_count": 4,
   "metadata": {},
   "outputs": [
    {
     "data": {
      "text/plain": [
       "[]"
      ]
     },
     "execution_count": 4,
     "metadata": {},
     "output_type": "execute_result"
    }
   ],
   "source": [
    "# we can add things to these lists as we would with any list\n",
    "# first we need to know how to access the lists\n",
    "# well, the lists are just values associated with keys in a dictionary, so how\n",
    "# do we access a value in a dictionary?\n",
    "pedalDictionary[\"Name\"]\n",
    "# that's the list associated with the Name key"
   ]
  },
  {
   "cell_type": "code",
   "execution_count": 5,
   "metadata": {},
   "outputs": [],
   "source": [
    "# how do we add stuff to a list?\n",
    "pedalDictionary[\"Name\"].append(\"Pumpkin Pi\")"
   ]
  },
  {
   "cell_type": "code",
   "execution_count": 6,
   "metadata": {},
   "outputs": [
    {
     "name": "stdout",
     "output_type": "stream",
     "text": [
      "{'Name': ['Pumpkin Pi'], 'Type': []}\n"
     ]
    }
   ],
   "source": [
    "print(pedalDictionary)"
   ]
  },
  {
   "cell_type": "code",
   "execution_count": 7,
   "metadata": {},
   "outputs": [
    {
     "data": {
      "text/plain": [
       "['Pumpkin Pi']"
      ]
     },
     "execution_count": 7,
     "metadata": {},
     "output_type": "execute_result"
    }
   ],
   "source": [
    "# grab the whole list?\n",
    "pedalDictionary[\"Name\"]"
   ]
  },
  {
   "cell_type": "code",
   "execution_count": 8,
   "metadata": {},
   "outputs": [],
   "source": [
    "pedalDictionary[\"Name\"].append(\"Moisture Fuzz\")\n",
    "pedalDictionary[\"Type\"].append(\"Fuzz\")\n",
    "pedalDictionary[\"Type\"].append(\"Fuzz\")"
   ]
  },
  {
   "cell_type": "code",
   "execution_count": 9,
   "metadata": {},
   "outputs": [
    {
     "data": {
      "text/plain": [
       "{'Name': ['Pumpkin Pi', 'Moisture Fuzz'], 'Type': ['Fuzz', 'Fuzz']}"
      ]
     },
     "execution_count": 9,
     "metadata": {},
     "output_type": "execute_result"
    }
   ],
   "source": [
    "pedalDictionary"
   ]
  },
  {
   "cell_type": "code",
   "execution_count": 10,
   "metadata": {},
   "outputs": [],
   "source": [
    "# could we put another list inside one of those lists?  or a dictionary? or a set?  or a \n",
    "# dictionary that has a list that has a list that has a dictionary?  well sure.\n",
    "nestedList = [\"a\",\"b\",\"c\"]"
   ]
  },
  {
   "cell_type": "code",
   "execution_count": 12,
   "metadata": {},
   "outputs": [],
   "source": [
    "pedalDictionary[\"Name\"].append(nestedList)"
   ]
  },
  {
   "cell_type": "code",
   "execution_count": 13,
   "metadata": {},
   "outputs": [
    {
     "data": {
      "text/plain": [
       "{'Name': ['Pumpkin Pi', 'Moisture Fuzz', ['a', 'b', 'c']],\n",
       " 'Type': ['Fuzz', 'Fuzz']}"
      ]
     },
     "execution_count": 13,
     "metadata": {},
     "output_type": "execute_result"
    }
   ],
   "source": [
    "pedalDictionary"
   ]
  },
  {
   "cell_type": "code",
   "execution_count": 15,
   "metadata": {},
   "outputs": [
    {
     "data": {
      "text/plain": [
       "'Pumpkin Pi'"
      ]
     },
     "execution_count": 15,
     "metadata": {},
     "output_type": "execute_result"
    }
   ],
   "source": [
    "# how would you get 'Pumpkin Pi'?\n",
    "pedalDictionary[\"Name\"][0]\n",
    "# pedalDictionary[\"Name\"] is the list\n",
    "# [0] is the first thing in that list"
   ]
  },
  {
   "cell_type": "code",
   "execution_count": 16,
   "metadata": {},
   "outputs": [
    {
     "data": {
      "text/plain": [
       "'Moisture Fuzz'"
      ]
     },
     "execution_count": 16,
     "metadata": {},
     "output_type": "execute_result"
    }
   ],
   "source": [
    "pedalDictionary[\"Name\"][1]"
   ]
  },
  {
   "cell_type": "code",
   "execution_count": 17,
   "metadata": {},
   "outputs": [
    {
     "data": {
      "text/plain": [
       "['a', 'b', 'c']"
      ]
     },
     "execution_count": 17,
     "metadata": {},
     "output_type": "execute_result"
    }
   ],
   "source": [
    "pedalDictionary[\"Name\"][2]"
   ]
  },
  {
   "cell_type": "code",
   "execution_count": 18,
   "metadata": {},
   "outputs": [
    {
     "data": {
      "text/plain": [
       "'c'"
      ]
     },
     "execution_count": 18,
     "metadata": {},
     "output_type": "execute_result"
    }
   ],
   "source": [
    "# so how do we get to the letter 'c'\n",
    "pedalDictionary[\"Name\"][2][2]"
   ]
  },
  {
   "cell_type": "code",
   "execution_count": null,
   "metadata": {},
   "outputs": [],
   "source": [
    "# APIs\n",
    "# Application Programming Interface\n",
    "\n",
    "# APIs are interfaces that allow us to get data from an external source (typically) on the\n",
    "# Internet\n",
    "\n",
    "# sometimes APIs have security that limit access\n",
    "# some have rate limits, e.g., 100 requests per 24 hours"
   ]
  },
  {
   "cell_type": "code",
   "execution_count": null,
   "metadata": {},
   "outputs": [],
   "source": [
    "# tv maze API\n",
    "# http://www.tvmaze.com/api\n",
    "\n",
    "# endpoints are URLs that we access to get some particular data -> it's where the data\n",
    "# that we're looking for \"lives\"\n",
    "\n",
    "# shows endpoint:\n",
    "# http://api.tvmaze.com/shows/538\n",
    "# this returns information about Futurama\n",
    "# 538 is the unique identifier the tvmaze api uses for Futurama\n",
    "# each show has a unique identifier\n",
    "\n",
    "# when we attempt to get data from an API we call this a request or a query\n",
    "\n",
    "# the data that comes back from an API is usually in one or two formats: JSON or XML\n",
    "# we're going to be focusing on JSON for now\n",
    "# JSON stands for JavaScript Object Notation\n",
    "# this is a standard format\n",
    "# why would developers want standard formats?\n",
    "\n",
    "# JSON ends up looking a lot like nested dictionaries and lists"
   ]
  }
 ],
 "metadata": {
  "kernelspec": {
   "display_name": "Python 3",
   "language": "python",
   "name": "python3"
  },
  "language_info": {
   "codemirror_mode": {
    "name": "ipython",
    "version": 3
   },
   "file_extension": ".py",
   "mimetype": "text/x-python",
   "name": "python",
   "nbconvert_exporter": "python",
   "pygments_lexer": "ipython3",
   "version": "3.7.4"
  }
 },
 "nbformat": 4,
 "nbformat_minor": 2
}
