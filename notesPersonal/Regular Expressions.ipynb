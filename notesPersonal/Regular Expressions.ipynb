{
 "cells": [
  {
   "cell_type": "code",
   "execution_count": 2,
   "metadata": {},
   "outputs": [],
   "source": [
    "\n",
    "#re.findall  -----> returns list of instances found in text\n",
    "#syntax: re.findall(regexpattern,stringyouarelookingin)\n",
    "\n",
    "\n",
    "#regex shines when you use regex patterns to match multiple things\n",
    "# regex patterns are built with regex symbols \n",
    "# \\d matches any decmimal degit (0-9)\n",
    "\n",
    "import re "
   ]
  },
  {
   "cell_type": "code",
   "execution_count": 3,
   "metadata": {},
   "outputs": [],
   "source": [
    "# \\d matches any decmimal degit (0-9)\n",
    "# \\D matches any non-degit character\n",
    "# \\s matches any whitespace charcater \n",
    "# \\S matches any non-whitespace character \n",
    "# \\w matches any alphanumeric characacter \n",
    "# \\W matches any non-alphanumeric character\n",
    "# \\t matches tab\n",
    "# \\n matches newline\n",
    "# . matches any character except newline"
   ]
  },
  {
   "cell_type": "code",
   "execution_count": 4,
   "metadata": {},
   "outputs": [
    {
     "name": "stdout",
     "output_type": "stream",
     "text": [
      "['2', '0', '4', '4', '5', '0', '0', '0', '0', '0', '7', '3', '6', '9', '1', '9', '7', '6']\n",
      "['20', '44', '50', '00', '00', '36', '76']\n",
      "['500', '000', '369']\n",
      "[]\n"
     ]
    }
   ],
   "source": [
    "myString = \"unicorns$20 billion bearsLions$44 Million sex$500000dirt $7 trillion herro$369 Million $1.9 Million 76 you are awesome\"\n",
    "print(re.findall(\"\\d\",myString))\n",
    "print(re.findall(\"\\d\\d\",myString))\n",
    "print(re.findall(\"\\d\\d\\d\",myString))\n",
    "print(re.findall(\"\\d\\d\\d'd\",myString))\n"
   ]
  },
  {
   "cell_type": "code",
   "execution_count": 5,
   "metadata": {},
   "outputs": [
    {
     "name": "stdout",
     "output_type": "stream",
     "text": [
      "['20', '44', '500000', '7', '369', '1', '9', '76']\n"
     ]
    },
    {
     "data": {
      "text/plain": [
       "['unicorns',\n",
       " '20',\n",
       " 'billion',\n",
       " 'bearsLions',\n",
       " '44',\n",
       " 'Million',\n",
       " 'sex',\n",
       " '500000dirt',\n",
       " '7',\n",
       " 'trillion',\n",
       " 'herro',\n",
       " '369',\n",
       " 'Million',\n",
       " '1',\n",
       " '9',\n",
       " 'Million',\n",
       " '76',\n",
       " 'you',\n",
       " 'are',\n",
       " 'awesome']"
      ]
     },
     "execution_count": 5,
     "metadata": {},
     "output_type": "execute_result"
    }
   ],
   "source": [
    "# + symbol is a wildcard \n",
    "# it matches one ore more of prevvious regex symbol \n",
    "print(re.findall(\"\\d+\",myString)) # it takes all instances of numbers in a line \n",
    "\n",
    "re.findall(\"\\w+\",myString)\n",
    "# this matches strings of any length that contain alpa numeric characters only "
   ]
  },
  {
   "cell_type": "code",
   "execution_count": 30,
   "metadata": {},
   "outputs": [
    {
     "data": {
      "text/plain": [
       "['$20 billion', '$44 Million', '$7 trillion', '$369 Million', '$1.9 Million']"
      ]
     },
     "execution_count": 30,
     "metadata": {},
     "output_type": "execute_result"
    }
   ],
   "source": [
    "# lets match dollar amounts only in the string\n",
    "#\\$ is all dollar sybols \n",
    "# \\d+ is any number of digits\n",
    "# so we are looking for dollar signs followed by any number of digits \n",
    "re.findall(\"\\$\\d+\",myString)\n",
    "# now lets look for the dollar amount followed by associated amount \"Millions, billions\" etc....\n",
    "# after the first part; whitespace\n",
    "# after the whitepace; alpha characters(we will just say alphanumeric )\n",
    "re.findall(\"\\$\\d+ \\w+\",myString)\n",
    "re.findall(\"\\$\\S+ \\w+\",myString)\n",
    "#we need to include decimals, so instead of using d+ we use S+ for any non-whitespace symbol after $ sign. "
   ]
  },
  {
   "cell_type": "code",
   "execution_count": 36,
   "metadata": {},
   "outputs": [
    {
     "data": {
      "text/plain": [
       "['$20 billion', '$7 trillion']"
      ]
     },
     "execution_count": 36,
     "metadata": {},
     "output_type": "execute_result"
    }
   ],
   "source": [
    "# what if we only want to look at trillions idc about millions or billions\n",
    "# negative lookahead \n",
    "#(?!)\n",
    "# it means dont match the pattern after ?!\n",
    "#(?!myPattern) - this will ignore any matches that include myPattern\n",
    "re.findall(\"\\$\\S+ (?!Million)\\w+\",myString)"
   ]
  },
  {
   "cell_type": "code",
   "execution_count": null,
   "metadata": {},
   "outputs": [],
   "source": [
    "#What about words that start with vowels only \n",
    "# a way to say or in our regular expressions \n",
    "# square brackets do this for us \n",
    "re.findall(\"[aeiouAEIOU]\")"
   ]
  }
 ],
 "metadata": {
  "kernelspec": {
   "display_name": "Python 3.9.13 64-bit (windows store)",
   "language": "python",
   "name": "python3"
  },
  "language_info": {
   "codemirror_mode": {
    "name": "ipython",
    "version": 3
   },
   "file_extension": ".py",
   "mimetype": "text/x-python",
   "name": "python",
   "nbconvert_exporter": "python",
   "pygments_lexer": "ipython3",
   "version": "3.9.13"
  },
  "vscode": {
   "interpreter": {
    "hash": "c2154bec843a099fe3d016b95ea2c28c2b633210b993f378182a012db661fcc2"
   }
  }
 },
 "nbformat": 4,
 "nbformat_minor": 2
}
