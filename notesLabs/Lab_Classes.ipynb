{
 "cells": [
  {
   "cell_type": "markdown",
   "metadata": {},
   "source": [
    "# Lab Week 7 - Creating Classes!"
   ]
  },
  {
   "cell_type": "markdown",
   "metadata": {},
   "source": [
    "---"
   ]
  },
  {
   "cell_type": "markdown",
   "metadata": {},
   "source": [
    "### Today's Activity\n",
    "\n",
    "Create a Class! \n",
    "\n",
    "It can be and do whatever you want. Flex your creativity! \n",
    "\n",
    "Each person should make their own class. You will be in breakout rooms to help each other but all the code should be your own. \n",
    "\n",
    "Make sure you have a few different methods!"
   ]
  },
  {
   "cell_type": "markdown",
   "metadata": {},
   "source": [
    "---"
   ]
  },
  {
   "cell_type": "code",
   "execution_count": null,
   "metadata": {},
   "outputs": [],
   "source": [
    "#this is \"boiler-plate\" code for creating a class, use it for guidance / inspiration!\n",
    "class someClassName():\n",
    "    def __init__(self,attributeOne=True,attributeTwo=0,anotherMaybe=False):\n",
    "        #constructor assignments here\n",
    "        self.aThirdAttribute = \"this wasn't specified in the init funciton params\"\n",
    "        \n",
    "    def someMethod(self):\n",
    "        #do something here\n",
    "        \n",
    "    def anotherMethod(self, someParameter):\n",
    "        #do something here with someParameter probably\n",
    "        \n",
    "    def moreMethods(self, someParameter, anotherParameter):\n",
    "        #do something here with someParamter and anotherParamter probably\n",
    "        \n",
    "    def updateAttributeOne(self, someUpdate):\n",
    "        self.someattribute = someUpdate\n",
    "        #probably perform someUpdate on self.attributeOne\n",
    "        \n",
    "    def printOutClassDetails(self):\n",
    "        #probably print out details and features from this class"
   ]
  },
  {
   "cell_type": "code",
   "execution_count": null,
   "metadata": {},
   "outputs": [],
   "source": [
    "myObject = someClassName(False, False)\n",
    "myObject.anotherMethod(parameter)\n",
    "myObject.attributeOne\n"
   ]
  },
  {
   "cell_type": "code",
   "execution_count": null,
   "metadata": {},
   "outputs": [],
   "source": []
  }
 ],
 "metadata": {
  "kernelspec": {
   "display_name": "Python 3",
   "language": "python",
   "name": "python3"
  },
  "language_info": {
   "codemirror_mode": {
    "name": "ipython",
    "version": 3
   },
   "file_extension": ".py",
   "mimetype": "text/x-python",
   "name": "python",
   "nbconvert_exporter": "python",
   "pygments_lexer": "ipython3",
   "version": "3.7.4"
  }
 },
 "nbformat": 4,
 "nbformat_minor": 2
}
