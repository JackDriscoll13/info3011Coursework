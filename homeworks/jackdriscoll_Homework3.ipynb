{
 "cells": [
  {
   "cell_type": "markdown",
   "metadata": {},
   "source": [
    "# Problem 1: Rock-Paper-Scissors\n",
    "\n",
    "[Rock-Paper-Scissors](https://en.wikipedia.org/wiki/Rock%E2%80%93paper%E2%80%93scissors) is a classic children's game. Two players count down from 3 and simultaneously throw one of three shapes. Each round of the game has only three possible outcomes (summarized in the image below) as well as a tie.\n",
    "\n",
    "![Rock,Paper,Scissors](https://upload.wikimedia.org/wikipedia/commons/thumb/6/67/Rock-paper-scissors.svg/300px-Rock-paper-scissors.svg.png)\n",
    "\n",
    "Implement a `rps_scoring` function that:\n",
    "\n",
    "1. accepts two variables `player1` and `player2` as inputs\n",
    "2. the only input variables that should work are \"rock\", \"paper\", and \"scissors\n",
    "3. compares the two input variables to determine which player won (or if a tie occurs)\n",
    "4. returns a string saying which player won\n",
    "\n",
    "You'll need to use some combinations of [flow control](https://docs.python.org/3.5/tutorial/controlflow.html) statements; compare input strings to each other; and sanitize your function inputs to make sure they're well-behaved in case the user enters something out-of-scope."
   ]
  },
  {
   "cell_type": "code",
   "execution_count": 1,
   "metadata": {},
   "outputs": [],
   "source": [
    "# Rock paper scissors \n",
    "# Change the value of endString depending on who won.\n",
    "# Look at each case: \n",
    "#player 1 scissors, all cases for player 2, \n",
    "#player 1 rock, all cases player 2, \n",
    "#player 1 paper, all cases for player 2,\n",
    "#player 1 not valid entry, all cases for player 2\n",
    "\n",
    "\n",
    "def rps_scoring(player1,player2):\n",
    "    if player1 ==\"scissors\": #player 1 scissors \n",
    "        if player2 ==\"rock\":            #player 2 rock\n",
    "            endString = \"Player 2 wins!\"\n",
    "        elif player2==\"paper\":          #player 2 paper\n",
    "            endString = \"Player 1 wins!\"\n",
    "        elif player2==\"scissors\":       #player 2 scissors\n",
    "            endString = \"Tie\"\n",
    "        else:                           #player 2 not valid entry\n",
    "            endString=\"Player 1 put scissors, Player 2 did not enter valid input\"\n",
    "    elif player1==\"rock\": # player 1 rock\n",
    "        if player2 ==\"rock\":\n",
    "            endString = \"Tie\"\n",
    "        elif player2==\"paper\":\n",
    "            endString = \"Player 2 wins!\"\n",
    "        elif player2 ==\"scissors\":\n",
    "            endString = \"Player 1 wins!\"\n",
    "        else:\n",
    "            endString=\"Player 1 put rock, Player 2 did not enter valid input\"\n",
    "    elif player1==\"paper\": # player 1 paper\n",
    "        if player2 ==\"rock\":\n",
    "            endString = \"Player 1 wins!\"\n",
    "        elif player2==\"paper\":\n",
    "            endString = \"Tie\"\n",
    "        elif player2==\"scissors\":\n",
    "            endString = \"Player 2 wins!\"\n",
    "        else:\n",
    "            endString=\"Player 1 put paper, Player 2 did not enter valid input\"\n",
    "    else: #player 1 not valid entry\n",
    "        endString=\"Player 1 did not enter valid input,\"\n",
    "        if player2 ==\"rock\":\n",
    "            endString += \" player 2 put rock\"\n",
    "        elif player2==\"paper\":\n",
    "            endString+=\" player 2 put paper\"\n",
    "        elif player2==\"scissors\":\n",
    "            endString+=\" player 2 put scissors\"\n",
    "        else:\n",
    "            endString+=\" Player 2 did not enter valid input\"\n",
    "    \n",
    "    #print(endString)\n",
    "    return endString"
   ]
  },
  {
   "cell_type": "markdown",
   "metadata": {},
   "source": [
    "Take it for a test spin. Your function should work without needing to change anything in the code block below."
   ]
  },
  {
   "cell_type": "code",
   "execution_count": null,
   "metadata": {},
   "outputs": [],
   "source": [
    "player1 = input(\"Player 1's move:\")\n",
    "player2 = input(\"Player 2's move:\")\n",
    "rps_scoring(player1,player2)"
   ]
  },
  {
   "cell_type": "markdown",
   "metadata": {},
   "source": [
    "### Tests"
   ]
  },
  {
   "cell_type": "code",
   "execution_count": 3,
   "metadata": {},
   "outputs": [
    {
     "data": {
      "text/plain": [
       "'Player 1 wins!'"
      ]
     },
     "execution_count": 3,
     "metadata": {},
     "output_type": "execute_result"
    }
   ],
   "source": [
    "rps_scoring(player1='scissors',player2='paper') # Player 1 should win"
   ]
  },
  {
   "cell_type": "code",
   "execution_count": 4,
   "metadata": {},
   "outputs": [
    {
     "data": {
      "text/plain": [
       "'Tie'"
      ]
     },
     "execution_count": 4,
     "metadata": {},
     "output_type": "execute_result"
    }
   ],
   "source": [
    "rps_scoring(player1='paper',player2='paper') # There should be a tie"
   ]
  },
  {
   "cell_type": "code",
   "execution_count": 5,
   "metadata": {},
   "outputs": [
    {
     "data": {
      "text/plain": [
       "'Player 1 did not enter valid input, Player 2 did not enter valid input'"
      ]
     },
     "execution_count": 5,
     "metadata": {},
     "output_type": "execute_result"
    }
   ],
   "source": [
    "rps_scoring(player1='lizard',player2='spock') # This shouldn't work"
   ]
  },
  {
   "cell_type": "code",
   "execution_count": 6,
   "metadata": {},
   "outputs": [
    {
     "data": {
      "text/plain": [
       "'Player 1 did not enter valid input, Player 2 did not enter valid input'"
      ]
     },
     "execution_count": 6,
     "metadata": {},
     "output_type": "execute_result"
    }
   ],
   "source": [
    "rps_scoring(player1='Rock',player2='PAPER') # Should this work? # no it shouldnt "
   ]
  },
  {
   "cell_type": "markdown",
   "metadata": {},
   "source": [
    "# Problem 2"
   ]
  },
  {
   "cell_type": "markdown",
   "metadata": {},
   "source": [
    "\n",
    "![caption](OFTFRFBF.JPG)\n"
   ]
  },
  {
   "cell_type": "markdown",
   "metadata": {},
   "source": [
    "(you'll need to download the file OFTFRFBF.jpg to see the image above)\n",
    "\n",
    "Dr. Seuss's \"[One Fish, Two Fish, Red Fish, Blue Fish](https://en.wikipedia.org/wiki/One_Fish_Two_Fish_Red_Fish_Blue_Fish)\" describes fish having various attributes."
   ]
  },
  {
   "cell_type": "raw",
   "metadata": {},
   "source": [
    "\"One fish, Two fish, Red fish, Blue fish,\n",
    "Black fish, Blue fish, Old fish, New fish.\n",
    "This one has a little car.\n",
    "This one has a little star.\n",
    "Say! What a lot of fish there are.\n",
    "Yes. Some are red, and some are blue.\n",
    "Some are old and some are new.\n",
    "Some are sad, and some are glad,\n",
    "And some are very, very bad.\n",
    "Why are they sad and glad and bad?\n",
    "I do not know, go ask your dad.\n",
    "Some are thin, and some are fat.\n",
    "The fat one has a yellow hat.\n",
    "From there to here,\n",
    "From here to there,\n",
    "Funny things are everywhere.\n",
    "Here are some who like to run.\n",
    "They run for fun in the hot, hot sun.\n",
    "Oh me! Oh my! Oh me! oh my!\n",
    "What a lot of funny things go by.\n",
    "Some have two feet and some have four.\n",
    "Some have six feet and some have more.\n",
    "Where do they come from? I can't say.\n",
    "But I bet they have come a long, long way.\n",
    "we see them come, we see them go.\n",
    "Some are fast. Some are slow.\n",
    "Some are high. Some are low.\n",
    "Not one of them is like another.\n",
    "Don't ask us why, go ask your mother.\""
   ]
  },
  {
   "cell_type": "markdown",
   "metadata": {},
   "source": [
    "Implement a `Fish` class that can accomodate all the possible Fish attributes described in the story with corresponding methods seen in the test cases below. \n",
    "\n",
    "You will need to define and code this `Fish` class yourself using the test cases below to guide you.  You can add more attributes and methods as you see fit, but at a minimum you need to handle all of the test cases below.  (But like before in Homework 2, doing the minimum doesn't guarantee you an A.) You can \"do more\" by adding properties and methods to the Fish class. If you do provide additional attributes and methods over and beyond those suggested by the test cases, provide your own test cases to show how your attributes and methods work.\n",
    "\n",
    "Here is some code to get you started:"
   ]
  },
  {
   "cell_type": "code",
   "execution_count": 7,
   "metadata": {},
   "outputs": [],
   "source": [
    "class Fish(object):\n",
    "    # define all the attributes necessary to tell Dr. Seuss's story.\n",
    "    # defined all attributes mentioned in the story \n",
    "    # added health attribute, for later use in fish fight game\n",
    "    def __init__(self,color,age,car,star,emotion,bad,size,likesrun,numfeet,speed,hieght):\n",
    "        self.color = color\n",
    "        self.hasCar = car\n",
    "        # add additional attributes here\n",
    "        self.age = age\n",
    "        self.star = star\n",
    "        self.emotion = emotion\n",
    "        self.bad = bad\n",
    "        self.size = size\n",
    "        self.likesrun = likesrun\n",
    "        self.numfeet = numfeet\n",
    "        self.speed = speed\n",
    "        self.hieght = hieght\n",
    "\n",
    "\n",
    "        \n",
    "# Getters: \n",
    "\n",
    "    def getColor(self):\n",
    "        return self.color\n",
    "    \n",
    "    def hasACar(self):\n",
    "        return self.hasCar\n",
    "\n",
    "    def getAge(self):\n",
    "        return self.age\n",
    "    def hasAStar(self):\n",
    "        return self.star\n",
    "    def getEmotion(self):\n",
    "        return self.emotion\n",
    "    def isBad(self):\n",
    "        return self.bad\n",
    "    def getSize(self):\n",
    "        return self.size\n",
    "    def isRunner(self):\n",
    "        return self.likesrun\n",
    "    def getFeet(self):\n",
    "        return self.numfeet\n",
    "    def getSpeed(self):\n",
    "        return self.speed\n",
    "    def getHieght(self):\n",
    "        return self.hieght\n",
    "    def getName(self):\n",
    "        return self.name\n",
    "    \n",
    "    # return the current health of the fish\n",
    "    def getHealth(self):\n",
    "        return self.health\n",
    "    \n",
    "    \n",
    "#Setters\n",
    "    def setName(self, fishName):\n",
    "        self.name = fishName\n",
    "    \n",
    "    \n",
    "    def setHealth(self, health):  # use to set health of fish\n",
    "        self.health = health\n",
    "    def loseHealth(self, percentageLost):  #use to take health away from fish \n",
    "        self.health = self.health - percentageLost\n",
    "    \n",
    "    \n",
    "    "
   ]
  },
  {
   "cell_type": "markdown",
   "metadata": {},
   "source": [
    "### Some Tests"
   ]
  },
  {
   "cell_type": "code",
   "execution_count": 8,
   "metadata": {},
   "outputs": [],
   "source": [
    "# Create at least 6 Fish objects: fish1, ... , fish6 with different attributes matching the story\n",
    "# hint: there aren't \"exact\" answers.  just use information from the story and be consistent.\n",
    "\n",
    "fish1 = Fish(\"Red\",\"New\",True,False,\"Sad\",True,\"Thin\",True,4,\"Fast\",\"high\")\n",
    "fish2 = Fish(\"Blue\",\"Old\",False,False,\"Glad\",False,\"Fat\",False,2,\"Slow\",\"high\")\n",
    "fish3 = Fish(\"Black\",\"New\",False,True,\"Glad\",True,\"Fat\",True,10,\"Fast\",\"low\")\n",
    "fish4 = Fish(\"Yellow\",\"Old\",True,True,\"Sad\",True,\"Thin\",True,6,\"Fast\",\"low\")\n",
    "fish5 = Fish(\"Purple\",\"Old\",False,False,\"Sad\",False,\"Thin\",False,2,\"slow\",\"low\")\n",
    "fish6 = Fish(\"Orange\",\"New\",True,False,\"Sad\",False,\"Fat\",True,4,\"fast\",\"low\")\n",
    "# Put all of your fish in an aquarium (make it a list) and call it allFishList\n",
    "allFishList = [fish1,fish2,fish3,fish4,fish5,fish6]"
   ]
  },
  {
   "cell_type": "code",
   "execution_count": 9,
   "metadata": {},
   "outputs": [
    {
     "data": {
      "text/plain": [
       "'Red'"
      ]
     },
     "execution_count": 9,
     "metadata": {},
     "output_type": "execute_result"
    }
   ],
   "source": [
    "# What color is the first fish?\n",
    "fish1.getColor()\n",
    "# its red!"
   ]
  },
  {
   "cell_type": "code",
   "execution_count": 10,
   "metadata": {},
   "outputs": [
    {
     "data": {
      "text/plain": [
       "False"
      ]
     },
     "execution_count": 10,
     "metadata": {},
     "output_type": "execute_result"
    }
   ],
   "source": [
    "# Does the second fish have a car?\n",
    "fish2.hasACar()\n",
    "# false, the second fish does not have a car "
   ]
  },
  {
   "cell_type": "code",
   "execution_count": 11,
   "metadata": {},
   "outputs": [
    {
     "data": {
      "text/plain": [
       "True"
      ]
     },
     "execution_count": 11,
     "metadata": {},
     "output_type": "execute_result"
    }
   ],
   "source": [
    "# Does the third fish have a star?\n",
    "fish3.hasAStar()\n",
    "#True - yes, fish3 does have a star "
   ]
  },
  {
   "cell_type": "code",
   "execution_count": 12,
   "metadata": {},
   "outputs": [
    {
     "data": {
      "text/plain": [
       "'Old'"
      ]
     },
     "execution_count": 12,
     "metadata": {},
     "output_type": "execute_result"
    }
   ],
   "source": [
    "# Is the fourth fish old?\n",
    "fish4.getAge()\n",
    "#Yes, the fourth fish is old "
   ]
  },
  {
   "cell_type": "code",
   "execution_count": 13,
   "metadata": {},
   "outputs": [
    {
     "data": {
      "text/plain": [
       "'Sad'"
      ]
     },
     "execution_count": 13,
     "metadata": {},
     "output_type": "execute_result"
    }
   ],
   "source": [
    "# Is the fifth fish sad?\n",
    "fish5.getEmotion()\n",
    "#yes, the fith fish is sad"
   ]
  },
  {
   "cell_type": "code",
   "execution_count": 14,
   "metadata": {},
   "outputs": [
    {
     "data": {
      "text/plain": [
       "False"
      ]
     },
     "execution_count": 14,
     "metadata": {},
     "output_type": "execute_result"
    }
   ],
   "source": [
    "# Is the sixth fish bad?\n",
    "fish6.isBad()\n",
    "#false - no, the sixth fish is not bad"
   ]
  },
  {
   "cell_type": "code",
   "execution_count": 15,
   "metadata": {},
   "outputs": [
    {
     "data": {
      "text/plain": [
       "28"
      ]
     },
     "execution_count": 15,
     "metadata": {},
     "output_type": "execute_result"
    }
   ],
   "source": [
    "# How many feet are there among all the fish? \n",
    "totalfeet = 0 \n",
    "for fish in allFishList:\n",
    "    totalfeet += fish.getFeet()\n",
    "totalfeet\n",
    "\n",
    "# There are 28 feet among all 6 fish "
   ]
  },
  {
   "cell_type": "code",
   "execution_count": 16,
   "metadata": {},
   "outputs": [],
   "source": [
    "#Fish Fight !!\n",
    "# Here I use the rps_scoring function to create a fun game for the fish\n",
    "# I also use the health atrribute that I defined in the fish class \n",
    "# Each fish starts with 100 health, each round they play a game of rps.\n",
    "# Each time a fish loses a round of rps, they lose 25% of their health \n",
    "# The game ends when one fish has 0% health remaining or when the game reaches 10 rounds\n",
    "\n",
    "\n",
    "\n",
    "def fishFight(fish1,fish2):\n",
    "    fish1.setHealth(100)  #set each health to 100 \n",
    "    fish2.setHealth(100)\n",
    "    game = True\n",
    "    for rounds in range(1,11):     #for loop for each round - max 10\n",
    "        if game == True:           # if statement that signals start of round, game=false when a fish has won\n",
    "            print(\"Round: \"+str(rounds)+\" Current Health Values -- Fish 1: \"+str(fish1.getHealth())+\"% Fish 2: \"+str(fish2.getHealth())+\"%\")\n",
    "            f1move = input(\"Fish 1's move: \") \n",
    "            f2move = input(\"Fish 2's move: \")\n",
    "            result = rps_scoring(f1move,f2move) # saves result of rps round in result var\n",
    "            if result==\"Player 1 wins!\":  # if fish 1 wins\n",
    "                fish2.loseHealth(25)\n",
    "                print(\"Fish 2 lost 25% of its health!\")\n",
    "                print(\"End of round\\n\")\n",
    "            elif result==\"Player 2 wins!\": # if fish 2 wins\n",
    "                fish1.loseHealth(25)\n",
    "                print(\"Fish 1 lost 25% of its health!\")\n",
    "                print(\"End of round\\n\")   \n",
    "            else:  #if one or more entrys was invalid OR if it was a tie\n",
    "                print(\"Nothing Happenned\\n\")\n",
    "            if fish1.getHealth() == 0:  # if fish1 has 0 health\n",
    "                print(\"Fish 1 has 0 Health left! Fish 2 wins!\")\n",
    "                game = False \n",
    "            if fish2.getHealth() == 0:  # if fish2 has 0 health\n",
    "                print(\"Fish 2 has 0 Health left! Fish 1 wins!\")\n",
    "                game = False \n",
    "            if rounds == 10:  #if game hits round 10 before a fish hits 0 health\n",
    "                print(\"End of Round 10. Game is Over. Call it a draw.\")\n",
    "                print(\"Ending health Values -- Fish 1: \"+str(fish1.getHealth())+\"% Fish 2: \"+str(fish2.getHealth())+\"%\")\n",
    "        \n",
    "        \n"
   ]
  },
  {
   "cell_type": "code",
   "execution_count": null,
   "metadata": {},
   "outputs": [
    {
     "name": "stdout",
     "output_type": "stream",
     "text": [
      "Round: 1 Current Health Values -- Fish 1: 100% Fish 2: 100%\n",
      "Fish 1's move: rock\n",
      "Fish 2's move: rock\n",
      "Nothing Happenned\n",
      "\n",
      "Round: 2 Current Health Values -- Fish 1: 100% Fish 2: 100%\n",
      "Fish 1's move: rock \n",
      "Fish 2's move: paper\n",
      "Nothing Happenned\n",
      "\n",
      "Round: 3 Current Health Values -- Fish 1: 100% Fish 2: 100%\n",
      "Fish 1's move: rock\n",
      "Fish 2's move: paper\n",
      "Fish 1 lost 25% of its health!\n",
      "End of round\n",
      "\n",
      "Round: 4 Current Health Values -- Fish 1: 75% Fish 2: 100%\n"
     ]
    }
   ],
   "source": [
    "blueFish = Fish(\"Red\",\"New\",True,False,\"Sad\",True,\"Thin\",True,4,\"Fast\",\"high\")\n",
    "redFish = Fish(\"Blue\",\"Old\",False,False,\"Glad\",False,\"Fat\",False,2,\"Slow\",\"high\")\n",
    "\n",
    "# make sure all cells with RPS, fish class, and fishFIght, are ran before testing this game -- it works!!\n",
    "\n",
    "fishFight(blueFish,redFish)"
   ]
  },
  {
   "cell_type": "code",
   "execution_count": null,
   "metadata": {},
   "outputs": [],
   "source": []
  }
 ],
 "metadata": {
  "kernelspec": {
   "display_name": "Python 3",
   "language": "python",
   "name": "python3"
  },
  "language_info": {
   "codemirror_mode": {
    "name": "ipython",
    "version": 3
   },
   "file_extension": ".py",
   "mimetype": "text/x-python",
   "name": "python",
   "nbconvert_exporter": "python",
   "pygments_lexer": "ipython3",
   "version": "3.7.4"
  }
 },
 "nbformat": 4,
 "nbformat_minor": 2
}
