{
 "cells": [
  {
   "cell_type": "markdown",
   "metadata": {},
   "source": [
    "# Lab Week 9 - Hike Soup"
   ]
  },
  {
   "cell_type": "code",
   "execution_count": 2,
   "metadata": {},
   "outputs": [],
   "source": [
    "import requests\n",
    "from bs4 import BeautifulSoup"
   ]
  },
  {
   "cell_type": "markdown",
   "metadata": {},
   "source": [
    "---"
   ]
  },
  {
   "cell_type": "markdown",
   "metadata": {},
   "source": [
    "## First: Let's inspect the HTML of a webpage:\n",
    "https://www.alltrails.com/us/colorado/boulder"
   ]
  },
  {
   "cell_type": "markdown",
   "metadata": {},
   "source": [
    "---"
   ]
  },
  {
   "cell_type": "markdown",
   "metadata": {},
   "source": [
    "## Next: Let's get that HTML and do stuff with it:"
   ]
  },
  {
   "cell_type": "code",
   "execution_count": 3,
   "metadata": {},
   "outputs": [],
   "source": [
    "#let's check out the hikes in Boulder!\n",
    "hikeHTML = requests.get(\"https://www.alltrails.com/us/colorado/boulder\").text"
   ]
  },
  {
   "cell_type": "code",
   "execution_count": 3,
   "metadata": {},
   "outputs": [
    {
     "data": {
      "text/plain": [
       "'<!DOCTYPE html>\\n<html xmlns=\"http://www.w3.org/1999/xhtml\" dir=\"ltr\" lang=\"en\" xmlns:fb=\"http://www.facebook.com/2008/fbml\" class=\"location city\">\\n<head prefix=\"og: http://ogp.me/ns# fb: http://ogp.me/ns/fb# alltrails: http://ogp.me/ns/fb/alltrails#\">\\n    <script src=\"https://d2wy8f7a9ursnm.cloudfront.net/v7/bugsnag.min.js\"></script>\\n  <script>\\n    Bugsnag.start(\\'7ee34601ee591f69f6540476945373cf\\')\\n  </script>\\n<!--    <script src=\"//cdn.optimizely.com/js/323564836.js\"></script>-->\\n<!--<script src=\"//cdn.optimizely.com/js/328899100.js\"></script>-->\\n\\n<title class=\"\">  Best Trails near Boulder, Colorado\\n | AllTrails</title>\\n\\n  <link rel=\"alternate\" hreflang=\"en\" href=\"https://www.alltrails.com/us/colorado/boulder\">\\n  <link rel=\"alternate\" hreflang=\"fr\" href=\"https://www.alltrails.com/fr/us/colorado/boulder\">\\n  <link rel=\"alternate\" hreflang=\"de\" href=\"https://www.alltrails.com/de/us/colorado/boulder\">\\n  <link rel=\"alternate\" hreflang=\"es\" href=\"https://www.alltrails.com/es/us/colorado/boul'"
      ]
     },
     "execution_count": 3,
     "metadata": {},
     "output_type": "execute_result"
    }
   ],
   "source": [
    "#what does the text from this request object look like?\n",
    "hikeHTML[:1000]"
   ]
  },
  {
   "cell_type": "code",
   "execution_count": 4,
   "metadata": {},
   "outputs": [],
   "source": [
    "#turn it into a Beautiful Soup object\n",
    "hikeSoup = BeautifulSoup(hikeHTML, \"html.parser\")"
   ]
  },
  {
   "cell_type": "code",
   "execution_count": 7,
   "metadata": {},
   "outputs": [
    {
     "data": {
      "text/plain": [
       "bs4.BeautifulSoup"
      ]
     },
     "execution_count": 7,
     "metadata": {},
     "output_type": "execute_result"
    }
   ],
   "source": [
    "type(hikeSoup)\n"
   ]
  },
  {
   "cell_type": "markdown",
   "metadata": {},
   "source": [
    "---"
   ]
  },
  {
   "cell_type": "markdown",
   "metadata": {},
   "source": [
    "## Task: Print Out The Reviews from each hike:"
   ]
  },
  {
   "cell_type": "markdown",
   "metadata": {},
   "source": [
    "### 1: Which tag is the \"parent\" tag for all of the reviews?"
   ]
  },
  {
   "cell_type": "code",
   "execution_count": 10,
   "metadata": {},
   "outputs": [],
   "source": [
    "reviewParent = hikeSoup.find(\"div\",id=\"reviews\")"
   ]
  },
  {
   "cell_type": "code",
   "execution_count": 11,
   "metadata": {},
   "outputs": [
    {
     "name": "stdout",
     "output_type": "stream",
     "text": [
      "<div class=\"\" id=\"reviews\"><div class=\"feed-item\" itemprop=\"review\" itemscope=\"\" itemtype=\"http://schema.org/Review\"><div class=\"feed-user-avatar pull-left\"><span class=\"pro-badge-small\"></span><a href=\"/members/john-jasa\"><img class=\"lazyload\" data-src=\"/api/alltrails/profile_photos/13379905/image?size=icon&amp;api_key=3p0t5s6b5g4g0e8k3c1j3w7y5c3m4t8i\"/><span class=\"blue act-container\"><span class=\"act\"></span></span></a></div><div class=\"feed-user-content rounded\"><span class=\"cc-arrow\"></span><div class=\"title no-bar\"><div class=\"width-for-stars-holder\"><h4><span class=\"no-italics xlate-none\"><a class=\"link\" href=\"/members/john-jasa\"><span class=\"xlate-none\" itemprop=\"author\">John Jasa</span></a><span class=\"italics\"> <!-- -->on<!-- --> </span><a class=\"link\" href=\"/trail/us/colorado/shanahan-ridge-trail\">Shanahan Ridge Trail</a></span> </h4><span itemprop=\"reviewRating\" itemscope=\"\" itemtype=\"http://schema.org/Rating\"><meta content=\"5\" itemprop=\"ratingValue\"/><meta content=\"0\" itemprop=\"worstRating\"/><meta content=\"5\" itemprop=\"bestRating\"/><span class=\"rating lazyload star_5 pull-right xlate-none\" data-bg=\"https://cdn-assets.alltrails.com/assets/icons/stars/star5.png\" title=\"5\"></span></span></div><div><span class=\"review-tags\"><div class=\"tag clearfix\" title=\"hiking\"><span class=\"small active rounded\">hiking</span></div><div class=\"tag clearfix\" title=\"icy\"><span class=\"small active rounded\">icy</span></div></span><span class=\"subtext pull-right\"><meta content=\"2020-03-06\" itemprop=\"datePublished\"/>2 days ago</span></div></div><div class=\"details\"><p class=\"xlate-google\" itemprop=\"reviewBody\"></p></div></div></div><div class=\"feed-item\" itemprop=\"review\" itemscope=\"\" itemtype=\"http://schema.org/Review\"><div class=\"feed-user-avatar pull-left\"><a href=\"/members/katie-loomis\"><img class=\"lazyload\" data-src=\"/api/alltrails/profile_photos/19352660/image?size=icon&amp;api_key=3p0t5s6b5g4g0e8k3c1j3w7y5c3m4t8i\"/><span class=\"blue act-container\"><span class=\"act\"></span></span></a></div><div class=\"feed-user-content rounded\"><span class=\"cc-arrow\"></span><div class=\"title\"><div class=\"width-for-stars-holder\"><h4><span class=\"no-italics xlate-none\"><a class=\"link\" href=\"/members/katie-loomis\"><span class=\"xlate-none\" itemprop=\"author\">Katie Loomis</span></a><span class=\"italics\"> <!-- -->on<!-- --> </span><a class=\"link\" href=\"/trail/us/colorado/shanahan-ridge-trail\">Shanahan Ridge Trail</a></span> </h4><span itemprop=\"reviewRating\" itemscope=\"\" itemtype=\"http://schema.org/Rating\"><meta content=\"5\" itemprop=\"ratingValue\"/><meta content=\"0\" itemprop=\"worstRating\"/><meta content=\"5\" itemprop=\"bestRating\"/><span class=\"rating lazyload star_5 pull-right xlate-none\" data-bg=\"https://cdn-assets.alltrails.com/assets/icons/stars/star5.png\" title=\"5\"></span></span></div><div><span class=\"review-tags\"><div class=\"tag clearfix\" title=\"hiking\"><span class=\"small active rounded\">hiking</span></div><div class=\"tag clearfix\" title=\"icy\"><span class=\"small active rounded\">icy</span></div><div class=\"tag clearfix\" title=\"muddy\"><span class=\"small active rounded\">muddy</span></div></span><span class=\"subtext pull-right\"><meta content=\"2020-03-06\" itemprop=\"datePublished\"/>2 days ago</span></div></div><div class=\"details\"><p class=\"xlate-google\" itemprop=\"reviewBody\">Beautiful scenery along this trail and a perfect moderate ascent for a quick workout. Sections of ice and mud and would recommend traction. There were a few really nice dry sections, as well. We will be back.</p></div></div></div><div class=\"feed-item\" itemprop=\"review\" itemscope=\"\" itemtype=\"http://schema.org/Review\"><div class=\"feed-user-avatar pull-left\"><a href=\"/members/drew-baltz-1\"><img class=\"lazyload\" data-src=\"/api/alltrails/profile_photos/25471063/image?size=icon&amp;api_key=3p0t5s6b5g4g0e8k3c1j3w7y5c3m4t8i\"/><span class=\"blue act-container\"><span class=\"act\"></span></span></a></div><div class=\"feed-user-content rounded\"><span class=\"cc-arrow\"></span><div class=\"title\"><div class=\"width-for-stars-holder\"><h4><span class=\"no-italics xlate-none\"><a class=\"link\" href=\"/members/drew-baltz-1\"><span class=\"xlate-none\" itemprop=\"author\">Drew  Baltz</span></a><span class=\"italics\"> <!-- -->on<!-- --> </span><a class=\"link\" href=\"/trail/us/colorado/bear-peak-via-shanahan-ridge\">Bear Peak via Shanahan Ridge</a></span> </h4><span itemprop=\"reviewRating\" itemscope=\"\" itemtype=\"http://schema.org/Rating\"><meta content=\"5\" itemprop=\"ratingValue\"/><meta content=\"0\" itemprop=\"worstRating\"/><meta content=\"5\" itemprop=\"bestRating\"/><span class=\"rating lazyload star_5 pull-right xlate-none\" data-bg=\"https://cdn-assets.alltrails.com/assets/icons/stars/star5.png\" title=\"5\"></span></span></div><div><span class=\"review-tags\"><div class=\"tag clearfix\" title=\"hiking\"><span class=\"small active rounded\">hiking</span></div></span><span class=\"subtext pull-right\"><meta content=\"2020-03-06\" itemprop=\"datePublished\"/>2 days ago</span></div></div><div class=\"details\"><p class=\"xlate-google\" itemprop=\"reviewBody\">This was me going downhill from Bear peak.</p></div></div></div><div class=\"feed-item\" itemprop=\"review\" itemscope=\"\" itemtype=\"http://schema.org/Review\"><div class=\"feed-user-avatar pull-left\"><span class=\"pro-badge-small\"></span><a href=\"/members/josh-slakman\"><img class=\"lazyload\" data-src=\"/api/alltrails/profile_photos/15619223/image?size=icon&amp;api_key=3p0t5s6b5g4g0e8k3c1j3w7y5c3m4t8i\"/><span class=\"blue act-container\"><span class=\"act\"></span></span></a></div><div class=\"feed-user-content rounded\"><span class=\"cc-arrow\"></span><div class=\"title\"><div class=\"width-for-stars-holder\"><h4><span class=\"no-italics xlate-none\"><a class=\"link\" href=\"/members/josh-slakman\"><span class=\"xlate-none\" itemprop=\"author\">Josh Slakman</span></a><span class=\"italics\"> <!-- -->on<!-- --> </span><a class=\"link\" href=\"/trail/us/colorado/bear-peak-trail\">Bear Peak Trail</a></span> </h4><span itemprop=\"reviewRating\" itemscope=\"\" itemtype=\"http://schema.org/Rating\"><meta content=\"5\" itemprop=\"ratingValue\"/><meta content=\"0\" itemprop=\"worstRating\"/><meta content=\"5\" itemprop=\"bestRating\"/><span class=\"rating lazyload star_5 pull-right xlate-none\" data-bg=\"https://cdn-assets.alltrails.com/assets/icons/stars/star5.png\" title=\"5\"></span></span></div><div><span class=\"review-tags\"><div class=\"tag clearfix\" title=\"hiking\"><span class=\"small active rounded\">hiking</span></div><div class=\"tag clearfix\" title=\"icy\"><span class=\"small active rounded\">icy</span></div><div class=\"tag clearfix\" title=\"muddy\"><span class=\"small active rounded\">muddy</span></div><div class=\"tag clearfix\" title=\"rocky\"><span class=\"small active rounded\">rocky</span></div><div class=\"tag clearfix\" title=\"snow\"><span class=\"small active rounded\">snow</span></div></span><span class=\"subtext pull-right\"><meta content=\"2020-03-06\" itemprop=\"datePublished\"/>3 days ago</span></div></div><div class=\"details\"><p class=\"xlate-google\" itemprop=\"reviewBody\">Loved the hike today. The last mile and a half up is no joke. It's pretty steep with a lot of packed down ice and then deeper snow about .3 miles from the summit. Not sure if I could have made it without spikes. Beautiful 360 views at the top and well worth the trek up.</p></div></div></div><div class=\"feed-item\" itemprop=\"review\" itemscope=\"\" itemtype=\"http://schema.org/Review\"><div class=\"feed-user-avatar pull-left\"><a href=\"/members/griffin-sheline\"><img class=\"lazyload\" data-src=\"/api/alltrails/profile_photos/21940953/image?size=icon&amp;api_key=3p0t5s6b5g4g0e8k3c1j3w7y5c3m4t8i\"/><span class=\"blue act-container\"><span class=\"act\"></span></span></a></div><div class=\"feed-user-content rounded\"><span class=\"cc-arrow\"></span><div class=\"title no-bar\"><div class=\"width-for-stars-holder\"><h4><span class=\"no-italics xlate-none\"><a class=\"link\" href=\"/members/griffin-sheline\"><span class=\"xlate-none\" itemprop=\"author\">Griffin Sheline</span></a><span class=\"italics\"> <!-- -->on<!-- --> </span><a class=\"link\" href=\"/trail/us/colorado/royal-arch-trail\">Royal Arch Trail</a></span> </h4><span itemprop=\"reviewRating\" itemscope=\"\" itemtype=\"http://schema.org/Rating\"><meta content=\"5\" itemprop=\"ratingValue\"/><meta content=\"0\" itemprop=\"worstRating\"/><meta content=\"5\" itemprop=\"bestRating\"/><span class=\"rating lazyload star_5 pull-right xlate-none\" data-bg=\"https://cdn-assets.alltrails.com/assets/icons/stars/star5.png\" title=\"5\"></span></span></div><div><span class=\"review-tags\"><div class=\"tag clearfix\" title=\"hiking\"><span class=\"small active rounded\">hiking</span></div><div class=\"tag clearfix\" title=\"icy\"><span class=\"small active rounded\">icy</span></div><div class=\"tag clearfix\" title=\"rocky\"><span class=\"small active rounded\">rocky</span></div></span><span class=\"subtext pull-right\"><meta content=\"2020-03-05\" itemprop=\"datePublished\"/>3 days ago</span></div></div><div class=\"details\"><p class=\"xlate-google\" itemprop=\"reviewBody\"></p></div></div></div><div class=\"feed-item\" itemprop=\"review\" itemscope=\"\" itemtype=\"http://schema.org/Review\"><div class=\"feed-user-avatar pull-left\"><a href=\"/members/whitney-thompson-8\"><img class=\"lazyload\" data-src=\"/api/alltrails/profile_photos/17769121/image?size=icon&amp;api_key=3p0t5s6b5g4g0e8k3c1j3w7y5c3m4t8i\"/><span class=\"blue act-container\"><span class=\"act\"></span></span></a></div><div class=\"feed-user-content rounded\"><span class=\"cc-arrow\"></span><div class=\"title\"><div class=\"width-for-stars-holder\"><h4><span class=\"no-italics xlate-none\"><a class=\"link\" href=\"/members/whitney-thompson-8\"><span class=\"xlate-none\" itemprop=\"author\">Whitney Thompson</span></a><span class=\"italics\"> <!-- -->on<!-- --> </span><a class=\"link\" href=\"/trail/us/colorado/national-center-for-atmospheric-research-ncar-ramble-trail\">National Center for Atmospheric Research (NCAR) Ramble Trail</a></span> </h4><span itemprop=\"reviewRating\" itemscope=\"\" itemtype=\"http://schema.org/Rating\"><meta content=\"3\" itemprop=\"ratingValue\"/><meta content=\"0\" itemprop=\"worstRating\"/><meta content=\"5\" itemprop=\"bestRating\"/><span class=\"rating lazyload star_3 pull-right xlate-none\" data-bg=\"https://cdn-assets.alltrails.com/assets/icons/stars/star3.png\" title=\"3\"></span></span></div><div><span class=\"review-tags\"><div class=\"tag clearfix\" title=\"hiking\"><span class=\"small active rounded\">hiking</span></div><div class=\"tag clearfix\" title=\"icy\"><span class=\"small active rounded\">icy</span></div><div class=\"tag clearfix\" title=\"muddy\"><span class=\"small active rounded\">muddy</span></div><div class=\"tag clearfix\" title=\"rocky\"><span class=\"small active rounded\">rocky</span></div><div class=\"tag clearfix\" title=\"snow\"><span class=\"small active rounded\">snow</span></div></span><span class=\"subtext pull-right\"><meta content=\"2020-03-05\" itemprop=\"datePublished\"/>3 days ago</span></div></div><div class=\"details\"><p class=\"xlate-google\" itemprop=\"reviewBody\">Gorgeous trail. It was very muddy at times but dry in other places. The trail is poorly marked so if you don’t pay attention to your map, it’s very easy to veer off to other trails. The last mile of this trail is uphill and very difficult. It’s also extremely icy and hard to grip on the more vertical parts. I would suggest yak tracks for sure. All in all, the trail have a stunning view of table mountain and had very few hikers on it.</p></div></div></div><div class=\"feed-item\" itemprop=\"review\" itemscope=\"\" itemtype=\"http://schema.org/Review\"><div class=\"feed-user-avatar pull-left\"><a href=\"/members/gianna-bandemer\"><img class=\"lazyload\" data-src=\"/api/alltrails/profile_photos/24734302/image?size=icon&amp;api_key=3p0t5s6b5g4g0e8k3c1j3w7y5c3m4t8i\"/><span class=\"blue act-container\"><span class=\"act\"></span></span></a></div><div class=\"feed-user-content rounded\"><span class=\"cc-arrow\"></span><div class=\"title\"><div class=\"width-for-stars-holder\"><h4><span class=\"no-italics xlate-none\"><a class=\"link\" href=\"/members/gianna-bandemer\"><span class=\"xlate-none\" itemprop=\"author\">Gianna Bandemer</span></a><span class=\"italics\"> <!-- -->on<!-- --> </span><a class=\"link\" href=\"/trail/us/colorado/bear-peak-trail\">Bear Peak Trail</a></span> </h4><span itemprop=\"reviewRating\" itemscope=\"\" itemtype=\"http://schema.org/Rating\"><meta content=\"5\" itemprop=\"ratingValue\"/><meta content=\"0\" itemprop=\"worstRating\"/><meta content=\"5\" itemprop=\"bestRating\"/><span class=\"rating lazyload star_5 pull-right xlate-none\" data-bg=\"https://cdn-assets.alltrails.com/assets/icons/stars/star5.png\" title=\"5\"></span></span></div><div><span class=\"review-tags\"><div class=\"tag clearfix\" title=\"hiking\"><span class=\"small active rounded\">hiking</span></div><div class=\"tag clearfix\" title=\"icy\"><span class=\"small active rounded\">icy</span></div><div class=\"tag clearfix\" title=\"muddy\"><span class=\"small active rounded\">muddy</span></div><div class=\"tag clearfix\" title=\"rocky\"><span class=\"small active rounded\">rocky</span></div><div class=\"tag clearfix\" title=\"snow\"><span class=\"small active rounded\">snow</span></div></span><span class=\"subtext pull-right\"><meta content=\"2020-03-05\" itemprop=\"datePublished\"/>3 days ago</span></div></div><div class=\"details\"><p class=\"xlate-google\" itemprop=\"reviewBody\">This trail was amazing!! We didn’t make it to the peak because we were short on time and it’s icy at the top. We were worried about climbing down with all the ice. We’re vacationing from Iowa and this was our favorite part of our trip.</p></div></div></div><div class=\"feed-item\" itemprop=\"review\" itemscope=\"\" itemtype=\"http://schema.org/Review\"><div class=\"feed-user-avatar pull-left\"><a href=\"/members/emily-hutten\"><img class=\"lazyload\" data-src=\"https://cdn-assets.alltrails.com/uploads/photo/image/25599498/icon_ba362d8d8c8b44f724430e9b6ce0078a.jpg\"/><span class=\"blue act-container\"><span class=\"act\"></span></span></a></div><div class=\"feed-user-content rounded\"><span class=\"cc-arrow\"></span><div class=\"title\"><div class=\"width-for-stars-holder\"><h4><span class=\"no-italics xlate-none\"><a class=\"link\" href=\"/members/emily-hutten\"><span class=\"xlate-none\" itemprop=\"author\">Emily Thompson</span></a><span class=\"italics\"> <!-- -->on<!-- --> </span><a class=\"link\" href=\"/trail/us/colorado/shanahan-big-bluestem-and-mesa-trail-loop\">Shanahan, Big Bluestem and Mesa Trail Loop</a></span> </h4><span itemprop=\"reviewRating\" itemscope=\"\" itemtype=\"http://schema.org/Rating\"><meta content=\"4\" itemprop=\"ratingValue\"/><meta content=\"0\" itemprop=\"worstRating\"/><meta content=\"5\" itemprop=\"bestRating\"/><span class=\"rating lazyload star_4 pull-right xlate-none\" data-bg=\"https://cdn-assets.alltrails.com/assets/icons/stars/star4.png\" title=\"4\"></span></span></div><div><span class=\"review-tags\"><div class=\"tag clearfix\" title=\"hiking\"><span class=\"small active rounded\">hiking</span></div><div class=\"tag clearfix\" title=\"icy\"><span class=\"small active rounded\">icy</span></div><div class=\"tag clearfix\" title=\"muddy\"><span class=\"small active rounded\">muddy</span></div><div class=\"tag clearfix\" title=\"snow\"><span class=\"small active rounded\">snow</span></div></span><span class=\"subtext pull-right\"><meta content=\"2020-03-05\" itemprop=\"datePublished\"/>4 days ago</span></div></div><div class=\"details\"><p class=\"xlate-google\" itemprop=\"reviewBody\">03/05/2020 lots of ice, would recommend spikes but manageable with proper footwear and caution. I had to detour due to icy conditions, will come back when more melt happens.</p></div></div></div><div class=\"feed-item\" itemprop=\"review\" itemscope=\"\" itemtype=\"http://schema.org/Review\"><div class=\"feed-user-avatar pull-left\"><span><img class=\"lazyload\" data-src=\"/api/alltrails/profile_photos/15742624/image?size=icon&amp;api_key=3p0t5s6b5g4g0e8k3c1j3w7y5c3m4t8i\"/><span class=\"blue act-container\"><span class=\"act\"></span></span></span></div><div class=\"feed-user-content rounded\"><span class=\"cc-arrow\"></span><div class=\"title\"><div class=\"width-for-stars-holder\"><h4><span class=\"xlate-none\"><span class=\"private-user no-italics xlate-none\" itemprop=\"author\">Cindy F.</span><span class=\"italics\"> <!-- -->on<!-- --> </span><a class=\"link\" href=\"/trail/us/colorado/royal-arch-trail\">Royal Arch Trail</a></span> </h4><span itemprop=\"reviewRating\" itemscope=\"\" itemtype=\"http://schema.org/Rating\"><meta content=\"5\" itemprop=\"ratingValue\"/><meta content=\"0\" itemprop=\"worstRating\"/><meta content=\"5\" itemprop=\"bestRating\"/><span class=\"rating lazyload star_5 pull-right xlate-none\" data-bg=\"https://cdn-assets.alltrails.com/assets/icons/stars/star5.png\" title=\"5\"></span></span></div><div><span class=\"review-tags\"><div class=\"tag clearfix\" title=\"hiking\"><span class=\"small active rounded\">hiking</span></div><div class=\"tag clearfix\" title=\"icy\"><span class=\"small active rounded\">icy</span></div><div class=\"tag clearfix\" title=\"muddy\"><span class=\"small active rounded\">muddy</span></div><div class=\"tag clearfix\" title=\"rocky\"><span class=\"small active rounded\">rocky</span></div><div class=\"tag clearfix\" title=\"snow\"><span class=\"small active rounded\">snow</span></div></span><span class=\"subtext pull-right\"><meta content=\"2020-03-05\" itemprop=\"datePublished\"/>4 days ago</span></div></div><div class=\"details\"><p class=\"xlate-google\" itemprop=\"reviewBody\">Well worth the effort but highly suggest poles and definitely spikes! Some muddy spots lower down and rocky scrambles near the arch. Several folks in sneakers had a tough time especially on the way back down. Slippery in spots even with spikes. But WOW!</p></div></div></div><div class=\"feed-item\" itemprop=\"review\" itemscope=\"\" itemtype=\"http://schema.org/Review\"><div class=\"feed-user-avatar pull-left\"><a href=\"/members/morgan-yarosh\"><img class=\"lazyload\" data-src=\"https://cdn-assets.alltrails.com/uploads/photo/image/25606165/icon_5d98b144dc157de9ce74f5311452c06d.jpg\"/><span class=\"blue act-container\"><span class=\"act\"></span></span></a></div><div class=\"feed-user-content rounded\"><span class=\"cc-arrow\"></span><div class=\"title\"><div class=\"width-for-stars-holder\"><h4><span class=\"no-italics xlate-none\"><a class=\"link\" href=\"/members/morgan-yarosh\"><span class=\"xlate-none\" itemprop=\"author\">Morgan Yarosh</span></a><span class=\"italics\"> <!-- -->on<!-- --> </span><a class=\"link\" href=\"/trail/us/colorado/mallory-cave\">Mallory Cave</a></span> </h4><span itemprop=\"reviewRating\" itemscope=\"\" itemtype=\"http://schema.org/Rating\"><meta content=\"4\" itemprop=\"ratingValue\"/><meta content=\"0\" itemprop=\"worstRating\"/><meta content=\"5\" itemprop=\"bestRating\"/><span class=\"rating lazyload star_4 pull-right xlate-none\" data-bg=\"https://cdn-assets.alltrails.com/assets/icons/stars/star4.png\" title=\"4\"></span></span></div><div><span class=\"review-tags\"><div class=\"tag clearfix\" title=\"hiking\"><span class=\"small active rounded\">hiking</span></div><div class=\"tag clearfix\" title=\"muddy\"><span class=\"small active rounded\">muddy</span></div><div class=\"tag clearfix\" title=\"scramble\"><span class=\"small active rounded\">scramble</span></div><div class=\"tag clearfix\" title=\"snow\"><span class=\"small active rounded\">snow</span></div></span><span class=\"subtext pull-right\"><meta content=\"2020-03-05\" itemprop=\"datePublished\"/>4 days ago</span></div></div><div class=\"details\"><p class=\"xlate-google\" itemprop=\"reviewBody\">INCREDIBLE views!! Trail was muddy and icy in some area but nothing a good pair of shoes can’t handle.  The scramble at the end was a little difficult with the ice and snow but can be done carefully and the view is so so worth it.  </p></div></div></div><div class=\"feed-item\" itemprop=\"review\" itemscope=\"\" itemtype=\"http://schema.org/Review\"><div class=\"feed-user-avatar pull-left\"><a href=\"/members/rachel-osoba\"><img class=\"lazyload\" data-src=\"/api/alltrails/profile_photos/23738704/image?size=icon&amp;api_key=3p0t5s6b5g4g0e8k3c1j3w7y5c3m4t8i\"/><span class=\"blue act-container\"><span class=\"act\"></span></span></a></div><div class=\"feed-user-content rounded\"><span class=\"cc-arrow\"></span><div class=\"title no-bar\"><div class=\"width-for-stars-holder\"><h4><span class=\"no-italics xlate-none\"><a class=\"link\" href=\"/members/rachel-osoba\"><span class=\"xlate-none\" itemprop=\"author\">Rachel Osoba</span></a><span class=\"italics\"> <!-- -->on<!-- --> </span><a class=\"link\" href=\"/trail/us/colorado/chautauqua-trail\">Chautauqua Trail</a></span> </h4><span itemprop=\"reviewRating\" itemscope=\"\" itemtype=\"http://schema.org/Rating\"><meta content=\"4\" itemprop=\"ratingValue\"/><meta content=\"0\" itemprop=\"worstRating\"/><meta content=\"5\" itemprop=\"bestRating\"/><span class=\"rating lazyload star_4 pull-right xlate-none\" data-bg=\"https://cdn-assets.alltrails.com/assets/icons/stars/star4.png\" title=\"4\"></span></span></div><div><span class=\"review-tags\"><div class=\"tag clearfix\" title=\"hiking\"><span class=\"small active rounded\">hiking</span></div><div class=\"tag clearfix\" title=\"muddy\"><span class=\"small active rounded\">muddy</span></div><div class=\"tag clearfix\" title=\"snow\"><span class=\"small active rounded\">snow</span></div></span><span class=\"subtext pull-right\"><meta content=\"2020-03-04\" itemprop=\"datePublished\"/>4 days ago</span></div></div><div class=\"details\"><p class=\"xlate-google\" itemprop=\"reviewBody\"></p></div></div></div><div class=\"feed-item load-more\" id=\"load_more\"><div class=\"feed-user-avatar rounded pull-left\"></div><div class=\"feed-user-content rounded\"><h3>Load More</h3></div></div></div>\n"
     ]
    }
   ],
   "source": [
    "print(reviewParent)"
   ]
  },
  {
   "cell_type": "code",
   "execution_count": 14,
   "metadata": {},
   "outputs": [],
   "source": [
    "#now lets find where the reviews actually are\n",
    "#you can use different parameters in the .find and .find_all functions\n",
    "#that let you specify for specific tags you're lookin for\n",
    "review1 = reviewParent.find_all(\"div\", {\"itemprop\":\"review\"})[0]"
   ]
  },
  {
   "cell_type": "markdown",
   "metadata": {},
   "source": [
    "### 2: How do we get the trail name?"
   ]
  },
  {
   "cell_type": "code",
   "execution_count": 24,
   "metadata": {},
   "outputs": [],
   "source": []
  },
  {
   "cell_type": "markdown",
   "metadata": {},
   "source": [
    "### 3: How do we get review information?\n",
    "Let's start by trying to find how many stars this hike got"
   ]
  },
  {
   "cell_type": "code",
   "execution_count": null,
   "metadata": {},
   "outputs": [],
   "source": [
    "#find and print the number of stars the first hike review recieved\n",
    "\n",
    "#looks like the number of stars can be taken from this <span> tag inside the review with the class \"rating\"\n",
    "\n"
   ]
  },
  {
   "cell_type": "markdown",
   "metadata": {},
   "source": [
    "### 4: Now let's loop through and print out all of the reviews on this page\n",
    "- hike name\n",
    "- review stars\n",
    "- anything else fun we could print?"
   ]
  },
  {
   "cell_type": "code",
   "execution_count": 6,
   "metadata": {},
   "outputs": [],
   "source": [
    "# Now let's get all of the trail names, all the ratings, and print it in a nice way!\n",
    "from IPython.display import Image\n",
    "# code here"
   ]
  },
  {
   "cell_type": "markdown",
   "metadata": {},
   "source": [
    "---"
   ]
  },
  {
   "cell_type": "markdown",
   "metadata": {},
   "source": [
    "# Bonus!\n",
    "If you want to practice your classes, you can try creating a hike class to store this information for every hike. Try it at home!"
   ]
  },
  {
   "cell_type": "markdown",
   "metadata": {},
   "source": [
    "### Turn it into a hike class"
   ]
  },
  {
   "cell_type": "code",
   "execution_count": 7,
   "metadata": {},
   "outputs": [],
   "source": [
    "class Hike():\n",
    "    def __init__(self, name, stars):\n",
    "        #what are other attributes we could add?\n",
    "        #review text\n",
    "        #reviewers\n",
    "        #distance\n",
    "        #etc....\n",
    "        self.name = name\n",
    "        self.stars = stars\n",
    "        \n",
    "    def printInformation(self):\n",
    "        print(\"Hike Name: {0}\\nHike Rating: {1}/5 stars\".format(self.name, self.stars))\n",
    "        \n",
    "    #what are some other functions we could do?\n",
    "    # maybe update stars?\n",
    "    # maybe checkIfGoodHike?\n",
    "    # maybe checkConditions?"
   ]
  },
  {
   "cell_type": "code",
   "execution_count": 8,
   "metadata": {},
   "outputs": [],
   "source": [
    "# modify your code from Part 4 to create a Hike object from every review!\n",
    "# code here"
   ]
  },
  {
   "cell_type": "code",
   "execution_count": 41,
   "metadata": {},
   "outputs": [
    {
     "name": "stdout",
     "output_type": "stream",
     "text": [
      "Hike Name: Royal Arch Trail\n",
      "Hike Rating: 5/5 stars\n",
      "\n",
      "Hike Name: Chautauqua Trail\n",
      "Hike Rating: 4/5 stars\n",
      "\n",
      "Hike Name: Shanahan Ridge Trail\n",
      "Hike Rating: 5/5 stars\n",
      "\n",
      "Hike Name: National Center for Atmospheric Research (NCAR) Ramble Trail\n",
      "Hike Rating: 3/5 stars\n",
      "\n",
      "Hike Name: Bear Peak Trail\n",
      "Hike Rating: 5/5 stars\n",
      "\n",
      "Hike Name: Shanahan, Big Bluestem and Mesa Trail Loop\n",
      "Hike Rating: 4/5 stars\n",
      "\n",
      "Hike Name: Royal Arch Trail\n",
      "Hike Rating: 5/5 stars\n",
      "\n",
      "Hike Name: Shanahan Ridge Trail\n",
      "Hike Rating: 5/5 stars\n",
      "\n",
      "Hike Name: Mallory Cave\n",
      "Hike Rating: 4/5 stars\n",
      "\n",
      "Hike Name: Bear Peak via Shanahan Ridge\n",
      "Hike Rating: 5/5 stars\n",
      "\n",
      "Hike Name: Chautauqua Trail\n",
      "Hike Rating: 4/5 stars\n",
      "\n",
      "Hike Name: Bear Peak Trail\n",
      "Hike Rating: 5/5 stars\n",
      "\n"
     ]
    }
   ],
   "source": [
    "for hike in set(hikes):\n",
    "    hike.printInformation()\n",
    "    print()"
   ]
  },
  {
   "cell_type": "code",
   "execution_count": null,
   "metadata": {},
   "outputs": [],
   "source": []
  }
 ],
 "metadata": {
  "kernelspec": {
   "display_name": "Python 3",
   "language": "python",
   "name": "python3"
  },
  "language_info": {
   "codemirror_mode": {
    "name": "ipython",
    "version": 3
   },
   "file_extension": ".py",
   "mimetype": "text/x-python",
   "name": "python",
   "nbconvert_exporter": "python",
   "pygments_lexer": "ipython3",
   "version": "3.7.4"
  }
 },
 "nbformat": 4,
 "nbformat_minor": 2
}
