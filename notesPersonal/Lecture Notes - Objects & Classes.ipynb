{
 "cells": [
  {
   "cell_type": "code",
   "execution_count": 6,
   "metadata": {},
   "outputs": [
    {
     "name": "stdout",
     "output_type": "stream",
     "text": [
      "This fruit is a apple and it tastes sour\n"
     ]
    }
   ],
   "source": [
    "# classes \n",
    "# almost everything in python is defined as a class the type function lets us see what kind of class that object is\n",
    "#Class is a blueprint for a thing and an object is an instance of that thing\n",
    "#Class defines what a thing from that class can do, what it looks like, what its properties are. \n",
    "\n",
    "#all things built from the same class will have the same properties available to them as well as methods.\n",
    "# an object is an instantion of class\n",
    "# Values of properties differ across objects\n",
    "\n",
    "# methods are functions that canned be called on particular objects\n",
    "# for example .upper for strings or .append for lists\n",
    "# methods run on the objects that call them\n",
    "\n",
    "#create first class\n",
    "class Fruit:\n",
    "    def __init__(self,definedName,definedTaste):\n",
    "        # this is a function of the fruit class - a method of the fruit class\n",
    "        # the init method is a function that sets values for any parameters when the object is first created\n",
    "        # you dont directly call init, it runs when you create a new instance of the object\n",
    "        \n",
    "        # self variable is treated specially inside a class function \n",
    "        # it lets you access variables about the class in other methods within the class \n",
    "        self.name = definedName\n",
    "        self.taste = definedTaste\n",
    "    def printDetails(self):\n",
    "        print(\"This fruit is a \"+self.name+\" and it tastes \"+self.taste)\n",
    "    \n",
    "\n",
    "fruit1 = Fruit(\"apple\",\"sour\")\n",
    "fruit1.printDetails() \n"
   ]
  },
  {
   "cell_type": "code",
   "execution_count": 2,
   "metadata": {},
   "outputs": [],
   "source": [
    "class EdibleFood():\n",
    "    def __init__(self,definedName=\"not given\",definedTaste=\"not given\",definedEdible=False):\n",
    "        # setting a property equal to something like this sets a default value if that value isnt specicifed when isn't specified\n",
    "        self.name = definedName\n",
    "        self.taste = definedTaste\n",
    "        self.edible = definedEdible\n",
    "        self.eaten = 0 \n",
    "        \n",
    "    # print the details of the food \n",
    "    def printDetails(self):\n",
    "        print(\"This is \"+self.name+\". It tastes \"+self.taste+\".\")\n",
    "        print(\"Is it edible? \"+str(self.edible))\n",
    "        print(\"How much as been eaten? \"+str(100*self.eaten)+\"%\")\n",
    "\n",
    "    # add a method called bite that modified the eaten property\n",
    "    def bite(self,percentage):\n",
    "        if (self.edible):\n",
    "            # edible so we cantake a bite\n",
    "            \n",
    "            if(self.eaten<1):\n",
    "                # if there is enough food left\n",
    "                \n",
    "                if (percentage<=1-self.eaten):\n",
    "                    #percentage has to smaller or equal to whatever is left \n",
    "                    self.eaten += percentage\n",
    "                    print(\"You ate ....\")\n",
    "                \n",
    "                else:\n",
    "                    print(\"You cannot eat more than what is left\")\n",
    "            else:\n",
    "                print(\"There is nothing left to eat of this fruit\")\n",
    "            \n",
    "        else:\n",
    "            print(\"not edible! Do not bite!\")"
   ]
  },
  {
   "cell_type": "code",
   "execution_count": 4,
   "metadata": {},
   "outputs": [
    {
     "ename": "SyntaxError",
     "evalue": "invalid syntax (<ipython-input-4-887d51e90f0f>, line 2)",
     "output_type": "error",
     "traceback": [
      "\u001b[1;36m  File \u001b[1;32m\"<ipython-input-4-887d51e90f0f>\"\u001b[1;36m, line \u001b[1;32m2\u001b[0m\n\u001b[1;33m    banana1 = EdibleFood(\"banana\",,True)\u001b[0m\n\u001b[1;37m                                  ^\u001b[0m\n\u001b[1;31mSyntaxError\u001b[0m\u001b[1;31m:\u001b[0m invalid syntax\n"
     ]
    }
   ],
   "source": [
    "# tester examples\n",
    "banana1 = EdibleFood(\"banana\",,True)\n",
    "banana1.printDetails()\n",
    "banana1.bite(1)"
   ]
  },
  {
   "cell_type": "code",
   "execution_count": null,
   "metadata": {},
   "outputs": [],
   "source": [
    "class animal:\n",
    "    def _init_(self, definedName=None, definedAppearance=None,definedCarnivore=False):\n",
    "        "
   ]
  }
 ],
 "metadata": {
  "kernelspec": {
   "display_name": "Python 3",
   "language": "python",
   "name": "python3"
  },
  "language_info": {
   "codemirror_mode": {
    "name": "ipython",
    "version": 3
   },
   "file_extension": ".py",
   "mimetype": "text/x-python",
   "name": "python",
   "nbconvert_exporter": "python",
   "pygments_lexer": "ipython3",
   "version": "3.7.4"
  }
 },
 "nbformat": 4,
 "nbformat_minor": 2
}
